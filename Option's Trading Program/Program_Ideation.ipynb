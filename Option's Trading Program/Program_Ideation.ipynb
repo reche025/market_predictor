{
 "cells": [
  {
   "cell_type": "markdown",
   "metadata": {},
   "source": [
    "## API Documentation\n",
    "\n",
    "https://finnhub.io/docs/api#aggregate-indicator"
   ]
  },
  {
   "cell_type": "code",
   "execution_count": 1,
   "metadata": {},
   "outputs": [],
   "source": [
    "import pandas as pd\n",
    "import numpy as np\n",
    "import plotly.graph_objects as go\n",
    "import requests \n",
    "from bs4 import BeautifulSoup\n",
    "import finnhub\n",
    "import re\n",
    "from datetime import timedelta, datetime, date\n",
    "import time\n",
    "import matplotlib.pyplot as plt\n",
    "from statsmodels.tsa.seasonal import seasonal_decompose\n",
    "from statsmodels.tsa.arima_model import ARIMA\n",
    "import math\n",
    "from time import sleep\n",
    "import pandas_datareader as pdr\n",
    "from sklearn.linear_model import LogisticRegression as LR"
   ]
  },
  {
   "cell_type": "markdown",
   "metadata": {},
   "source": [
    "# Start Here"
   ]
  },
  {
   "cell_type": "code",
   "execution_count": 2,
   "metadata": {},
   "outputs": [],
   "source": [
    "# datetime.strptime(time.ctime(int(yesterday)), \"%a %b %d %H:%M:%S %Y\")\n"
   ]
  },
  {
   "cell_type": "code",
   "execution_count": 3,
   "metadata": {},
   "outputs": [],
   "source": [
    "wiki_text = requests.get('https://en.wikipedia.org/wiki/List_of_S%26P_500_companies').text"
   ]
  },
  {
   "cell_type": "code",
   "execution_count": 4,
   "metadata": {},
   "outputs": [
    {
     "data": {
      "text/plain": [
       "['MMM',\n",
       " 'ABT',\n",
       " 'ABBV',\n",
       " 'ABMD',\n",
       " 'ACN',\n",
       " 'ATVI',\n",
       " 'ADBE',\n",
       " 'AMD',\n",
       " 'AAP',\n",
       " 'AES',\n",
       " 'AFL',\n",
       " 'A',\n",
       " 'APD',\n",
       " 'AKAM',\n",
       " 'ALK',\n",
       " 'ALB',\n",
       " 'ARE',\n",
       " 'ALXN',\n",
       " 'ALGN',\n",
       " 'ALLE',\n",
       " 'LNT',\n",
       " 'ALL',\n",
       " 'GOOGL',\n",
       " 'GOOG',\n",
       " 'MO',\n",
       " 'AMZN',\n",
       " 'AMCR',\n",
       " 'AEE',\n",
       " 'AAL',\n",
       " 'AEP',\n",
       " 'AXP',\n",
       " 'AIG',\n",
       " 'AMT',\n",
       " 'AWK',\n",
       " 'AMP',\n",
       " 'ABC',\n",
       " 'AME',\n",
       " 'AMGN',\n",
       " 'APH',\n",
       " 'ADI',\n",
       " 'ANSS',\n",
       " 'ANTM',\n",
       " 'AON',\n",
       " 'AOS',\n",
       " 'APA',\n",
       " 'AIV',\n",
       " 'AAPL',\n",
       " 'AMAT',\n",
       " 'APTV',\n",
       " 'ADM',\n",
       " 'ANET',\n",
       " 'AJG',\n",
       " 'AIZ',\n",
       " 'T',\n",
       " 'ATO',\n",
       " 'ADSK',\n",
       " 'ADP',\n",
       " 'AZO',\n",
       " 'AVB',\n",
       " 'AVY',\n",
       " 'BKR',\n",
       " 'BLL',\n",
       " 'BAC',\n",
       " 'BK',\n",
       " 'BAX',\n",
       " 'BDX',\n",
       " 'BRK.B',\n",
       " 'BBY',\n",
       " 'BIO',\n",
       " 'BIIB',\n",
       " 'BLK',\n",
       " 'BA',\n",
       " 'BKNG',\n",
       " 'BWA',\n",
       " 'BXP',\n",
       " 'BSX',\n",
       " 'BMY',\n",
       " 'AVGO',\n",
       " 'BR',\n",
       " 'BF.B',\n",
       " 'CHRW',\n",
       " 'COG',\n",
       " 'CDNS',\n",
       " 'CPB',\n",
       " 'COF',\n",
       " 'CAH',\n",
       " 'KMX',\n",
       " 'CCL',\n",
       " 'CARR',\n",
       " 'CTLT',\n",
       " 'CAT',\n",
       " 'CBOE',\n",
       " 'CBRE',\n",
       " 'CDW',\n",
       " 'CE',\n",
       " 'CNC',\n",
       " 'CNP',\n",
       " 'CERN',\n",
       " 'CF',\n",
       " 'SCHW',\n",
       " 'CHTR',\n",
       " 'CVX',\n",
       " 'CMG',\n",
       " 'CB',\n",
       " 'CHD',\n",
       " 'CI',\n",
       " 'CINF',\n",
       " 'CTAS',\n",
       " 'CSCO',\n",
       " 'C',\n",
       " 'CFG',\n",
       " 'CTXS',\n",
       " 'CLX',\n",
       " 'CME',\n",
       " 'CMS',\n",
       " 'KO',\n",
       " 'CTSH',\n",
       " 'CL',\n",
       " 'CMCSA',\n",
       " 'CMA',\n",
       " 'CAG',\n",
       " 'CXO',\n",
       " 'COP',\n",
       " 'ED',\n",
       " 'STZ',\n",
       " 'COO',\n",
       " 'CPRT',\n",
       " 'GLW',\n",
       " 'CTVA',\n",
       " 'COST',\n",
       " 'CCI',\n",
       " 'CSX',\n",
       " 'CMI',\n",
       " 'CVS',\n",
       " 'DHI',\n",
       " 'DHR',\n",
       " 'DRI',\n",
       " 'DVA',\n",
       " 'DE',\n",
       " 'DAL',\n",
       " 'XRAY',\n",
       " 'DVN',\n",
       " 'DXCM',\n",
       " 'FANG',\n",
       " 'DLR',\n",
       " 'DFS',\n",
       " 'DISCA',\n",
       " 'DISCK',\n",
       " 'DISH',\n",
       " 'DG',\n",
       " 'DLTR',\n",
       " 'D',\n",
       " 'DPZ',\n",
       " 'DOV',\n",
       " 'DOW',\n",
       " 'DTE',\n",
       " 'DUK',\n",
       " 'DRE',\n",
       " 'DD',\n",
       " 'DXC',\n",
       " 'ETFC',\n",
       " 'EMN',\n",
       " 'ETN',\n",
       " 'EBAY',\n",
       " 'ECL',\n",
       " 'EIX',\n",
       " 'EW',\n",
       " 'EA',\n",
       " 'EMR',\n",
       " 'ETR',\n",
       " 'EOG',\n",
       " 'EFX',\n",
       " 'EQIX',\n",
       " 'EQR',\n",
       " 'ESS',\n",
       " 'EL',\n",
       " 'ETSY',\n",
       " 'EVRG',\n",
       " 'ES',\n",
       " 'RE',\n",
       " 'EXC',\n",
       " 'EXPE',\n",
       " 'EXPD',\n",
       " 'EXR',\n",
       " 'XOM',\n",
       " 'FFIV',\n",
       " 'FB',\n",
       " 'FAST',\n",
       " 'FRT',\n",
       " 'FDX',\n",
       " 'FIS',\n",
       " 'FITB',\n",
       " 'FE',\n",
       " 'FRC',\n",
       " 'FISV',\n",
       " 'FLT',\n",
       " 'FLIR',\n",
       " 'FLS',\n",
       " 'FMC',\n",
       " 'F',\n",
       " 'FTNT',\n",
       " 'FTV',\n",
       " 'FBHS',\n",
       " 'FOXA',\n",
       " 'FOX',\n",
       " 'BEN',\n",
       " 'FCX',\n",
       " 'GPS',\n",
       " 'GRMN',\n",
       " 'IT',\n",
       " 'GD',\n",
       " 'GE',\n",
       " 'GIS',\n",
       " 'GM',\n",
       " 'GPC',\n",
       " 'GILD',\n",
       " 'GL',\n",
       " 'GPN',\n",
       " 'GS',\n",
       " 'GWW',\n",
       " 'HAL',\n",
       " 'HBI',\n",
       " 'HIG',\n",
       " 'HAS',\n",
       " 'HCA',\n",
       " 'PEAK',\n",
       " 'HSIC',\n",
       " 'HSY',\n",
       " 'HES',\n",
       " 'HPE',\n",
       " 'HLT',\n",
       " 'HFC',\n",
       " 'HOLX',\n",
       " 'HD',\n",
       " 'HON',\n",
       " 'HRL',\n",
       " 'HST',\n",
       " 'HWM',\n",
       " 'HPQ',\n",
       " 'HUM',\n",
       " 'HBAN',\n",
       " 'HII',\n",
       " 'IEX',\n",
       " 'IDXX',\n",
       " 'INFO',\n",
       " 'ITW',\n",
       " 'ILMN',\n",
       " 'INCY',\n",
       " 'IR',\n",
       " 'INTC',\n",
       " 'ICE',\n",
       " 'IBM',\n",
       " 'IP',\n",
       " 'IPG',\n",
       " 'IFF',\n",
       " 'INTU',\n",
       " 'ISRG',\n",
       " 'IVZ',\n",
       " 'IPGP',\n",
       " 'IQV',\n",
       " 'IRM',\n",
       " 'JKHY',\n",
       " 'J',\n",
       " 'JBHT',\n",
       " 'SJM',\n",
       " 'JNJ',\n",
       " 'JCI',\n",
       " 'JPM',\n",
       " 'JNPR',\n",
       " 'KSU',\n",
       " 'K',\n",
       " 'KEY',\n",
       " 'KEYS',\n",
       " 'KMB',\n",
       " 'KIM',\n",
       " 'KMI',\n",
       " 'KLAC',\n",
       " 'KHC',\n",
       " 'KR',\n",
       " 'LB',\n",
       " 'LHX',\n",
       " 'LH',\n",
       " 'LRCX',\n",
       " 'LW',\n",
       " 'LVS',\n",
       " 'LEG',\n",
       " 'LDOS',\n",
       " 'LEN',\n",
       " 'LLY',\n",
       " 'LNC',\n",
       " 'LIN',\n",
       " 'LYV',\n",
       " 'LKQ',\n",
       " 'LMT',\n",
       " 'L',\n",
       " 'LOW',\n",
       " 'LUMN',\n",
       " 'LYB',\n",
       " 'MTB',\n",
       " 'MRO',\n",
       " 'MPC',\n",
       " 'MKTX',\n",
       " 'MAR',\n",
       " 'MMC',\n",
       " 'MLM',\n",
       " 'MAS',\n",
       " 'MA',\n",
       " 'MKC',\n",
       " 'MXIM',\n",
       " 'MCD',\n",
       " 'MCK',\n",
       " 'MDT',\n",
       " 'MRK',\n",
       " 'MET',\n",
       " 'MTD',\n",
       " 'MGM',\n",
       " 'MCHP',\n",
       " 'MU',\n",
       " 'MSFT',\n",
       " 'MAA',\n",
       " 'MHK',\n",
       " 'TAP',\n",
       " 'MDLZ',\n",
       " 'MNST',\n",
       " 'MCO',\n",
       " 'MS',\n",
       " 'MOS',\n",
       " 'MSI',\n",
       " 'MSCI',\n",
       " 'MYL',\n",
       " 'NDAQ',\n",
       " 'NOV',\n",
       " 'NTAP',\n",
       " 'NFLX',\n",
       " 'NWL',\n",
       " 'NEM',\n",
       " 'NWSA',\n",
       " 'NWS',\n",
       " 'NEE',\n",
       " 'NLSN',\n",
       " 'NKE',\n",
       " 'NI',\n",
       " 'NBL',\n",
       " 'NSC',\n",
       " 'NTRS',\n",
       " 'NOC',\n",
       " 'NLOK',\n",
       " 'NCLH',\n",
       " 'NRG',\n",
       " 'NUE',\n",
       " 'NVDA',\n",
       " 'NVR',\n",
       " 'ORLY',\n",
       " 'OXY',\n",
       " 'ODFL',\n",
       " 'OMC',\n",
       " 'OKE',\n",
       " 'ORCL',\n",
       " 'OTIS',\n",
       " 'PCAR',\n",
       " 'PKG',\n",
       " 'PH',\n",
       " 'PAYX',\n",
       " 'PAYC',\n",
       " 'PYPL',\n",
       " 'PNR',\n",
       " 'PBCT',\n",
       " 'PEP',\n",
       " 'PKI',\n",
       " 'PRGO',\n",
       " 'PFE',\n",
       " 'PM',\n",
       " 'PSX',\n",
       " 'PNW',\n",
       " 'PXD',\n",
       " 'PNC',\n",
       " 'PPG',\n",
       " 'PPL',\n",
       " 'PFG',\n",
       " 'PG',\n",
       " 'PGR',\n",
       " 'PLD',\n",
       " 'PRU',\n",
       " 'PEG',\n",
       " 'PSA',\n",
       " 'PHM',\n",
       " 'PVH',\n",
       " 'QRVO',\n",
       " 'PWR',\n",
       " 'QCOM',\n",
       " 'DGX',\n",
       " 'RL',\n",
       " 'RJF',\n",
       " 'RTX',\n",
       " 'O',\n",
       " 'REG',\n",
       " 'REGN',\n",
       " 'RF',\n",
       " 'RSG',\n",
       " 'RMD',\n",
       " 'RHI',\n",
       " 'ROK',\n",
       " 'ROL',\n",
       " 'ROP',\n",
       " 'ROST',\n",
       " 'RCL',\n",
       " 'SPGI',\n",
       " 'CRM',\n",
       " 'SBAC',\n",
       " 'SLB',\n",
       " 'STX',\n",
       " 'SEE',\n",
       " 'SRE',\n",
       " 'NOW',\n",
       " 'SHW',\n",
       " 'SPG',\n",
       " 'SWKS',\n",
       " 'SLG',\n",
       " 'SNA',\n",
       " 'SO',\n",
       " 'LUV',\n",
       " 'SWK',\n",
       " 'SBUX',\n",
       " 'STT',\n",
       " 'STE',\n",
       " 'SYK',\n",
       " 'SIVB',\n",
       " 'SYF',\n",
       " 'SNPS',\n",
       " 'SYY',\n",
       " 'TMUS',\n",
       " 'TROW',\n",
       " 'TTWO',\n",
       " 'TPR',\n",
       " 'TGT',\n",
       " 'TEL',\n",
       " 'FTI',\n",
       " 'TDY',\n",
       " 'TFX',\n",
       " 'TER',\n",
       " 'TXN',\n",
       " 'TXT',\n",
       " 'TMO',\n",
       " 'TIF',\n",
       " 'TJX',\n",
       " 'TSCO',\n",
       " 'TT',\n",
       " 'TDG',\n",
       " 'TRV',\n",
       " 'TFC',\n",
       " 'TWTR',\n",
       " 'TYL',\n",
       " 'TSN',\n",
       " 'UDR',\n",
       " 'ULTA',\n",
       " 'USB',\n",
       " 'UAA',\n",
       " 'UA',\n",
       " 'UNP',\n",
       " 'UAL',\n",
       " 'UNH',\n",
       " 'UPS',\n",
       " 'URI',\n",
       " 'UHS',\n",
       " 'UNM',\n",
       " 'VFC',\n",
       " 'VLO',\n",
       " 'VAR',\n",
       " 'VTR',\n",
       " 'VRSN',\n",
       " 'VRSK',\n",
       " 'VZ',\n",
       " 'VRTX',\n",
       " 'VIAC',\n",
       " 'V',\n",
       " 'VNO',\n",
       " 'VMC',\n",
       " 'WRB',\n",
       " 'WAB',\n",
       " 'WMT',\n",
       " 'WBA',\n",
       " 'DIS',\n",
       " 'WM',\n",
       " 'WAT',\n",
       " 'WEC',\n",
       " 'WFC',\n",
       " 'WELL',\n",
       " 'WST',\n",
       " 'WDC',\n",
       " 'WU',\n",
       " 'WRK',\n",
       " 'WY',\n",
       " 'WHR',\n",
       " 'WMB',\n",
       " 'WLTW',\n",
       " 'WYNN',\n",
       " 'XEL',\n",
       " 'XRX',\n",
       " 'XLNX',\n",
       " 'XYL',\n",
       " 'YUM',\n",
       " 'ZBRA',\n",
       " 'ZBH',\n",
       " 'ZION',\n",
       " 'ZTS']"
      ]
     },
     "execution_count": 4,
     "metadata": {},
     "output_type": "execute_result"
    }
   ],
   "source": [
    "stock_tickr_html = re.findall('rel=\"nofollow\" class=\"external text\".*</a>',wiki_text)\n",
    "stock_tickers = [re.sub('</a>','',re.sub('^.*\">','',stock)) for stock in stock_tickr_html]\n",
    "stock_tickers_clean = [stock for stock in stock_tickers if stock != 'reports' and re.match('[A-Z]{1,4}', stock)][:505]\n",
    "\n",
    "stock_tickers_clean"
   ]
  },
  {
   "cell_type": "code",
   "execution_count": 7,
   "metadata": {},
   "outputs": [],
   "source": [
    "r = requests.get(f'https://finnhub.io/api/v1/scan/technical-indicator?symbol=AAPL&resolution=D&token=btj7jgn48v6p9f1q4oe0')\n",
    "\n",
    "json_type = r.json()\n",
    "\n"
   ]
  },
  {
   "cell_type": "code",
   "execution_count": 8,
   "metadata": {},
   "outputs": [
    {
     "data": {
      "text/plain": [
       "{'technicalAnalysis': {'count': {'buy': 7, 'neutral': 7, 'sell': 3},\n",
       "  'signal': 'buy'},\n",
       " 'trend': {'adx': 20.29844772636207, 'trending': False}}"
      ]
     },
     "execution_count": 8,
     "metadata": {},
     "output_type": "execute_result"
    }
   ],
   "source": [
    "json_type"
   ]
  },
  {
   "cell_type": "code",
   "execution_count": 9,
   "metadata": {},
   "outputs": [
    {
     "data": {
      "text/plain": [
       "11"
      ]
     },
     "execution_count": 9,
     "metadata": {},
     "output_type": "execute_result"
    }
   ],
   "source": [
    "neutral = json_type.get('technicalAnalysis').get('count').get('neutral')\n",
    "buy = json_type.get('technicalAnalysis').get('count').get('buy')\n",
    "sell = json_type.get('technicalAnalysis').get('count').get('sell')\n",
    "\n",
    "buy + neutral - sell"
   ]
  },
  {
   "cell_type": "code",
   "execution_count": 10,
   "metadata": {
    "scrolled": false
   },
   "outputs": [],
   "source": [
    "\n",
    "def get_stock_analysis(stock_count = 15):\n",
    "\n",
    "    stock_indicator_dict = {'ticker' : [], 'indication' : [], 'ind_strength' : []}\n",
    "\n",
    "    for stock in stock_tickers_clean[0:stock_count + 1]:\n",
    "\n",
    "        sleep(0.35)\n",
    "\n",
    "        r = requests.get(f'https://finnhub.io/api/v1/scan/technical-indicator?symbol={stock}&resolution=D&token=btj7jgn48v6p9f1q4oe0')\n",
    "\n",
    "        json_type = r.json()\n",
    "\n",
    "        try:\n",
    "\n",
    "            neutral = json_type.get('technicalAnalysis').get('count').get('neutral')\n",
    "\n",
    "        except:\n",
    "\n",
    "            neutral = 0\n",
    "\n",
    "        try:\n",
    "\n",
    "            buy = json_type.get('technicalAnalysis').get('count').get('buy')\n",
    "\n",
    "        except:\n",
    "\n",
    "            buy = 0\n",
    "\n",
    "        try:\n",
    "\n",
    "            sell = json_type.get('technicalAnalysis').get('count').get('sell')\n",
    "\n",
    "        except:\n",
    "\n",
    "            sell = 0\n",
    "\n",
    "        try:\n",
    "\n",
    "            agg_result = json_type.get('technicalAnalysis').get('signal')\n",
    "\n",
    "        except:\n",
    "\n",
    "            agg_result = None\n",
    "\n",
    "\n",
    "        if (sell + buy + math.floor(neutral * 0.6)) > 0:\n",
    "\n",
    "            if \"sell\" in agg_result:\n",
    "\n",
    "                calculation = round(sell / (sell + buy + math.floor(neutral * 0.6)),2)\n",
    "\n",
    "                stock_indicator_dict['ticker'].append(stock) \n",
    "                stock_indicator_dict['indication'].append(agg_result)\n",
    "                stock_indicator_dict['ind_strength'].append(calculation)\n",
    "        #         print(stock, agg_result, calculation)\n",
    "\n",
    "            elif \"buy\" in agg_result:\n",
    "\n",
    "                calculation = round(buy / (sell + buy + math.floor(neutral * 0.6)),2)\n",
    "\n",
    "                stock_indicator_dict['ticker'].append(stock) \n",
    "                stock_indicator_dict['indication'].append(agg_result)\n",
    "                stock_indicator_dict['ind_strength'].append(calculation)\n",
    "\n",
    "        #         print(stock, agg_result, calculation)\n",
    "\n",
    "            else:\n",
    "\n",
    "                continue\n",
    "\n",
    "        else:\n",
    "\n",
    "            continue\n",
    "\n",
    "\n",
    "    stock_df = pd.DataFrame.from_dict(stock_indicator_dict) \n",
    "    \n",
    "    return(stock_df)\n"
   ]
  },
  {
   "cell_type": "code",
   "execution_count": 11,
   "metadata": {},
   "outputs": [],
   "source": [
    "%time\n",
    "stock_df = get_stock_analysis(15)"
   ]
  },
  {
   "cell_type": "code",
   "execution_count": 12,
   "metadata": {},
   "outputs": [
    {
     "data": {
      "text/html": [
       "<div>\n",
       "<style scoped>\n",
       "    .dataframe tbody tr th:only-of-type {\n",
       "        vertical-align: middle;\n",
       "    }\n",
       "\n",
       "    .dataframe tbody tr th {\n",
       "        vertical-align: top;\n",
       "    }\n",
       "\n",
       "    .dataframe thead th {\n",
       "        text-align: right;\n",
       "    }\n",
       "</style>\n",
       "<table border=\"1\" class=\"dataframe\">\n",
       "  <thead>\n",
       "    <tr style=\"text-align: right;\">\n",
       "      <th></th>\n",
       "      <th>ticker</th>\n",
       "      <th>indication</th>\n",
       "      <th>ind_strength</th>\n",
       "    </tr>\n",
       "  </thead>\n",
       "  <tbody>\n",
       "    <tr>\n",
       "      <th>0</th>\n",
       "      <td>ABT</td>\n",
       "      <td>buy</td>\n",
       "      <td>0.71</td>\n",
       "    </tr>\n",
       "    <tr>\n",
       "      <th>1</th>\n",
       "      <td>ADBE</td>\n",
       "      <td>buy</td>\n",
       "      <td>0.50</td>\n",
       "    </tr>\n",
       "    <tr>\n",
       "      <th>2</th>\n",
       "      <td>AMD</td>\n",
       "      <td>buy</td>\n",
       "      <td>0.57</td>\n",
       "    </tr>\n",
       "    <tr>\n",
       "      <th>3</th>\n",
       "      <td>AAP</td>\n",
       "      <td>buy</td>\n",
       "      <td>0.54</td>\n",
       "    </tr>\n",
       "    <tr>\n",
       "      <th>4</th>\n",
       "      <td>AES</td>\n",
       "      <td>buy</td>\n",
       "      <td>0.60</td>\n",
       "    </tr>\n",
       "    <tr>\n",
       "      <th>5</th>\n",
       "      <td>AFL</td>\n",
       "      <td>buy</td>\n",
       "      <td>0.57</td>\n",
       "    </tr>\n",
       "    <tr>\n",
       "      <th>6</th>\n",
       "      <td>A</td>\n",
       "      <td>strong buy</td>\n",
       "      <td>0.80</td>\n",
       "    </tr>\n",
       "    <tr>\n",
       "      <th>7</th>\n",
       "      <td>AKAM</td>\n",
       "      <td>buy</td>\n",
       "      <td>0.57</td>\n",
       "    </tr>\n",
       "  </tbody>\n",
       "</table>\n",
       "</div>"
      ],
      "text/plain": [
       "  ticker  indication  ind_strength\n",
       "0    ABT         buy          0.71\n",
       "1   ADBE         buy          0.50\n",
       "2    AMD         buy          0.57\n",
       "3    AAP         buy          0.54\n",
       "4    AES         buy          0.60\n",
       "5    AFL         buy          0.57\n",
       "6      A  strong buy          0.80\n",
       "7   AKAM         buy          0.57"
      ]
     },
     "execution_count": 12,
     "metadata": {},
     "output_type": "execute_result"
    }
   ],
   "source": [
    "stock_df"
   ]
  },
  {
   "cell_type": "code",
   "execution_count": 28,
   "metadata": {},
   "outputs": [],
   "source": [
    "strong_movers = stock_df[stock_df['ind_strength'] >= 0.60]"
   ]
  },
  {
   "cell_type": "code",
   "execution_count": 29,
   "metadata": {},
   "outputs": [
    {
     "data": {
      "text/html": [
       "<div>\n",
       "<style scoped>\n",
       "    .dataframe tbody tr th:only-of-type {\n",
       "        vertical-align: middle;\n",
       "    }\n",
       "\n",
       "    .dataframe tbody tr th {\n",
       "        vertical-align: top;\n",
       "    }\n",
       "\n",
       "    .dataframe thead th {\n",
       "        text-align: right;\n",
       "    }\n",
       "</style>\n",
       "<table border=\"1\" class=\"dataframe\">\n",
       "  <thead>\n",
       "    <tr style=\"text-align: right;\">\n",
       "      <th></th>\n",
       "      <th>ticker</th>\n",
       "      <th>indication</th>\n",
       "      <th>ind_strength</th>\n",
       "    </tr>\n",
       "  </thead>\n",
       "  <tbody>\n",
       "    <tr>\n",
       "      <th>0</th>\n",
       "      <td>ABT</td>\n",
       "      <td>buy</td>\n",
       "      <td>0.71</td>\n",
       "    </tr>\n",
       "    <tr>\n",
       "      <th>4</th>\n",
       "      <td>AES</td>\n",
       "      <td>buy</td>\n",
       "      <td>0.60</td>\n",
       "    </tr>\n",
       "    <tr>\n",
       "      <th>6</th>\n",
       "      <td>A</td>\n",
       "      <td>strong buy</td>\n",
       "      <td>0.80</td>\n",
       "    </tr>\n",
       "  </tbody>\n",
       "</table>\n",
       "</div>"
      ],
      "text/plain": [
       "  ticker  indication  ind_strength\n",
       "0    ABT         buy          0.71\n",
       "4    AES         buy          0.60\n",
       "6      A  strong buy          0.80"
      ]
     },
     "execution_count": 29,
     "metadata": {},
     "output_type": "execute_result"
    }
   ],
   "source": [
    "strong_movers"
   ]
  },
  {
   "cell_type": "code",
   "execution_count": 13,
   "metadata": {},
   "outputs": [
    {
     "data": {
      "text/html": [
       "<div>\n",
       "<style scoped>\n",
       "    .dataframe tbody tr th:only-of-type {\n",
       "        vertical-align: middle;\n",
       "    }\n",
       "\n",
       "    .dataframe tbody tr th {\n",
       "        vertical-align: top;\n",
       "    }\n",
       "\n",
       "    .dataframe thead th {\n",
       "        text-align: right;\n",
       "    }\n",
       "</style>\n",
       "<table border=\"1\" class=\"dataframe\">\n",
       "  <thead>\n",
       "    <tr style=\"text-align: right;\">\n",
       "      <th></th>\n",
       "      <th>ticker</th>\n",
       "      <th>indication</th>\n",
       "      <th>ind_strength</th>\n",
       "    </tr>\n",
       "  </thead>\n",
       "  <tbody>\n",
       "  </tbody>\n",
       "</table>\n",
       "</div>"
      ],
      "text/plain": [
       "Empty DataFrame\n",
       "Columns: [ticker, indication, ind_strength]\n",
       "Index: []"
      ]
     },
     "execution_count": 13,
     "metadata": {},
     "output_type": "execute_result"
    }
   ],
   "source": [
    "stock_df[stock_df['indication'].str.contains('strong')]"
   ]
  },
  {
   "cell_type": "code",
   "execution_count": 14,
   "metadata": {},
   "outputs": [
    {
     "data": {
      "text/plain": [
       "array(['ABT', 'AMD', 'AES', 'AFL'], dtype=object)"
      ]
     },
     "execution_count": 14,
     "metadata": {},
     "output_type": "execute_result"
    }
   ],
   "source": [
    "strong_movers['ticker'].values"
   ]
  },
  {
   "cell_type": "code",
   "execution_count": 86,
   "metadata": {},
   "outputs": [
    {
     "data": {
      "text/plain": [
       "datetime.date(2020, 10, 6)"
      ]
     },
     "execution_count": 86,
     "metadata": {},
     "output_type": "execute_result"
    }
   ],
   "source": [
    "date.today()"
   ]
  },
  {
   "cell_type": "code",
   "execution_count": 4,
   "metadata": {},
   "outputs": [
    {
     "data": {
      "application/vnd.plotly.v1+json": {
       "config": {
        "plotlyServerURL": "https://plot.ly"
       },
       "data": [
        {
         "line": {
          "color": "royalblue",
          "width": 2.5
         },
         "name": "Close",
         "type": "scatter",
         "x": [
          "2020-06-29T00:00:00",
          "2020-06-30T00:00:00",
          "2020-07-01T00:00:00",
          "2020-07-02T00:00:00",
          "2020-07-06T00:00:00",
          "2020-07-07T00:00:00",
          "2020-07-08T00:00:00",
          "2020-07-09T00:00:00",
          "2020-07-10T00:00:00",
          "2020-07-13T00:00:00",
          "2020-07-14T00:00:00",
          "2020-07-15T00:00:00",
          "2020-07-16T00:00:00",
          "2020-07-17T00:00:00",
          "2020-07-20T00:00:00",
          "2020-07-21T00:00:00",
          "2020-07-22T00:00:00",
          "2020-07-23T00:00:00",
          "2020-07-24T00:00:00",
          "2020-07-27T00:00:00",
          "2020-07-28T00:00:00",
          "2020-07-29T00:00:00",
          "2020-07-30T00:00:00",
          "2020-07-31T00:00:00",
          "2020-08-03T00:00:00",
          "2020-08-04T00:00:00",
          "2020-08-05T00:00:00",
          "2020-08-06T00:00:00",
          "2020-08-07T00:00:00",
          "2020-08-10T00:00:00",
          "2020-08-11T00:00:00",
          "2020-08-12T00:00:00",
          "2020-08-13T00:00:00",
          "2020-08-14T00:00:00",
          "2020-08-17T00:00:00",
          "2020-08-18T00:00:00",
          "2020-08-19T00:00:00",
          "2020-08-20T00:00:00",
          "2020-08-21T00:00:00",
          "2020-08-24T00:00:00",
          "2020-08-25T00:00:00",
          "2020-08-26T00:00:00",
          "2020-08-27T00:00:00",
          "2020-08-28T00:00:00",
          "2020-08-31T00:00:00",
          "2020-09-01T00:00:00",
          "2020-09-02T00:00:00",
          "2020-09-03T00:00:00",
          "2020-09-04T00:00:00",
          "2020-09-08T00:00:00",
          "2020-09-09T00:00:00",
          "2020-09-10T00:00:00",
          "2020-09-11T00:00:00",
          "2020-09-14T00:00:00",
          "2020-09-15T00:00:00",
          "2020-09-16T00:00:00",
          "2020-09-17T00:00:00",
          "2020-09-18T00:00:00",
          "2020-09-21T00:00:00",
          "2020-09-22T00:00:00",
          "2020-09-23T00:00:00",
          "2020-09-24T00:00:00",
          "2020-09-25T00:00:00",
          "2020-09-28T00:00:00",
          "2020-09-29T00:00:00",
          "2020-09-30T00:00:00",
          "2020-10-01T00:00:00",
          "2020-10-02T00:00:00",
          "2020-10-05T00:00:00",
          "2020-10-06T00:00:00",
          "2020-10-07T00:00:00",
          "2020-10-08T00:00:00",
          "2020-10-09T00:00:00"
         ],
         "y": [
          29.780000686645508,
          30.540000915527344,
          31.90999984741211,
          30.93000030517578,
          29.780000686645508,
          28.600000381469727,
          28.8700008392334,
          29.850000381469727,
          29.43000030517578,
          28.649999618530273,
          29.139999389648438,
          34.40999984741211,
          34.95000076293945,
          33.70000076293945,
          33.56999969482422,
          36.0099983215332,
          35.93000030517578,
          33.84000015258789,
          34.779998779296875,
          32.86000061035156,
          33.20000076293945,
          37.41999816894531,
          36.810001373291016,
          33.849998474121094,
          36.099998474121094,
          37.41999816894531,
          38.38999938964844,
          43.86000061035156,
          49,
          45.380001068115234,
          46.599998474121094,
          49.7599983215332,
          53.349998474121094,
          52.47999954223633,
          53.369998931884766,
          55.380001068115234,
          54.72999954223633,
          56.58000183105469,
          55.599998474121094,
          55.7400016784668,
          56.18000030517578,
          55.18000030517578,
          55.13999938964844,
          53.720001220703125,
          51.099998474121094,
          57.93000030517578,
          57.529998779296875,
          53.91999816894531,
          54.150001525878906,
          55.310001373291016,
          58.150001525878906,
          62.459999084472656,
          59.189998626708984,
          65.54000091552734,
          68.2300033569336,
          67.83999633789062,
          73,
          70.5999984741211,
          70.08000183105469,
          74.36000061035156,
          69,
          63.97999954223633,
          69.8499984741211,
          72.91999816894531,
          69.41000366210938,
          72.69999694824219,
          74.06999969482422,
          72.75,
          70.48999786376953,
          67.94000244140625,
          68.44999694824219,
          65.69000244140625,
          64.69999694824219
         ]
        },
        {
         "line": {
          "color": "firebrick",
          "dash": "dash",
          "width": 1.5
         },
         "name": "5 Moving Avg.",
         "type": "scatter",
         "x": [
          "2020-06-29T00:00:00",
          "2020-06-30T00:00:00",
          "2020-07-01T00:00:00",
          "2020-07-02T00:00:00",
          "2020-07-06T00:00:00",
          "2020-07-07T00:00:00",
          "2020-07-08T00:00:00",
          "2020-07-09T00:00:00",
          "2020-07-10T00:00:00",
          "2020-07-13T00:00:00",
          "2020-07-14T00:00:00",
          "2020-07-15T00:00:00",
          "2020-07-16T00:00:00",
          "2020-07-17T00:00:00",
          "2020-07-20T00:00:00",
          "2020-07-21T00:00:00",
          "2020-07-22T00:00:00",
          "2020-07-23T00:00:00",
          "2020-07-24T00:00:00",
          "2020-07-27T00:00:00",
          "2020-07-28T00:00:00",
          "2020-07-29T00:00:00",
          "2020-07-30T00:00:00",
          "2020-07-31T00:00:00",
          "2020-08-03T00:00:00",
          "2020-08-04T00:00:00",
          "2020-08-05T00:00:00",
          "2020-08-06T00:00:00",
          "2020-08-07T00:00:00",
          "2020-08-10T00:00:00",
          "2020-08-11T00:00:00",
          "2020-08-12T00:00:00",
          "2020-08-13T00:00:00",
          "2020-08-14T00:00:00",
          "2020-08-17T00:00:00",
          "2020-08-18T00:00:00",
          "2020-08-19T00:00:00",
          "2020-08-20T00:00:00",
          "2020-08-21T00:00:00",
          "2020-08-24T00:00:00",
          "2020-08-25T00:00:00",
          "2020-08-26T00:00:00",
          "2020-08-27T00:00:00",
          "2020-08-28T00:00:00",
          "2020-08-31T00:00:00",
          "2020-09-01T00:00:00",
          "2020-09-02T00:00:00",
          "2020-09-03T00:00:00",
          "2020-09-04T00:00:00",
          "2020-09-08T00:00:00",
          "2020-09-09T00:00:00",
          "2020-09-10T00:00:00",
          "2020-09-11T00:00:00",
          "2020-09-14T00:00:00",
          "2020-09-15T00:00:00",
          "2020-09-16T00:00:00",
          "2020-09-17T00:00:00",
          "2020-09-18T00:00:00",
          "2020-09-21T00:00:00",
          "2020-09-22T00:00:00",
          "2020-09-23T00:00:00",
          "2020-09-24T00:00:00",
          "2020-09-25T00:00:00",
          "2020-09-28T00:00:00",
          "2020-09-29T00:00:00",
          "2020-09-30T00:00:00",
          "2020-10-01T00:00:00",
          "2020-10-02T00:00:00",
          "2020-10-05T00:00:00",
          "2020-10-06T00:00:00",
          "2020-10-07T00:00:00",
          "2020-10-08T00:00:00",
          "2020-10-09T00:00:00"
         ],
         "y": [
          29.780000686645508,
          30.03333409627279,
          30.658889346652565,
          30.749259666160306,
          30.426173339655378,
          29.817449020260163,
          29.501632959917913,
          29.61775543376852,
          29.555170390904273,
          29.25344680011294,
          29.215630996624775,
          30.947087280220558,
          32.28139177446019,
          32.754261437286615,
          33.02617418979915,
          34.020782233710506,
          34.65718825753227,
          34.384792222550814,
          34.51652774146617,
          33.964352031094634,
          33.70956827504291,
          34.946378239677045,
          35.56758595088171,
          34.9950567919615,
          35.363370686014704,
          36.04891318032491,
          36.82927525009942,
          39.17285037018347,
          42.44856691345565,
          43.42571163167551,
          44.48380724582404,
          46.24253760439376,
          48.61169122763621,
          49.901127332502924,
          51.05741786563021,
          52.49827893312522,
          53.24218580282893,
          54.35479114557085,
          54.7698602550876,
          55.09324072954733,
          55.45549392142348,
          55.36366271600759,
          55.28910827388788,
          54.766072589492964,
          53.544047884369014,
          55.00603202463794,
          55.84735427619092,
          55.204902240442394,
          54.85326866892123,
          55.005512903711164,
          56.05367577776708,
          58.18911688000228,
          58.52274412890452,
          60.861829724445464,
          63.31788760194151,
          64.82525718059122,
          67.55017145372749,
          68.56678046052537,
          69.07118758403514,
          70.83412525947395,
          70.22275017298264,
          68.1418332960672,
          68.71122168875183,
          70.11414718214967,
          69.87943267546957,
          70.81962076639378,
          71.90308040920394,
          72.1853869394693,
          71.62025724756938,
          70.393505645515,
          69.74566941309074,
          68.39378042252925,
          67.16251926443357
         ]
        },
        {
         "line": {
          "color": "green",
          "dash": "dash",
          "width": 1.5
         },
         "name": "26 Moving Avg.",
         "type": "scatter",
         "x": [
          "2020-06-29T00:00:00",
          "2020-06-30T00:00:00",
          "2020-07-01T00:00:00",
          "2020-07-02T00:00:00",
          "2020-07-06T00:00:00",
          "2020-07-07T00:00:00",
          "2020-07-08T00:00:00",
          "2020-07-09T00:00:00",
          "2020-07-10T00:00:00",
          "2020-07-13T00:00:00",
          "2020-07-14T00:00:00",
          "2020-07-15T00:00:00",
          "2020-07-16T00:00:00",
          "2020-07-17T00:00:00",
          "2020-07-20T00:00:00",
          "2020-07-21T00:00:00",
          "2020-07-22T00:00:00",
          "2020-07-23T00:00:00",
          "2020-07-24T00:00:00",
          "2020-07-27T00:00:00",
          "2020-07-28T00:00:00",
          "2020-07-29T00:00:00",
          "2020-07-30T00:00:00",
          "2020-07-31T00:00:00",
          "2020-08-03T00:00:00",
          "2020-08-04T00:00:00",
          "2020-08-05T00:00:00",
          "2020-08-06T00:00:00",
          "2020-08-07T00:00:00",
          "2020-08-10T00:00:00",
          "2020-08-11T00:00:00",
          "2020-08-12T00:00:00",
          "2020-08-13T00:00:00",
          "2020-08-14T00:00:00",
          "2020-08-17T00:00:00",
          "2020-08-18T00:00:00",
          "2020-08-19T00:00:00",
          "2020-08-20T00:00:00",
          "2020-08-21T00:00:00",
          "2020-08-24T00:00:00",
          "2020-08-25T00:00:00",
          "2020-08-26T00:00:00",
          "2020-08-27T00:00:00",
          "2020-08-28T00:00:00",
          "2020-08-31T00:00:00",
          "2020-09-01T00:00:00",
          "2020-09-02T00:00:00",
          "2020-09-03T00:00:00",
          "2020-09-04T00:00:00",
          "2020-09-08T00:00:00",
          "2020-09-09T00:00:00",
          "2020-09-10T00:00:00",
          "2020-09-11T00:00:00",
          "2020-09-14T00:00:00",
          "2020-09-15T00:00:00",
          "2020-09-16T00:00:00",
          "2020-09-17T00:00:00",
          "2020-09-18T00:00:00",
          "2020-09-21T00:00:00",
          "2020-09-22T00:00:00",
          "2020-09-23T00:00:00",
          "2020-09-24T00:00:00",
          "2020-09-25T00:00:00",
          "2020-09-28T00:00:00",
          "2020-09-29T00:00:00",
          "2020-09-30T00:00:00",
          "2020-10-01T00:00:00",
          "2020-10-02T00:00:00",
          "2020-10-05T00:00:00",
          "2020-10-06T00:00:00",
          "2020-10-07T00:00:00",
          "2020-10-08T00:00:00",
          "2020-10-09T00:00:00"
         ],
         "y": [
          29.780000686645508,
          29.836296999896014,
          29.98990461823054,
          30.05954133578204,
          30.038834621031185,
          29.9322543069896,
          29.853568864933585,
          29.853304532825153,
          29.821948664110387,
          29.735137623697042,
          29.691053310063815,
          30.040604905422946,
          30.404263857831573,
          30.648392517469194,
          30.864807863939937,
          31.245933083020923,
          31.592901025402764,
          31.759352812601662,
          31.983104365690195,
          32.04805964307252,
          32.133388614914516,
          32.5249893226205,
          32.84239762267017,
          32.91703472277764,
          33.15280981546975,
          33.468897841653124,
          33.83342388224537,
          34.576133269512496,
          35.6445678421412,
          36.3657110440652,
          37.12380640925453,
          38.059820624978876,
          39.192426391582,
          40.17669106940825,
          41.1539731332954,
          42.20775298031909,
          43.13532679972037,
          44.13122865389328,
          44.980767159095336,
          45.77774749386359,
          46.54828473914598,
          47.18767107737041,
          47.776732433835456,
          48.21697456619602,
          48.43053189270899,
          49.13419621955838,
          49.756107520279755,
          50.06454386462535,
          50.36717035805154,
          50.73330598881002,
          51.282690843407714,
          52.110639602005115,
          52.63503656679799,
          53.59095985188906,
          54.675333444855326,
          55.650493659154236,
          56.93564227699466,
          57.94781681011514,
          58.846497182036586,
          59.99564558413399,
          60.66263480012407,
          60.90836552176201,
          61.570708703418234,
          62.41139681197579,
          62.929812134207914,
          63.65352952784008,
          64.42511991057964,
          65.04177769498115,
          65.44534955933585,
          65.63013866171144,
          65.8390170533063,
          65.82797893390631,
          65.744424712746
         ]
        }
       ],
       "layout": {
        "template": {
         "data": {
          "bar": [
           {
            "error_x": {
             "color": "#2a3f5f"
            },
            "error_y": {
             "color": "#2a3f5f"
            },
            "marker": {
             "line": {
              "color": "#E5ECF6",
              "width": 0.5
             }
            },
            "type": "bar"
           }
          ],
          "barpolar": [
           {
            "marker": {
             "line": {
              "color": "#E5ECF6",
              "width": 0.5
             }
            },
            "type": "barpolar"
           }
          ],
          "carpet": [
           {
            "aaxis": {
             "endlinecolor": "#2a3f5f",
             "gridcolor": "white",
             "linecolor": "white",
             "minorgridcolor": "white",
             "startlinecolor": "#2a3f5f"
            },
            "baxis": {
             "endlinecolor": "#2a3f5f",
             "gridcolor": "white",
             "linecolor": "white",
             "minorgridcolor": "white",
             "startlinecolor": "#2a3f5f"
            },
            "type": "carpet"
           }
          ],
          "choropleth": [
           {
            "colorbar": {
             "outlinewidth": 0,
             "ticks": ""
            },
            "type": "choropleth"
           }
          ],
          "contour": [
           {
            "colorbar": {
             "outlinewidth": 0,
             "ticks": ""
            },
            "colorscale": [
             [
              0,
              "#0d0887"
             ],
             [
              0.1111111111111111,
              "#46039f"
             ],
             [
              0.2222222222222222,
              "#7201a8"
             ],
             [
              0.3333333333333333,
              "#9c179e"
             ],
             [
              0.4444444444444444,
              "#bd3786"
             ],
             [
              0.5555555555555556,
              "#d8576b"
             ],
             [
              0.6666666666666666,
              "#ed7953"
             ],
             [
              0.7777777777777778,
              "#fb9f3a"
             ],
             [
              0.8888888888888888,
              "#fdca26"
             ],
             [
              1,
              "#f0f921"
             ]
            ],
            "type": "contour"
           }
          ],
          "contourcarpet": [
           {
            "colorbar": {
             "outlinewidth": 0,
             "ticks": ""
            },
            "type": "contourcarpet"
           }
          ],
          "heatmap": [
           {
            "colorbar": {
             "outlinewidth": 0,
             "ticks": ""
            },
            "colorscale": [
             [
              0,
              "#0d0887"
             ],
             [
              0.1111111111111111,
              "#46039f"
             ],
             [
              0.2222222222222222,
              "#7201a8"
             ],
             [
              0.3333333333333333,
              "#9c179e"
             ],
             [
              0.4444444444444444,
              "#bd3786"
             ],
             [
              0.5555555555555556,
              "#d8576b"
             ],
             [
              0.6666666666666666,
              "#ed7953"
             ],
             [
              0.7777777777777778,
              "#fb9f3a"
             ],
             [
              0.8888888888888888,
              "#fdca26"
             ],
             [
              1,
              "#f0f921"
             ]
            ],
            "type": "heatmap"
           }
          ],
          "heatmapgl": [
           {
            "colorbar": {
             "outlinewidth": 0,
             "ticks": ""
            },
            "colorscale": [
             [
              0,
              "#0d0887"
             ],
             [
              0.1111111111111111,
              "#46039f"
             ],
             [
              0.2222222222222222,
              "#7201a8"
             ],
             [
              0.3333333333333333,
              "#9c179e"
             ],
             [
              0.4444444444444444,
              "#bd3786"
             ],
             [
              0.5555555555555556,
              "#d8576b"
             ],
             [
              0.6666666666666666,
              "#ed7953"
             ],
             [
              0.7777777777777778,
              "#fb9f3a"
             ],
             [
              0.8888888888888888,
              "#fdca26"
             ],
             [
              1,
              "#f0f921"
             ]
            ],
            "type": "heatmapgl"
           }
          ],
          "histogram": [
           {
            "marker": {
             "colorbar": {
              "outlinewidth": 0,
              "ticks": ""
             }
            },
            "type": "histogram"
           }
          ],
          "histogram2d": [
           {
            "colorbar": {
             "outlinewidth": 0,
             "ticks": ""
            },
            "colorscale": [
             [
              0,
              "#0d0887"
             ],
             [
              0.1111111111111111,
              "#46039f"
             ],
             [
              0.2222222222222222,
              "#7201a8"
             ],
             [
              0.3333333333333333,
              "#9c179e"
             ],
             [
              0.4444444444444444,
              "#bd3786"
             ],
             [
              0.5555555555555556,
              "#d8576b"
             ],
             [
              0.6666666666666666,
              "#ed7953"
             ],
             [
              0.7777777777777778,
              "#fb9f3a"
             ],
             [
              0.8888888888888888,
              "#fdca26"
             ],
             [
              1,
              "#f0f921"
             ]
            ],
            "type": "histogram2d"
           }
          ],
          "histogram2dcontour": [
           {
            "colorbar": {
             "outlinewidth": 0,
             "ticks": ""
            },
            "colorscale": [
             [
              0,
              "#0d0887"
             ],
             [
              0.1111111111111111,
              "#46039f"
             ],
             [
              0.2222222222222222,
              "#7201a8"
             ],
             [
              0.3333333333333333,
              "#9c179e"
             ],
             [
              0.4444444444444444,
              "#bd3786"
             ],
             [
              0.5555555555555556,
              "#d8576b"
             ],
             [
              0.6666666666666666,
              "#ed7953"
             ],
             [
              0.7777777777777778,
              "#fb9f3a"
             ],
             [
              0.8888888888888888,
              "#fdca26"
             ],
             [
              1,
              "#f0f921"
             ]
            ],
            "type": "histogram2dcontour"
           }
          ],
          "mesh3d": [
           {
            "colorbar": {
             "outlinewidth": 0,
             "ticks": ""
            },
            "type": "mesh3d"
           }
          ],
          "parcoords": [
           {
            "line": {
             "colorbar": {
              "outlinewidth": 0,
              "ticks": ""
             }
            },
            "type": "parcoords"
           }
          ],
          "pie": [
           {
            "automargin": true,
            "type": "pie"
           }
          ],
          "scatter": [
           {
            "marker": {
             "colorbar": {
              "outlinewidth": 0,
              "ticks": ""
             }
            },
            "type": "scatter"
           }
          ],
          "scatter3d": [
           {
            "line": {
             "colorbar": {
              "outlinewidth": 0,
              "ticks": ""
             }
            },
            "marker": {
             "colorbar": {
              "outlinewidth": 0,
              "ticks": ""
             }
            },
            "type": "scatter3d"
           }
          ],
          "scattercarpet": [
           {
            "marker": {
             "colorbar": {
              "outlinewidth": 0,
              "ticks": ""
             }
            },
            "type": "scattercarpet"
           }
          ],
          "scattergeo": [
           {
            "marker": {
             "colorbar": {
              "outlinewidth": 0,
              "ticks": ""
             }
            },
            "type": "scattergeo"
           }
          ],
          "scattergl": [
           {
            "marker": {
             "colorbar": {
              "outlinewidth": 0,
              "ticks": ""
             }
            },
            "type": "scattergl"
           }
          ],
          "scattermapbox": [
           {
            "marker": {
             "colorbar": {
              "outlinewidth": 0,
              "ticks": ""
             }
            },
            "type": "scattermapbox"
           }
          ],
          "scatterpolar": [
           {
            "marker": {
             "colorbar": {
              "outlinewidth": 0,
              "ticks": ""
             }
            },
            "type": "scatterpolar"
           }
          ],
          "scatterpolargl": [
           {
            "marker": {
             "colorbar": {
              "outlinewidth": 0,
              "ticks": ""
             }
            },
            "type": "scatterpolargl"
           }
          ],
          "scatterternary": [
           {
            "marker": {
             "colorbar": {
              "outlinewidth": 0,
              "ticks": ""
             }
            },
            "type": "scatterternary"
           }
          ],
          "surface": [
           {
            "colorbar": {
             "outlinewidth": 0,
             "ticks": ""
            },
            "colorscale": [
             [
              0,
              "#0d0887"
             ],
             [
              0.1111111111111111,
              "#46039f"
             ],
             [
              0.2222222222222222,
              "#7201a8"
             ],
             [
              0.3333333333333333,
              "#9c179e"
             ],
             [
              0.4444444444444444,
              "#bd3786"
             ],
             [
              0.5555555555555556,
              "#d8576b"
             ],
             [
              0.6666666666666666,
              "#ed7953"
             ],
             [
              0.7777777777777778,
              "#fb9f3a"
             ],
             [
              0.8888888888888888,
              "#fdca26"
             ],
             [
              1,
              "#f0f921"
             ]
            ],
            "type": "surface"
           }
          ],
          "table": [
           {
            "cells": {
             "fill": {
              "color": "#EBF0F8"
             },
             "line": {
              "color": "white"
             }
            },
            "header": {
             "fill": {
              "color": "#C8D4E3"
             },
             "line": {
              "color": "white"
             }
            },
            "type": "table"
           }
          ]
         },
         "layout": {
          "annotationdefaults": {
           "arrowcolor": "#2a3f5f",
           "arrowhead": 0,
           "arrowwidth": 1
          },
          "coloraxis": {
           "colorbar": {
            "outlinewidth": 0,
            "ticks": ""
           }
          },
          "colorscale": {
           "diverging": [
            [
             0,
             "#8e0152"
            ],
            [
             0.1,
             "#c51b7d"
            ],
            [
             0.2,
             "#de77ae"
            ],
            [
             0.3,
             "#f1b6da"
            ],
            [
             0.4,
             "#fde0ef"
            ],
            [
             0.5,
             "#f7f7f7"
            ],
            [
             0.6,
             "#e6f5d0"
            ],
            [
             0.7,
             "#b8e186"
            ],
            [
             0.8,
             "#7fbc41"
            ],
            [
             0.9,
             "#4d9221"
            ],
            [
             1,
             "#276419"
            ]
           ],
           "sequential": [
            [
             0,
             "#0d0887"
            ],
            [
             0.1111111111111111,
             "#46039f"
            ],
            [
             0.2222222222222222,
             "#7201a8"
            ],
            [
             0.3333333333333333,
             "#9c179e"
            ],
            [
             0.4444444444444444,
             "#bd3786"
            ],
            [
             0.5555555555555556,
             "#d8576b"
            ],
            [
             0.6666666666666666,
             "#ed7953"
            ],
            [
             0.7777777777777778,
             "#fb9f3a"
            ],
            [
             0.8888888888888888,
             "#fdca26"
            ],
            [
             1,
             "#f0f921"
            ]
           ],
           "sequentialminus": [
            [
             0,
             "#0d0887"
            ],
            [
             0.1111111111111111,
             "#46039f"
            ],
            [
             0.2222222222222222,
             "#7201a8"
            ],
            [
             0.3333333333333333,
             "#9c179e"
            ],
            [
             0.4444444444444444,
             "#bd3786"
            ],
            [
             0.5555555555555556,
             "#d8576b"
            ],
            [
             0.6666666666666666,
             "#ed7953"
            ],
            [
             0.7777777777777778,
             "#fb9f3a"
            ],
            [
             0.8888888888888888,
             "#fdca26"
            ],
            [
             1,
             "#f0f921"
            ]
           ]
          },
          "colorway": [
           "#636efa",
           "#EF553B",
           "#00cc96",
           "#ab63fa",
           "#FFA15A",
           "#19d3f3",
           "#FF6692",
           "#B6E880",
           "#FF97FF",
           "#FECB52"
          ],
          "font": {
           "color": "#2a3f5f"
          },
          "geo": {
           "bgcolor": "white",
           "lakecolor": "white",
           "landcolor": "#E5ECF6",
           "showlakes": true,
           "showland": true,
           "subunitcolor": "white"
          },
          "hoverlabel": {
           "align": "left"
          },
          "hovermode": "closest",
          "mapbox": {
           "style": "light"
          },
          "paper_bgcolor": "white",
          "plot_bgcolor": "#E5ECF6",
          "polar": {
           "angularaxis": {
            "gridcolor": "white",
            "linecolor": "white",
            "ticks": ""
           },
           "bgcolor": "#E5ECF6",
           "radialaxis": {
            "gridcolor": "white",
            "linecolor": "white",
            "ticks": ""
           }
          },
          "scene": {
           "xaxis": {
            "backgroundcolor": "#E5ECF6",
            "gridcolor": "white",
            "gridwidth": 2,
            "linecolor": "white",
            "showbackground": true,
            "ticks": "",
            "zerolinecolor": "white"
           },
           "yaxis": {
            "backgroundcolor": "#E5ECF6",
            "gridcolor": "white",
            "gridwidth": 2,
            "linecolor": "white",
            "showbackground": true,
            "ticks": "",
            "zerolinecolor": "white"
           },
           "zaxis": {
            "backgroundcolor": "#E5ECF6",
            "gridcolor": "white",
            "gridwidth": 2,
            "linecolor": "white",
            "showbackground": true,
            "ticks": "",
            "zerolinecolor": "white"
           }
          },
          "shapedefaults": {
           "line": {
            "color": "#2a3f5f"
           }
          },
          "ternary": {
           "aaxis": {
            "gridcolor": "white",
            "linecolor": "white",
            "ticks": ""
           },
           "baxis": {
            "gridcolor": "white",
            "linecolor": "white",
            "ticks": ""
           },
           "bgcolor": "#E5ECF6",
           "caxis": {
            "gridcolor": "white",
            "linecolor": "white",
            "ticks": ""
           }
          },
          "title": {
           "x": 0.05
          },
          "xaxis": {
           "automargin": true,
           "gridcolor": "white",
           "linecolor": "white",
           "ticks": "",
           "title": {
            "standoff": 15
           },
           "zerolinecolor": "white",
           "zerolinewidth": 2
          },
          "yaxis": {
           "automargin": true,
           "gridcolor": "white",
           "linecolor": "white",
           "ticks": "",
           "title": {
            "standoff": 15
           },
           "zerolinecolor": "white",
           "zerolinewidth": 2
          }
         }
        },
        "title": {
         "text": "PENN Price Trend"
        },
        "xaxis": {
         "title": {
          "text": "Day"
         }
        },
        "yaxis": {
         "title": {
          "text": "Price"
         }
        }
       }
      },
      "text/html": [
       "<div>\n",
       "        \n",
       "        \n",
       "            <div id=\"38deef5d-24dd-483f-9106-87b48f66b1b6\" class=\"plotly-graph-div\" style=\"height:525px; width:100%;\"></div>\n",
       "            <script type=\"text/javascript\">\n",
       "                require([\"plotly\"], function(Plotly) {\n",
       "                    window.PLOTLYENV=window.PLOTLYENV || {};\n",
       "                    \n",
       "                if (document.getElementById(\"38deef5d-24dd-483f-9106-87b48f66b1b6\")) {\n",
       "                    Plotly.newPlot(\n",
       "                        '38deef5d-24dd-483f-9106-87b48f66b1b6',\n",
       "                        [{\"line\": {\"color\": \"royalblue\", \"width\": 2.5}, \"name\": \"Close\", \"type\": \"scatter\", \"x\": [\"2020-06-29T00:00:00\", \"2020-06-30T00:00:00\", \"2020-07-01T00:00:00\", \"2020-07-02T00:00:00\", \"2020-07-06T00:00:00\", \"2020-07-07T00:00:00\", \"2020-07-08T00:00:00\", \"2020-07-09T00:00:00\", \"2020-07-10T00:00:00\", \"2020-07-13T00:00:00\", \"2020-07-14T00:00:00\", \"2020-07-15T00:00:00\", \"2020-07-16T00:00:00\", \"2020-07-17T00:00:00\", \"2020-07-20T00:00:00\", \"2020-07-21T00:00:00\", \"2020-07-22T00:00:00\", \"2020-07-23T00:00:00\", \"2020-07-24T00:00:00\", \"2020-07-27T00:00:00\", \"2020-07-28T00:00:00\", \"2020-07-29T00:00:00\", \"2020-07-30T00:00:00\", \"2020-07-31T00:00:00\", \"2020-08-03T00:00:00\", \"2020-08-04T00:00:00\", \"2020-08-05T00:00:00\", \"2020-08-06T00:00:00\", \"2020-08-07T00:00:00\", \"2020-08-10T00:00:00\", \"2020-08-11T00:00:00\", \"2020-08-12T00:00:00\", \"2020-08-13T00:00:00\", \"2020-08-14T00:00:00\", \"2020-08-17T00:00:00\", \"2020-08-18T00:00:00\", \"2020-08-19T00:00:00\", \"2020-08-20T00:00:00\", \"2020-08-21T00:00:00\", \"2020-08-24T00:00:00\", \"2020-08-25T00:00:00\", \"2020-08-26T00:00:00\", \"2020-08-27T00:00:00\", \"2020-08-28T00:00:00\", \"2020-08-31T00:00:00\", \"2020-09-01T00:00:00\", \"2020-09-02T00:00:00\", \"2020-09-03T00:00:00\", \"2020-09-04T00:00:00\", \"2020-09-08T00:00:00\", \"2020-09-09T00:00:00\", \"2020-09-10T00:00:00\", \"2020-09-11T00:00:00\", \"2020-09-14T00:00:00\", \"2020-09-15T00:00:00\", \"2020-09-16T00:00:00\", \"2020-09-17T00:00:00\", \"2020-09-18T00:00:00\", \"2020-09-21T00:00:00\", \"2020-09-22T00:00:00\", \"2020-09-23T00:00:00\", \"2020-09-24T00:00:00\", \"2020-09-25T00:00:00\", \"2020-09-28T00:00:00\", \"2020-09-29T00:00:00\", \"2020-09-30T00:00:00\", \"2020-10-01T00:00:00\", \"2020-10-02T00:00:00\", \"2020-10-05T00:00:00\", \"2020-10-06T00:00:00\", \"2020-10-07T00:00:00\", \"2020-10-08T00:00:00\", \"2020-10-09T00:00:00\"], \"y\": [29.780000686645508, 30.540000915527344, 31.90999984741211, 30.93000030517578, 29.780000686645508, 28.600000381469727, 28.8700008392334, 29.850000381469727, 29.43000030517578, 28.649999618530273, 29.139999389648438, 34.40999984741211, 34.95000076293945, 33.70000076293945, 33.56999969482422, 36.0099983215332, 35.93000030517578, 33.84000015258789, 34.779998779296875, 32.86000061035156, 33.20000076293945, 37.41999816894531, 36.810001373291016, 33.849998474121094, 36.099998474121094, 37.41999816894531, 38.38999938964844, 43.86000061035156, 49.0, 45.380001068115234, 46.599998474121094, 49.7599983215332, 53.349998474121094, 52.47999954223633, 53.369998931884766, 55.380001068115234, 54.72999954223633, 56.58000183105469, 55.599998474121094, 55.7400016784668, 56.18000030517578, 55.18000030517578, 55.13999938964844, 53.720001220703125, 51.099998474121094, 57.93000030517578, 57.529998779296875, 53.91999816894531, 54.150001525878906, 55.310001373291016, 58.150001525878906, 62.459999084472656, 59.189998626708984, 65.54000091552734, 68.2300033569336, 67.83999633789062, 73.0, 70.5999984741211, 70.08000183105469, 74.36000061035156, 69.0, 63.97999954223633, 69.8499984741211, 72.91999816894531, 69.41000366210938, 72.69999694824219, 74.06999969482422, 72.75, 70.48999786376953, 67.94000244140625, 68.44999694824219, 65.69000244140625, 64.69999694824219]}, {\"line\": {\"color\": \"firebrick\", \"dash\": \"dash\", \"width\": 1.5}, \"name\": \"5 Moving Avg.\", \"type\": \"scatter\", \"x\": [\"2020-06-29T00:00:00\", \"2020-06-30T00:00:00\", \"2020-07-01T00:00:00\", \"2020-07-02T00:00:00\", \"2020-07-06T00:00:00\", \"2020-07-07T00:00:00\", \"2020-07-08T00:00:00\", \"2020-07-09T00:00:00\", \"2020-07-10T00:00:00\", \"2020-07-13T00:00:00\", \"2020-07-14T00:00:00\", \"2020-07-15T00:00:00\", \"2020-07-16T00:00:00\", \"2020-07-17T00:00:00\", \"2020-07-20T00:00:00\", \"2020-07-21T00:00:00\", \"2020-07-22T00:00:00\", \"2020-07-23T00:00:00\", \"2020-07-24T00:00:00\", \"2020-07-27T00:00:00\", \"2020-07-28T00:00:00\", \"2020-07-29T00:00:00\", \"2020-07-30T00:00:00\", \"2020-07-31T00:00:00\", \"2020-08-03T00:00:00\", \"2020-08-04T00:00:00\", \"2020-08-05T00:00:00\", \"2020-08-06T00:00:00\", \"2020-08-07T00:00:00\", \"2020-08-10T00:00:00\", \"2020-08-11T00:00:00\", \"2020-08-12T00:00:00\", \"2020-08-13T00:00:00\", \"2020-08-14T00:00:00\", \"2020-08-17T00:00:00\", \"2020-08-18T00:00:00\", \"2020-08-19T00:00:00\", \"2020-08-20T00:00:00\", \"2020-08-21T00:00:00\", \"2020-08-24T00:00:00\", \"2020-08-25T00:00:00\", \"2020-08-26T00:00:00\", \"2020-08-27T00:00:00\", \"2020-08-28T00:00:00\", \"2020-08-31T00:00:00\", \"2020-09-01T00:00:00\", \"2020-09-02T00:00:00\", \"2020-09-03T00:00:00\", \"2020-09-04T00:00:00\", \"2020-09-08T00:00:00\", \"2020-09-09T00:00:00\", \"2020-09-10T00:00:00\", \"2020-09-11T00:00:00\", \"2020-09-14T00:00:00\", \"2020-09-15T00:00:00\", \"2020-09-16T00:00:00\", \"2020-09-17T00:00:00\", \"2020-09-18T00:00:00\", \"2020-09-21T00:00:00\", \"2020-09-22T00:00:00\", \"2020-09-23T00:00:00\", \"2020-09-24T00:00:00\", \"2020-09-25T00:00:00\", \"2020-09-28T00:00:00\", \"2020-09-29T00:00:00\", \"2020-09-30T00:00:00\", \"2020-10-01T00:00:00\", \"2020-10-02T00:00:00\", \"2020-10-05T00:00:00\", \"2020-10-06T00:00:00\", \"2020-10-07T00:00:00\", \"2020-10-08T00:00:00\", \"2020-10-09T00:00:00\"], \"y\": [29.780000686645508, 30.03333409627279, 30.658889346652565, 30.749259666160306, 30.426173339655378, 29.817449020260163, 29.501632959917913, 29.61775543376852, 29.555170390904273, 29.25344680011294, 29.215630996624775, 30.947087280220558, 32.28139177446019, 32.754261437286615, 33.02617418979915, 34.020782233710506, 34.65718825753227, 34.384792222550814, 34.51652774146617, 33.964352031094634, 33.70956827504291, 34.946378239677045, 35.56758595088171, 34.9950567919615, 35.363370686014704, 36.04891318032491, 36.82927525009942, 39.17285037018347, 42.44856691345565, 43.42571163167551, 44.48380724582404, 46.24253760439376, 48.61169122763621, 49.901127332502924, 51.05741786563021, 52.49827893312522, 53.24218580282893, 54.35479114557085, 54.7698602550876, 55.09324072954733, 55.45549392142348, 55.36366271600759, 55.28910827388788, 54.766072589492964, 53.544047884369014, 55.00603202463794, 55.84735427619092, 55.204902240442394, 54.85326866892123, 55.005512903711164, 56.05367577776708, 58.18911688000228, 58.52274412890452, 60.861829724445464, 63.31788760194151, 64.82525718059122, 67.55017145372749, 68.56678046052537, 69.07118758403514, 70.83412525947395, 70.22275017298264, 68.1418332960672, 68.71122168875183, 70.11414718214967, 69.87943267546957, 70.81962076639378, 71.90308040920394, 72.1853869394693, 71.62025724756938, 70.393505645515, 69.74566941309074, 68.39378042252925, 67.16251926443357]}, {\"line\": {\"color\": \"green\", \"dash\": \"dash\", \"width\": 1.5}, \"name\": \"26 Moving Avg.\", \"type\": \"scatter\", \"x\": [\"2020-06-29T00:00:00\", \"2020-06-30T00:00:00\", \"2020-07-01T00:00:00\", \"2020-07-02T00:00:00\", \"2020-07-06T00:00:00\", \"2020-07-07T00:00:00\", \"2020-07-08T00:00:00\", \"2020-07-09T00:00:00\", \"2020-07-10T00:00:00\", \"2020-07-13T00:00:00\", \"2020-07-14T00:00:00\", \"2020-07-15T00:00:00\", \"2020-07-16T00:00:00\", \"2020-07-17T00:00:00\", \"2020-07-20T00:00:00\", \"2020-07-21T00:00:00\", \"2020-07-22T00:00:00\", \"2020-07-23T00:00:00\", \"2020-07-24T00:00:00\", \"2020-07-27T00:00:00\", \"2020-07-28T00:00:00\", \"2020-07-29T00:00:00\", \"2020-07-30T00:00:00\", \"2020-07-31T00:00:00\", \"2020-08-03T00:00:00\", \"2020-08-04T00:00:00\", \"2020-08-05T00:00:00\", \"2020-08-06T00:00:00\", \"2020-08-07T00:00:00\", \"2020-08-10T00:00:00\", \"2020-08-11T00:00:00\", \"2020-08-12T00:00:00\", \"2020-08-13T00:00:00\", \"2020-08-14T00:00:00\", \"2020-08-17T00:00:00\", \"2020-08-18T00:00:00\", \"2020-08-19T00:00:00\", \"2020-08-20T00:00:00\", \"2020-08-21T00:00:00\", \"2020-08-24T00:00:00\", \"2020-08-25T00:00:00\", \"2020-08-26T00:00:00\", \"2020-08-27T00:00:00\", \"2020-08-28T00:00:00\", \"2020-08-31T00:00:00\", \"2020-09-01T00:00:00\", \"2020-09-02T00:00:00\", \"2020-09-03T00:00:00\", \"2020-09-04T00:00:00\", \"2020-09-08T00:00:00\", \"2020-09-09T00:00:00\", \"2020-09-10T00:00:00\", \"2020-09-11T00:00:00\", \"2020-09-14T00:00:00\", \"2020-09-15T00:00:00\", \"2020-09-16T00:00:00\", \"2020-09-17T00:00:00\", \"2020-09-18T00:00:00\", \"2020-09-21T00:00:00\", \"2020-09-22T00:00:00\", \"2020-09-23T00:00:00\", \"2020-09-24T00:00:00\", \"2020-09-25T00:00:00\", \"2020-09-28T00:00:00\", \"2020-09-29T00:00:00\", \"2020-09-30T00:00:00\", \"2020-10-01T00:00:00\", \"2020-10-02T00:00:00\", \"2020-10-05T00:00:00\", \"2020-10-06T00:00:00\", \"2020-10-07T00:00:00\", \"2020-10-08T00:00:00\", \"2020-10-09T00:00:00\"], \"y\": [29.780000686645508, 29.836296999896014, 29.98990461823054, 30.05954133578204, 30.038834621031185, 29.9322543069896, 29.853568864933585, 29.853304532825153, 29.821948664110387, 29.735137623697042, 29.691053310063815, 30.040604905422946, 30.404263857831573, 30.648392517469194, 30.864807863939937, 31.245933083020923, 31.592901025402764, 31.759352812601662, 31.983104365690195, 32.04805964307252, 32.133388614914516, 32.5249893226205, 32.84239762267017, 32.91703472277764, 33.15280981546975, 33.468897841653124, 33.83342388224537, 34.576133269512496, 35.6445678421412, 36.3657110440652, 37.12380640925453, 38.059820624978876, 39.192426391582, 40.17669106940825, 41.1539731332954, 42.20775298031909, 43.13532679972037, 44.13122865389328, 44.980767159095336, 45.77774749386359, 46.54828473914598, 47.18767107737041, 47.776732433835456, 48.21697456619602, 48.43053189270899, 49.13419621955838, 49.756107520279755, 50.06454386462535, 50.36717035805154, 50.73330598881002, 51.282690843407714, 52.110639602005115, 52.63503656679799, 53.59095985188906, 54.675333444855326, 55.650493659154236, 56.93564227699466, 57.94781681011514, 58.846497182036586, 59.99564558413399, 60.66263480012407, 60.90836552176201, 61.570708703418234, 62.41139681197579, 62.929812134207914, 63.65352952784008, 64.42511991057964, 65.04177769498115, 65.44534955933585, 65.63013866171144, 65.8390170533063, 65.82797893390631, 65.744424712746]}],\n",
       "                        {\"template\": {\"data\": {\"bar\": [{\"error_x\": {\"color\": \"#2a3f5f\"}, \"error_y\": {\"color\": \"#2a3f5f\"}, \"marker\": {\"line\": {\"color\": \"#E5ECF6\", \"width\": 0.5}}, \"type\": \"bar\"}], \"barpolar\": [{\"marker\": {\"line\": {\"color\": \"#E5ECF6\", \"width\": 0.5}}, \"type\": \"barpolar\"}], \"carpet\": [{\"aaxis\": {\"endlinecolor\": \"#2a3f5f\", \"gridcolor\": \"white\", \"linecolor\": \"white\", \"minorgridcolor\": \"white\", \"startlinecolor\": \"#2a3f5f\"}, \"baxis\": {\"endlinecolor\": \"#2a3f5f\", \"gridcolor\": \"white\", \"linecolor\": \"white\", \"minorgridcolor\": \"white\", \"startlinecolor\": \"#2a3f5f\"}, \"type\": \"carpet\"}], \"choropleth\": [{\"colorbar\": {\"outlinewidth\": 0, \"ticks\": \"\"}, \"type\": \"choropleth\"}], \"contour\": [{\"colorbar\": {\"outlinewidth\": 0, \"ticks\": \"\"}, \"colorscale\": [[0.0, \"#0d0887\"], [0.1111111111111111, \"#46039f\"], [0.2222222222222222, \"#7201a8\"], [0.3333333333333333, \"#9c179e\"], [0.4444444444444444, \"#bd3786\"], [0.5555555555555556, \"#d8576b\"], [0.6666666666666666, \"#ed7953\"], [0.7777777777777778, \"#fb9f3a\"], [0.8888888888888888, \"#fdca26\"], [1.0, \"#f0f921\"]], \"type\": \"contour\"}], \"contourcarpet\": [{\"colorbar\": {\"outlinewidth\": 0, \"ticks\": \"\"}, \"type\": \"contourcarpet\"}], \"heatmap\": [{\"colorbar\": {\"outlinewidth\": 0, \"ticks\": \"\"}, \"colorscale\": [[0.0, \"#0d0887\"], [0.1111111111111111, \"#46039f\"], [0.2222222222222222, \"#7201a8\"], [0.3333333333333333, \"#9c179e\"], [0.4444444444444444, \"#bd3786\"], [0.5555555555555556, \"#d8576b\"], [0.6666666666666666, \"#ed7953\"], [0.7777777777777778, \"#fb9f3a\"], [0.8888888888888888, \"#fdca26\"], [1.0, \"#f0f921\"]], \"type\": \"heatmap\"}], \"heatmapgl\": [{\"colorbar\": {\"outlinewidth\": 0, \"ticks\": \"\"}, \"colorscale\": [[0.0, \"#0d0887\"], [0.1111111111111111, \"#46039f\"], [0.2222222222222222, \"#7201a8\"], [0.3333333333333333, \"#9c179e\"], [0.4444444444444444, \"#bd3786\"], [0.5555555555555556, \"#d8576b\"], [0.6666666666666666, \"#ed7953\"], [0.7777777777777778, \"#fb9f3a\"], [0.8888888888888888, \"#fdca26\"], [1.0, \"#f0f921\"]], \"type\": \"heatmapgl\"}], \"histogram\": [{\"marker\": {\"colorbar\": {\"outlinewidth\": 0, \"ticks\": \"\"}}, \"type\": \"histogram\"}], \"histogram2d\": [{\"colorbar\": {\"outlinewidth\": 0, \"ticks\": \"\"}, \"colorscale\": [[0.0, \"#0d0887\"], [0.1111111111111111, \"#46039f\"], [0.2222222222222222, \"#7201a8\"], [0.3333333333333333, \"#9c179e\"], [0.4444444444444444, \"#bd3786\"], [0.5555555555555556, \"#d8576b\"], [0.6666666666666666, \"#ed7953\"], [0.7777777777777778, \"#fb9f3a\"], [0.8888888888888888, \"#fdca26\"], [1.0, \"#f0f921\"]], \"type\": \"histogram2d\"}], \"histogram2dcontour\": [{\"colorbar\": {\"outlinewidth\": 0, \"ticks\": \"\"}, \"colorscale\": [[0.0, \"#0d0887\"], [0.1111111111111111, \"#46039f\"], [0.2222222222222222, \"#7201a8\"], [0.3333333333333333, \"#9c179e\"], [0.4444444444444444, \"#bd3786\"], [0.5555555555555556, \"#d8576b\"], [0.6666666666666666, \"#ed7953\"], [0.7777777777777778, \"#fb9f3a\"], [0.8888888888888888, \"#fdca26\"], [1.0, \"#f0f921\"]], \"type\": \"histogram2dcontour\"}], \"mesh3d\": [{\"colorbar\": {\"outlinewidth\": 0, \"ticks\": \"\"}, \"type\": \"mesh3d\"}], \"parcoords\": [{\"line\": {\"colorbar\": {\"outlinewidth\": 0, \"ticks\": \"\"}}, \"type\": \"parcoords\"}], \"pie\": [{\"automargin\": true, \"type\": \"pie\"}], \"scatter\": [{\"marker\": {\"colorbar\": {\"outlinewidth\": 0, \"ticks\": \"\"}}, \"type\": \"scatter\"}], \"scatter3d\": [{\"line\": {\"colorbar\": {\"outlinewidth\": 0, \"ticks\": \"\"}}, \"marker\": {\"colorbar\": {\"outlinewidth\": 0, \"ticks\": \"\"}}, \"type\": \"scatter3d\"}], \"scattercarpet\": [{\"marker\": {\"colorbar\": {\"outlinewidth\": 0, \"ticks\": \"\"}}, \"type\": \"scattercarpet\"}], \"scattergeo\": [{\"marker\": {\"colorbar\": {\"outlinewidth\": 0, \"ticks\": \"\"}}, \"type\": \"scattergeo\"}], \"scattergl\": [{\"marker\": {\"colorbar\": {\"outlinewidth\": 0, \"ticks\": \"\"}}, \"type\": \"scattergl\"}], \"scattermapbox\": [{\"marker\": {\"colorbar\": {\"outlinewidth\": 0, \"ticks\": \"\"}}, \"type\": \"scattermapbox\"}], \"scatterpolar\": [{\"marker\": {\"colorbar\": {\"outlinewidth\": 0, \"ticks\": \"\"}}, \"type\": \"scatterpolar\"}], \"scatterpolargl\": [{\"marker\": {\"colorbar\": {\"outlinewidth\": 0, \"ticks\": \"\"}}, \"type\": \"scatterpolargl\"}], \"scatterternary\": [{\"marker\": {\"colorbar\": {\"outlinewidth\": 0, \"ticks\": \"\"}}, \"type\": \"scatterternary\"}], \"surface\": [{\"colorbar\": {\"outlinewidth\": 0, \"ticks\": \"\"}, \"colorscale\": [[0.0, \"#0d0887\"], [0.1111111111111111, \"#46039f\"], [0.2222222222222222, \"#7201a8\"], [0.3333333333333333, \"#9c179e\"], [0.4444444444444444, \"#bd3786\"], [0.5555555555555556, \"#d8576b\"], [0.6666666666666666, \"#ed7953\"], [0.7777777777777778, \"#fb9f3a\"], [0.8888888888888888, \"#fdca26\"], [1.0, \"#f0f921\"]], \"type\": \"surface\"}], \"table\": [{\"cells\": {\"fill\": {\"color\": \"#EBF0F8\"}, \"line\": {\"color\": \"white\"}}, \"header\": {\"fill\": {\"color\": \"#C8D4E3\"}, \"line\": {\"color\": \"white\"}}, \"type\": \"table\"}]}, \"layout\": {\"annotationdefaults\": {\"arrowcolor\": \"#2a3f5f\", \"arrowhead\": 0, \"arrowwidth\": 1}, \"coloraxis\": {\"colorbar\": {\"outlinewidth\": 0, \"ticks\": \"\"}}, \"colorscale\": {\"diverging\": [[0, \"#8e0152\"], [0.1, \"#c51b7d\"], [0.2, \"#de77ae\"], [0.3, \"#f1b6da\"], [0.4, \"#fde0ef\"], [0.5, \"#f7f7f7\"], [0.6, \"#e6f5d0\"], [0.7, \"#b8e186\"], [0.8, \"#7fbc41\"], [0.9, \"#4d9221\"], [1, \"#276419\"]], \"sequential\": [[0.0, \"#0d0887\"], [0.1111111111111111, \"#46039f\"], [0.2222222222222222, \"#7201a8\"], [0.3333333333333333, \"#9c179e\"], [0.4444444444444444, \"#bd3786\"], [0.5555555555555556, \"#d8576b\"], [0.6666666666666666, \"#ed7953\"], [0.7777777777777778, \"#fb9f3a\"], [0.8888888888888888, \"#fdca26\"], [1.0, \"#f0f921\"]], \"sequentialminus\": [[0.0, \"#0d0887\"], [0.1111111111111111, \"#46039f\"], [0.2222222222222222, \"#7201a8\"], [0.3333333333333333, \"#9c179e\"], [0.4444444444444444, \"#bd3786\"], [0.5555555555555556, \"#d8576b\"], [0.6666666666666666, \"#ed7953\"], [0.7777777777777778, \"#fb9f3a\"], [0.8888888888888888, \"#fdca26\"], [1.0, \"#f0f921\"]]}, \"colorway\": [\"#636efa\", \"#EF553B\", \"#00cc96\", \"#ab63fa\", \"#FFA15A\", \"#19d3f3\", \"#FF6692\", \"#B6E880\", \"#FF97FF\", \"#FECB52\"], \"font\": {\"color\": \"#2a3f5f\"}, \"geo\": {\"bgcolor\": \"white\", \"lakecolor\": \"white\", \"landcolor\": \"#E5ECF6\", \"showlakes\": true, \"showland\": true, \"subunitcolor\": \"white\"}, \"hoverlabel\": {\"align\": \"left\"}, \"hovermode\": \"closest\", \"mapbox\": {\"style\": \"light\"}, \"paper_bgcolor\": \"white\", \"plot_bgcolor\": \"#E5ECF6\", \"polar\": {\"angularaxis\": {\"gridcolor\": \"white\", \"linecolor\": \"white\", \"ticks\": \"\"}, \"bgcolor\": \"#E5ECF6\", \"radialaxis\": {\"gridcolor\": \"white\", \"linecolor\": \"white\", \"ticks\": \"\"}}, \"scene\": {\"xaxis\": {\"backgroundcolor\": \"#E5ECF6\", \"gridcolor\": \"white\", \"gridwidth\": 2, \"linecolor\": \"white\", \"showbackground\": true, \"ticks\": \"\", \"zerolinecolor\": \"white\"}, \"yaxis\": {\"backgroundcolor\": \"#E5ECF6\", \"gridcolor\": \"white\", \"gridwidth\": 2, \"linecolor\": \"white\", \"showbackground\": true, \"ticks\": \"\", \"zerolinecolor\": \"white\"}, \"zaxis\": {\"backgroundcolor\": \"#E5ECF6\", \"gridcolor\": \"white\", \"gridwidth\": 2, \"linecolor\": \"white\", \"showbackground\": true, \"ticks\": \"\", \"zerolinecolor\": \"white\"}}, \"shapedefaults\": {\"line\": {\"color\": \"#2a3f5f\"}}, \"ternary\": {\"aaxis\": {\"gridcolor\": \"white\", \"linecolor\": \"white\", \"ticks\": \"\"}, \"baxis\": {\"gridcolor\": \"white\", \"linecolor\": \"white\", \"ticks\": \"\"}, \"bgcolor\": \"#E5ECF6\", \"caxis\": {\"gridcolor\": \"white\", \"linecolor\": \"white\", \"ticks\": \"\"}}, \"title\": {\"x\": 0.05}, \"xaxis\": {\"automargin\": true, \"gridcolor\": \"white\", \"linecolor\": \"white\", \"ticks\": \"\", \"title\": {\"standoff\": 15}, \"zerolinecolor\": \"white\", \"zerolinewidth\": 2}, \"yaxis\": {\"automargin\": true, \"gridcolor\": \"white\", \"linecolor\": \"white\", \"ticks\": \"\", \"title\": {\"standoff\": 15}, \"zerolinecolor\": \"white\", \"zerolinewidth\": 2}}}, \"title\": {\"text\": \"PENN Price Trend\"}, \"xaxis\": {\"title\": {\"text\": \"Day\"}}, \"yaxis\": {\"title\": {\"text\": \"Price\"}}},\n",
       "                        {\"responsive\": true}\n",
       "                    ).then(function(){\n",
       "                            \n",
       "var gd = document.getElementById('38deef5d-24dd-483f-9106-87b48f66b1b6');\n",
       "var x = new MutationObserver(function (mutations, observer) {{\n",
       "        var display = window.getComputedStyle(gd).display;\n",
       "        if (!display || display === 'none') {{\n",
       "            console.log([gd, 'removed!']);\n",
       "            Plotly.purge(gd);\n",
       "            observer.disconnect();\n",
       "        }}\n",
       "}});\n",
       "\n",
       "// Listen for the removal of the full notebook cells\n",
       "var notebookContainer = gd.closest('#notebook-container');\n",
       "if (notebookContainer) {{\n",
       "    x.observe(notebookContainer, {childList: true});\n",
       "}}\n",
       "\n",
       "// Listen for the clearing of the current output cell\n",
       "var outputEl = gd.closest('.output');\n",
       "if (outputEl) {{\n",
       "    x.observe(outputEl, {childList: true});\n",
       "}}\n",
       "\n",
       "                        })\n",
       "                };\n",
       "                });\n",
       "            </script>\n",
       "        </div>"
      ]
     },
     "metadata": {},
     "output_type": "display_data"
    }
   ],
   "source": [
    "yesterday = (date.today() - timedelta(days = 1)).strftime(\"%Y-%m-%d\")\n",
    "trail_105 = (date.today() - timedelta(days = 105)).strftime(\"%Y-%m-%d\")\n",
    "\n",
    "stock = 'PENN'\n",
    "\n",
    "df = pdr.DataReader(stock, 'yahoo', trail_105, yesterday)\n",
    "\n",
    "# List where we will keep track of long and short average points\n",
    "indicators = pd.DataFrame(index=df.index)\n",
    "\n",
    "# Exponential moving averages using the closing data | Most important ma days (5,9,15,26)\n",
    "#Include 100 day moving average\n",
    "short = 5\n",
    "long = 26\n",
    "indicators['short_avg'] = df['Close'].ewm(span=short, adjust=False).mean()\n",
    "indicators['long_avg'] = df['Close'].ewm(span=long, adjust=False).mean()\n",
    "\n",
    "df = df.merge(indicators, on = df.index)\n",
    "\n",
    "df[\"diff\"] = df['short_avg'] - df['long_avg']\n",
    "\n",
    "df['indicator'] = np.where(\n",
    "    abs(df['diff']) < 0.2,\n",
    "    1.0,\n",
    "    0.0\n",
    ")\n",
    "\n",
    "df['chart_indicator'] = np.where(\n",
    "    abs(df['diff']) < 0.2,\n",
    "    df['diff'].index,\n",
    "    0\n",
    ")\n",
    "\n",
    "fig = go.Figure()\n",
    "\n",
    "# Create and style traces\n",
    "fig.add_trace(go.Scatter(x=df['key_0'], y=df['Close'], name='Close',\n",
    "                         line=dict(color='royalblue', width=2.5)))\n",
    "\n",
    "fig.add_trace(go.Scatter(x=df['key_0'], y=df['short_avg'], name = f'{short} Moving Avg.',\n",
    "                         line=dict(color='firebrick', width=1.5, dash = 'dash')))\n",
    "\n",
    "fig.add_trace(go.Scatter(x=df['key_0'], y=df['long_avg'], name=f'{long} Moving Avg.',\n",
    "                         line=dict(color='green', width=1.5,\n",
    "                              dash='dash') # dash options include 'dash', 'dot', and 'dashdot'\n",
    "))\n",
    "\n",
    "fig.update_layout(title=f'{stock} Price Trend',\n",
    "                   xaxis_title='Day',\n",
    "                   yaxis_title='Price')\n"
   ]
  },
  {
   "cell_type": "markdown",
   "metadata": {},
   "source": [
    "### **World Markets:**\n",
    "* Japan - ^N225\n",
    "* Europe - ^N100\n",
    "* China - 000001.SS"
   ]
  },
  {
   "cell_type": "code",
   "execution_count": 14,
   "metadata": {},
   "outputs": [],
   "source": [
    "df['daily_change'] = df['Close'] - df['Open']\n",
    "\n",
    "df['gains'] = np.where(\n",
    "    df['daily_change'] > 0,\n",
    "    df['daily_change'],\n",
    "    0\n",
    ")\n",
    "\n",
    "df['loss'] = np.where(\n",
    "    df['daily_change'] < 0,\n",
    "    df['daily_change'],\n",
    "    0\n",
    ")\n",
    "\n",
    "df['up_down'] = np.where(\n",
    "    df['daily_change'] < 0,\n",
    "    0.0,\n",
    "    1.0\n",
    ")"
   ]
  },
  {
   "cell_type": "code",
   "execution_count": 15,
   "metadata": {},
   "outputs": [
    {
     "name": "stdout",
     "output_type": "stream",
     "text": [
      "Average daily gains: 0.5\n",
      "Average daily losses: -0.36\n"
     ]
    }
   ],
   "source": [
    "print(\"Average daily gains:\",str(round(sum(df['gains']) / len(df['gains']),2)))\n",
    "\n",
    "print(\"Average daily losses:\",str(round(sum(df['loss']) / len(df['loss']),2)))"
   ]
  },
  {
   "cell_type": "code",
   "execution_count": 16,
   "metadata": {},
   "outputs": [
    {
     "data": {
      "text/html": [
       "<div>\n",
       "<style scoped>\n",
       "    .dataframe tbody tr th:only-of-type {\n",
       "        vertical-align: middle;\n",
       "    }\n",
       "\n",
       "    .dataframe tbody tr th {\n",
       "        vertical-align: top;\n",
       "    }\n",
       "\n",
       "    .dataframe thead th {\n",
       "        text-align: right;\n",
       "    }\n",
       "</style>\n",
       "<table border=\"1\" class=\"dataframe\">\n",
       "  <thead>\n",
       "    <tr style=\"text-align: right;\">\n",
       "      <th></th>\n",
       "      <th>key_0</th>\n",
       "      <th>High</th>\n",
       "      <th>Low</th>\n",
       "      <th>Open</th>\n",
       "      <th>Close</th>\n",
       "      <th>Volume</th>\n",
       "      <th>Adj Close</th>\n",
       "      <th>short_avg</th>\n",
       "      <th>long_avg</th>\n",
       "      <th>diff</th>\n",
       "      <th>indicator</th>\n",
       "      <th>chart_indicator</th>\n",
       "      <th>daily_change</th>\n",
       "      <th>gains</th>\n",
       "      <th>loss</th>\n",
       "      <th>up_down</th>\n",
       "    </tr>\n",
       "  </thead>\n",
       "  <tbody>\n",
       "    <tr>\n",
       "      <th>0</th>\n",
       "      <td>2020-06-26</td>\n",
       "      <td>87.559998</td>\n",
       "      <td>85.519997</td>\n",
       "      <td>87.230003</td>\n",
       "      <td>85.900002</td>\n",
       "      <td>2225800.0</td>\n",
       "      <td>85.565720</td>\n",
       "      <td>85.900002</td>\n",
       "      <td>85.900002</td>\n",
       "      <td>0.000000</td>\n",
       "      <td>1.0</td>\n",
       "      <td>0</td>\n",
       "      <td>-1.330002</td>\n",
       "      <td>0.000000</td>\n",
       "      <td>-1.330002</td>\n",
       "      <td>0.0</td>\n",
       "    </tr>\n",
       "    <tr>\n",
       "      <th>1</th>\n",
       "      <td>2020-06-29</td>\n",
       "      <td>87.360001</td>\n",
       "      <td>86.110001</td>\n",
       "      <td>86.559998</td>\n",
       "      <td>87.290001</td>\n",
       "      <td>1302500.0</td>\n",
       "      <td>87.132896</td>\n",
       "      <td>86.363335</td>\n",
       "      <td>86.032382</td>\n",
       "      <td>0.330952</td>\n",
       "      <td>0.0</td>\n",
       "      <td>0</td>\n",
       "      <td>0.730003</td>\n",
       "      <td>0.730003</td>\n",
       "      <td>0.000000</td>\n",
       "      <td>1.0</td>\n",
       "    </tr>\n",
       "    <tr>\n",
       "      <th>2</th>\n",
       "      <td>2020-06-30</td>\n",
       "      <td>88.879997</td>\n",
       "      <td>87.239998</td>\n",
       "      <td>87.330002</td>\n",
       "      <td>88.370003</td>\n",
       "      <td>1920200.0</td>\n",
       "      <td>88.210953</td>\n",
       "      <td>87.032224</td>\n",
       "      <td>86.255013</td>\n",
       "      <td>0.777211</td>\n",
       "      <td>0.0</td>\n",
       "      <td>0</td>\n",
       "      <td>1.040001</td>\n",
       "      <td>1.040001</td>\n",
       "      <td>0.000000</td>\n",
       "      <td>1.0</td>\n",
       "    </tr>\n",
       "    <tr>\n",
       "      <th>3</th>\n",
       "      <td>2020-07-01</td>\n",
       "      <td>88.889999</td>\n",
       "      <td>87.300003</td>\n",
       "      <td>88.889999</td>\n",
       "      <td>88.110001</td>\n",
       "      <td>1137000.0</td>\n",
       "      <td>87.951416</td>\n",
       "      <td>87.391483</td>\n",
       "      <td>86.431678</td>\n",
       "      <td>0.959804</td>\n",
       "      <td>0.0</td>\n",
       "      <td>0</td>\n",
       "      <td>-0.779999</td>\n",
       "      <td>0.000000</td>\n",
       "      <td>-0.779999</td>\n",
       "      <td>0.0</td>\n",
       "    </tr>\n",
       "    <tr>\n",
       "      <th>4</th>\n",
       "      <td>2020-07-02</td>\n",
       "      <td>89.489998</td>\n",
       "      <td>88.550003</td>\n",
       "      <td>88.830002</td>\n",
       "      <td>88.680000</td>\n",
       "      <td>1507700.0</td>\n",
       "      <td>88.520393</td>\n",
       "      <td>87.820989</td>\n",
       "      <td>86.645804</td>\n",
       "      <td>1.175184</td>\n",
       "      <td>0.0</td>\n",
       "      <td>0</td>\n",
       "      <td>-0.150002</td>\n",
       "      <td>0.000000</td>\n",
       "      <td>-0.150002</td>\n",
       "      <td>0.0</td>\n",
       "    </tr>\n",
       "    <tr>\n",
       "      <th>...</th>\n",
       "      <td>...</td>\n",
       "      <td>...</td>\n",
       "      <td>...</td>\n",
       "      <td>...</td>\n",
       "      <td>...</td>\n",
       "      <td>...</td>\n",
       "      <td>...</td>\n",
       "      <td>...</td>\n",
       "      <td>...</td>\n",
       "      <td>...</td>\n",
       "      <td>...</td>\n",
       "      <td>...</td>\n",
       "      <td>...</td>\n",
       "      <td>...</td>\n",
       "      <td>...</td>\n",
       "      <td>...</td>\n",
       "    </tr>\n",
       "    <tr>\n",
       "      <th>68</th>\n",
       "      <td>2020-10-02</td>\n",
       "      <td>101.279999</td>\n",
       "      <td>99.809998</td>\n",
       "      <td>100.209999</td>\n",
       "      <td>100.010002</td>\n",
       "      <td>712200.0</td>\n",
       "      <td>99.830002</td>\n",
       "      <td>100.090996</td>\n",
       "      <td>99.148301</td>\n",
       "      <td>0.942695</td>\n",
       "      <td>0.0</td>\n",
       "      <td>0</td>\n",
       "      <td>-0.199997</td>\n",
       "      <td>0.000000</td>\n",
       "      <td>-0.199997</td>\n",
       "      <td>0.0</td>\n",
       "    </tr>\n",
       "    <tr>\n",
       "      <th>69</th>\n",
       "      <td>2020-10-05</td>\n",
       "      <td>103.459999</td>\n",
       "      <td>100.959999</td>\n",
       "      <td>100.989998</td>\n",
       "      <td>103.120003</td>\n",
       "      <td>803900.0</td>\n",
       "      <td>103.120003</td>\n",
       "      <td>101.100665</td>\n",
       "      <td>99.526558</td>\n",
       "      <td>1.574107</td>\n",
       "      <td>0.0</td>\n",
       "      <td>0</td>\n",
       "      <td>2.130005</td>\n",
       "      <td>2.130005</td>\n",
       "      <td>0.000000</td>\n",
       "      <td>1.0</td>\n",
       "    </tr>\n",
       "    <tr>\n",
       "      <th>70</th>\n",
       "      <td>2020-10-06</td>\n",
       "      <td>103.330002</td>\n",
       "      <td>101.480003</td>\n",
       "      <td>103.120003</td>\n",
       "      <td>101.629997</td>\n",
       "      <td>1078000.0</td>\n",
       "      <td>101.629997</td>\n",
       "      <td>101.277109</td>\n",
       "      <td>99.726886</td>\n",
       "      <td>1.550223</td>\n",
       "      <td>0.0</td>\n",
       "      <td>0</td>\n",
       "      <td>-1.490005</td>\n",
       "      <td>0.000000</td>\n",
       "      <td>-1.490005</td>\n",
       "      <td>0.0</td>\n",
       "    </tr>\n",
       "    <tr>\n",
       "      <th>71</th>\n",
       "      <td>2020-10-07</td>\n",
       "      <td>104.750000</td>\n",
       "      <td>102.419998</td>\n",
       "      <td>102.470001</td>\n",
       "      <td>103.879997</td>\n",
       "      <td>1322100.0</td>\n",
       "      <td>103.879997</td>\n",
       "      <td>102.144738</td>\n",
       "      <td>100.122420</td>\n",
       "      <td>2.022318</td>\n",
       "      <td>0.0</td>\n",
       "      <td>0</td>\n",
       "      <td>1.409996</td>\n",
       "      <td>1.409996</td>\n",
       "      <td>0.000000</td>\n",
       "      <td>1.0</td>\n",
       "    </tr>\n",
       "    <tr>\n",
       "      <th>72</th>\n",
       "      <td>2020-10-08</td>\n",
       "      <td>104.389999</td>\n",
       "      <td>103.129997</td>\n",
       "      <td>104.199997</td>\n",
       "      <td>104.160004</td>\n",
       "      <td>765300.0</td>\n",
       "      <td>104.160004</td>\n",
       "      <td>102.816493</td>\n",
       "      <td>100.506952</td>\n",
       "      <td>2.309542</td>\n",
       "      <td>0.0</td>\n",
       "      <td>0</td>\n",
       "      <td>-0.039993</td>\n",
       "      <td>0.000000</td>\n",
       "      <td>-0.039993</td>\n",
       "      <td>0.0</td>\n",
       "    </tr>\n",
       "  </tbody>\n",
       "</table>\n",
       "<p>73 rows × 16 columns</p>\n",
       "</div>"
      ],
      "text/plain": [
       "        key_0        High         Low        Open       Close     Volume  \\\n",
       "0  2020-06-26   87.559998   85.519997   87.230003   85.900002  2225800.0   \n",
       "1  2020-06-29   87.360001   86.110001   86.559998   87.290001  1302500.0   \n",
       "2  2020-06-30   88.879997   87.239998   87.330002   88.370003  1920200.0   \n",
       "3  2020-07-01   88.889999   87.300003   88.889999   88.110001  1137000.0   \n",
       "4  2020-07-02   89.489998   88.550003   88.830002   88.680000  1507700.0   \n",
       "..        ...         ...         ...         ...         ...        ...   \n",
       "68 2020-10-02  101.279999   99.809998  100.209999  100.010002   712200.0   \n",
       "69 2020-10-05  103.459999  100.959999  100.989998  103.120003   803900.0   \n",
       "70 2020-10-06  103.330002  101.480003  103.120003  101.629997  1078000.0   \n",
       "71 2020-10-07  104.750000  102.419998  102.470001  103.879997  1322100.0   \n",
       "72 2020-10-08  104.389999  103.129997  104.199997  104.160004   765300.0   \n",
       "\n",
       "     Adj Close   short_avg    long_avg      diff  indicator  chart_indicator  \\\n",
       "0    85.565720   85.900002   85.900002  0.000000        1.0                0   \n",
       "1    87.132896   86.363335   86.032382  0.330952        0.0                0   \n",
       "2    88.210953   87.032224   86.255013  0.777211        0.0                0   \n",
       "3    87.951416   87.391483   86.431678  0.959804        0.0                0   \n",
       "4    88.520393   87.820989   86.645804  1.175184        0.0                0   \n",
       "..         ...         ...         ...       ...        ...              ...   \n",
       "68   99.830002  100.090996   99.148301  0.942695        0.0                0   \n",
       "69  103.120003  101.100665   99.526558  1.574107        0.0                0   \n",
       "70  101.629997  101.277109   99.726886  1.550223        0.0                0   \n",
       "71  103.879997  102.144738  100.122420  2.022318        0.0                0   \n",
       "72  104.160004  102.816493  100.506952  2.309542        0.0                0   \n",
       "\n",
       "    daily_change     gains      loss  up_down  \n",
       "0      -1.330002  0.000000 -1.330002      0.0  \n",
       "1       0.730003  0.730003  0.000000      1.0  \n",
       "2       1.040001  1.040001  0.000000      1.0  \n",
       "3      -0.779999  0.000000 -0.779999      0.0  \n",
       "4      -0.150002  0.000000 -0.150002      0.0  \n",
       "..           ...       ...       ...      ...  \n",
       "68     -0.199997  0.000000 -0.199997      0.0  \n",
       "69      2.130005  2.130005  0.000000      1.0  \n",
       "70     -1.490005  0.000000 -1.490005      0.0  \n",
       "71      1.409996  1.409996  0.000000      1.0  \n",
       "72     -0.039993  0.000000 -0.039993      0.0  \n",
       "\n",
       "[73 rows x 16 columns]"
      ]
     },
     "execution_count": 16,
     "metadata": {},
     "output_type": "execute_result"
    }
   ],
   "source": [
    "df"
   ]
  },
  {
   "cell_type": "code",
   "execution_count": 17,
   "metadata": {},
   "outputs": [
    {
     "data": {
      "text/plain": [
       "High            float64\n",
       "Low             float64\n",
       "Open            float64\n",
       "Close           float64\n",
       "Volume          float64\n",
       "Adj Close       float64\n",
       "short_avg       float64\n",
       "long_avg        float64\n",
       "diff            float64\n",
       "indicator       float64\n",
       "daily_change    float64\n",
       "gains           float64\n",
       "loss            float64\n",
       "up_down         float64\n",
       "dtype: object"
      ]
     },
     "execution_count": 17,
     "metadata": {},
     "output_type": "execute_result"
    }
   ],
   "source": [
    "df = df.drop('chart_indicator', axis = 1)\n",
    "dates = df['key_0']\n",
    "df = df.drop('key_0', axis = 1)\n",
    "\n",
    "df.dtypes"
   ]
  },
  {
   "cell_type": "code",
   "execution_count": 18,
   "metadata": {},
   "outputs": [
    {
     "data": {
      "text/plain": [
       "['High',\n",
       " 'Low',\n",
       " 'Open',\n",
       " 'Close',\n",
       " 'Volume',\n",
       " 'Adj Close',\n",
       " 'short_avg',\n",
       " 'long_avg',\n",
       " 'diff',\n",
       " 'indicator',\n",
       " 'daily_change',\n",
       " 'gains',\n",
       " 'loss',\n",
       " 'up_down']"
      ]
     },
     "execution_count": 18,
     "metadata": {},
     "output_type": "execute_result"
    }
   ],
   "source": [
    "list(df.columns)"
   ]
  },
  {
   "cell_type": "code",
   "execution_count": 19,
   "metadata": {},
   "outputs": [],
   "source": [
    "from sklearn.preprocessing import MinMaxScaler\n",
    "\n",
    "scaler = MinMaxScaler()\n",
    "\n",
    "test_df = df.copy()\n",
    "\n",
    "test_df = pd.DataFrame(scaler.fit_transform(test_df))\n",
    "test_df.columns = list(df.columns)"
   ]
  },
  {
   "cell_type": "code",
   "execution_count": 20,
   "metadata": {},
   "outputs": [
    {
     "data": {
      "text/html": [
       "<div>\n",
       "<style scoped>\n",
       "    .dataframe tbody tr th:only-of-type {\n",
       "        vertical-align: middle;\n",
       "    }\n",
       "\n",
       "    .dataframe tbody tr th {\n",
       "        vertical-align: top;\n",
       "    }\n",
       "\n",
       "    .dataframe thead th {\n",
       "        text-align: right;\n",
       "    }\n",
       "</style>\n",
       "<table border=\"1\" class=\"dataframe\">\n",
       "  <thead>\n",
       "    <tr style=\"text-align: right;\">\n",
       "      <th></th>\n",
       "      <th>High</th>\n",
       "      <th>Low</th>\n",
       "      <th>Open</th>\n",
       "      <th>Close</th>\n",
       "      <th>Volume</th>\n",
       "      <th>Adj Close</th>\n",
       "      <th>short_avg</th>\n",
       "      <th>long_avg</th>\n",
       "      <th>diff</th>\n",
       "      <th>indicator</th>\n",
       "      <th>daily_change</th>\n",
       "      <th>gains</th>\n",
       "      <th>loss</th>\n",
       "      <th>up_down</th>\n",
       "    </tr>\n",
       "  </thead>\n",
       "  <tbody>\n",
       "    <tr>\n",
       "      <th>High</th>\n",
       "      <td>1.000000</td>\n",
       "      <td>0.983595</td>\n",
       "      <td>0.982763</td>\n",
       "      <td>0.986850</td>\n",
       "      <td>-0.208732</td>\n",
       "      <td>0.986651</td>\n",
       "      <td>0.981366</td>\n",
       "      <td>0.931669</td>\n",
       "      <td>-0.019751</td>\n",
       "      <td>-0.024267</td>\n",
       "      <td>0.007508</td>\n",
       "      <td>0.116549</td>\n",
       "      <td>-0.106805</td>\n",
       "      <td>-0.014620</td>\n",
       "    </tr>\n",
       "    <tr>\n",
       "      <th>Low</th>\n",
       "      <td>0.983595</td>\n",
       "      <td>1.000000</td>\n",
       "      <td>0.978793</td>\n",
       "      <td>0.985878</td>\n",
       "      <td>-0.276681</td>\n",
       "      <td>0.985779</td>\n",
       "      <td>0.971160</td>\n",
       "      <td>0.920256</td>\n",
       "      <td>-0.012614</td>\n",
       "      <td>-0.015006</td>\n",
       "      <td>0.018359</td>\n",
       "      <td>0.046079</td>\n",
       "      <td>-0.016327</td>\n",
       "      <td>-0.005115</td>\n",
       "    </tr>\n",
       "    <tr>\n",
       "      <th>Open</th>\n",
       "      <td>0.982763</td>\n",
       "      <td>0.978793</td>\n",
       "      <td>1.000000</td>\n",
       "      <td>0.961721</td>\n",
       "      <td>-0.255185</td>\n",
       "      <td>0.961440</td>\n",
       "      <td>0.975522</td>\n",
       "      <td>0.927776</td>\n",
       "      <td>-0.026283</td>\n",
       "      <td>-0.020368</td>\n",
       "      <td>-0.145577</td>\n",
       "      <td>-0.046706</td>\n",
       "      <td>-0.197122</td>\n",
       "      <td>-0.135679</td>\n",
       "    </tr>\n",
       "    <tr>\n",
       "      <th>Close</th>\n",
       "      <td>0.986850</td>\n",
       "      <td>0.985878</td>\n",
       "      <td>0.961721</td>\n",
       "      <td>1.000000</td>\n",
       "      <td>-0.236510</td>\n",
       "      <td>0.999949</td>\n",
       "      <td>0.973770</td>\n",
       "      <td>0.919709</td>\n",
       "      <td>-0.000513</td>\n",
       "      <td>-0.031000</td>\n",
       "      <td>0.131107</td>\n",
       "      <td>0.184653</td>\n",
       "      <td>0.031404</td>\n",
       "      <td>0.070350</td>\n",
       "    </tr>\n",
       "    <tr>\n",
       "      <th>Volume</th>\n",
       "      <td>-0.208732</td>\n",
       "      <td>-0.276681</td>\n",
       "      <td>-0.255185</td>\n",
       "      <td>-0.236510</td>\n",
       "      <td>1.000000</td>\n",
       "      <td>-0.238089</td>\n",
       "      <td>-0.255299</td>\n",
       "      <td>-0.270142</td>\n",
       "      <td>0.116759</td>\n",
       "      <td>0.113790</td>\n",
       "      <td>0.069303</td>\n",
       "      <td>0.174943</td>\n",
       "      <td>-0.062656</td>\n",
       "      <td>0.143519</td>\n",
       "    </tr>\n",
       "    <tr>\n",
       "      <th>Adj Close</th>\n",
       "      <td>0.986651</td>\n",
       "      <td>0.985779</td>\n",
       "      <td>0.961440</td>\n",
       "      <td>0.999949</td>\n",
       "      <td>-0.238089</td>\n",
       "      <td>1.000000</td>\n",
       "      <td>0.973222</td>\n",
       "      <td>0.918761</td>\n",
       "      <td>0.001218</td>\n",
       "      <td>-0.033679</td>\n",
       "      <td>0.131940</td>\n",
       "      <td>0.185421</td>\n",
       "      <td>0.032018</td>\n",
       "      <td>0.070391</td>\n",
       "    </tr>\n",
       "    <tr>\n",
       "      <th>short_avg</th>\n",
       "      <td>0.981366</td>\n",
       "      <td>0.971160</td>\n",
       "      <td>0.975522</td>\n",
       "      <td>0.973770</td>\n",
       "      <td>-0.255299</td>\n",
       "      <td>0.973222</td>\n",
       "      <td>1.000000</td>\n",
       "      <td>0.968865</td>\n",
       "      <td>-0.098521</td>\n",
       "      <td>-0.022548</td>\n",
       "      <td>-0.013523</td>\n",
       "      <td>0.081552</td>\n",
       "      <td>-0.106332</td>\n",
       "      <td>-0.047520</td>\n",
       "    </tr>\n",
       "    <tr>\n",
       "      <th>long_avg</th>\n",
       "      <td>0.931669</td>\n",
       "      <td>0.920256</td>\n",
       "      <td>0.927776</td>\n",
       "      <td>0.919709</td>\n",
       "      <td>-0.270142</td>\n",
       "      <td>0.918761</td>\n",
       "      <td>0.968865</td>\n",
       "      <td>1.000000</td>\n",
       "      <td>-0.341840</td>\n",
       "      <td>0.069765</td>\n",
       "      <td>-0.035967</td>\n",
       "      <td>0.056212</td>\n",
       "      <td>-0.118134</td>\n",
       "      <td>-0.066506</td>\n",
       "    </tr>\n",
       "    <tr>\n",
       "      <th>diff</th>\n",
       "      <td>-0.019751</td>\n",
       "      <td>-0.012614</td>\n",
       "      <td>-0.026283</td>\n",
       "      <td>-0.000513</td>\n",
       "      <td>0.116759</td>\n",
       "      <td>0.001218</td>\n",
       "      <td>-0.098521</td>\n",
       "      <td>-0.341840</td>\n",
       "      <td>1.000000</td>\n",
       "      <td>-0.365990</td>\n",
       "      <td>0.093232</td>\n",
       "      <td>0.083609</td>\n",
       "      <td>0.071215</td>\n",
       "      <td>0.086940</td>\n",
       "    </tr>\n",
       "    <tr>\n",
       "      <th>indicator</th>\n",
       "      <td>-0.024267</td>\n",
       "      <td>-0.015006</td>\n",
       "      <td>-0.020368</td>\n",
       "      <td>-0.031000</td>\n",
       "      <td>0.113790</td>\n",
       "      <td>-0.033679</td>\n",
       "      <td>-0.022548</td>\n",
       "      <td>0.069765</td>\n",
       "      <td>-0.365990</td>\n",
       "      <td>1.000000</td>\n",
       "      <td>-0.038235</td>\n",
       "      <td>-0.067146</td>\n",
       "      <td>0.004468</td>\n",
       "      <td>-0.080606</td>\n",
       "    </tr>\n",
       "    <tr>\n",
       "      <th>daily_change</th>\n",
       "      <td>0.007508</td>\n",
       "      <td>0.018359</td>\n",
       "      <td>-0.145577</td>\n",
       "      <td>0.131107</td>\n",
       "      <td>0.069303</td>\n",
       "      <td>0.131940</td>\n",
       "      <td>-0.013523</td>\n",
       "      <td>-0.035967</td>\n",
       "      <td>0.093232</td>\n",
       "      <td>-0.038235</td>\n",
       "      <td>1.000000</td>\n",
       "      <td>0.835629</td>\n",
       "      <td>0.826511</td>\n",
       "      <td>0.744838</td>\n",
       "    </tr>\n",
       "    <tr>\n",
       "      <th>gains</th>\n",
       "      <td>0.116549</td>\n",
       "      <td>0.046079</td>\n",
       "      <td>-0.046706</td>\n",
       "      <td>0.184653</td>\n",
       "      <td>0.174943</td>\n",
       "      <td>0.185421</td>\n",
       "      <td>0.081552</td>\n",
       "      <td>0.056212</td>\n",
       "      <td>0.083609</td>\n",
       "      <td>-0.067146</td>\n",
       "      <td>0.835629</td>\n",
       "      <td>1.000000</td>\n",
       "      <td>0.381447</td>\n",
       "      <td>0.653912</td>\n",
       "    </tr>\n",
       "    <tr>\n",
       "      <th>loss</th>\n",
       "      <td>-0.106805</td>\n",
       "      <td>-0.016327</td>\n",
       "      <td>-0.197122</td>\n",
       "      <td>0.031404</td>\n",
       "      <td>-0.062656</td>\n",
       "      <td>0.032018</td>\n",
       "      <td>-0.106332</td>\n",
       "      <td>-0.118134</td>\n",
       "      <td>0.071215</td>\n",
       "      <td>0.004468</td>\n",
       "      <td>0.826511</td>\n",
       "      <td>0.381447</td>\n",
       "      <td>1.000000</td>\n",
       "      <td>0.583330</td>\n",
       "    </tr>\n",
       "    <tr>\n",
       "      <th>up_down</th>\n",
       "      <td>-0.014620</td>\n",
       "      <td>-0.005115</td>\n",
       "      <td>-0.135679</td>\n",
       "      <td>0.070350</td>\n",
       "      <td>0.143519</td>\n",
       "      <td>0.070391</td>\n",
       "      <td>-0.047520</td>\n",
       "      <td>-0.066506</td>\n",
       "      <td>0.086940</td>\n",
       "      <td>-0.080606</td>\n",
       "      <td>0.744838</td>\n",
       "      <td>0.653912</td>\n",
       "      <td>0.583330</td>\n",
       "      <td>1.000000</td>\n",
       "    </tr>\n",
       "  </tbody>\n",
       "</table>\n",
       "</div>"
      ],
      "text/plain": [
       "                  High       Low      Open     Close    Volume  Adj Close  \\\n",
       "High          1.000000  0.983595  0.982763  0.986850 -0.208732   0.986651   \n",
       "Low           0.983595  1.000000  0.978793  0.985878 -0.276681   0.985779   \n",
       "Open          0.982763  0.978793  1.000000  0.961721 -0.255185   0.961440   \n",
       "Close         0.986850  0.985878  0.961721  1.000000 -0.236510   0.999949   \n",
       "Volume       -0.208732 -0.276681 -0.255185 -0.236510  1.000000  -0.238089   \n",
       "Adj Close     0.986651  0.985779  0.961440  0.999949 -0.238089   1.000000   \n",
       "short_avg     0.981366  0.971160  0.975522  0.973770 -0.255299   0.973222   \n",
       "long_avg      0.931669  0.920256  0.927776  0.919709 -0.270142   0.918761   \n",
       "diff         -0.019751 -0.012614 -0.026283 -0.000513  0.116759   0.001218   \n",
       "indicator    -0.024267 -0.015006 -0.020368 -0.031000  0.113790  -0.033679   \n",
       "daily_change  0.007508  0.018359 -0.145577  0.131107  0.069303   0.131940   \n",
       "gains         0.116549  0.046079 -0.046706  0.184653  0.174943   0.185421   \n",
       "loss         -0.106805 -0.016327 -0.197122  0.031404 -0.062656   0.032018   \n",
       "up_down      -0.014620 -0.005115 -0.135679  0.070350  0.143519   0.070391   \n",
       "\n",
       "              short_avg  long_avg      diff  indicator  daily_change  \\\n",
       "High           0.981366  0.931669 -0.019751  -0.024267      0.007508   \n",
       "Low            0.971160  0.920256 -0.012614  -0.015006      0.018359   \n",
       "Open           0.975522  0.927776 -0.026283  -0.020368     -0.145577   \n",
       "Close          0.973770  0.919709 -0.000513  -0.031000      0.131107   \n",
       "Volume        -0.255299 -0.270142  0.116759   0.113790      0.069303   \n",
       "Adj Close      0.973222  0.918761  0.001218  -0.033679      0.131940   \n",
       "short_avg      1.000000  0.968865 -0.098521  -0.022548     -0.013523   \n",
       "long_avg       0.968865  1.000000 -0.341840   0.069765     -0.035967   \n",
       "diff          -0.098521 -0.341840  1.000000  -0.365990      0.093232   \n",
       "indicator     -0.022548  0.069765 -0.365990   1.000000     -0.038235   \n",
       "daily_change  -0.013523 -0.035967  0.093232  -0.038235      1.000000   \n",
       "gains          0.081552  0.056212  0.083609  -0.067146      0.835629   \n",
       "loss          -0.106332 -0.118134  0.071215   0.004468      0.826511   \n",
       "up_down       -0.047520 -0.066506  0.086940  -0.080606      0.744838   \n",
       "\n",
       "                 gains      loss   up_down  \n",
       "High          0.116549 -0.106805 -0.014620  \n",
       "Low           0.046079 -0.016327 -0.005115  \n",
       "Open         -0.046706 -0.197122 -0.135679  \n",
       "Close         0.184653  0.031404  0.070350  \n",
       "Volume        0.174943 -0.062656  0.143519  \n",
       "Adj Close     0.185421  0.032018  0.070391  \n",
       "short_avg     0.081552 -0.106332 -0.047520  \n",
       "long_avg      0.056212 -0.118134 -0.066506  \n",
       "diff          0.083609  0.071215  0.086940  \n",
       "indicator    -0.067146  0.004468 -0.080606  \n",
       "daily_change  0.835629  0.826511  0.744838  \n",
       "gains         1.000000  0.381447  0.653912  \n",
       "loss          0.381447  1.000000  0.583330  \n",
       "up_down       0.653912  0.583330  1.000000  "
      ]
     },
     "execution_count": 20,
     "metadata": {},
     "output_type": "execute_result"
    }
   ],
   "source": [
    "test_df.corr()"
   ]
  },
  {
   "cell_type": "code",
   "execution_count": 21,
   "metadata": {},
   "outputs": [],
   "source": [
    "df_clean = df[['Adj Close', 'long_avg', 'daily_change', 'loss', 'up_down']]\n",
    "\n",
    "adj_X = df_clean.drop('up_down', axis = 1)\n",
    "adj_y = df_clean[\"up_down\"]"
   ]
  },
  {
   "cell_type": "code",
   "execution_count": 22,
   "metadata": {},
   "outputs": [
    {
     "ename": "NameError",
     "evalue": "name 'sm' is not defined",
     "output_type": "error",
     "traceback": [
      "\u001b[0;31m---------------------------------------------------------------------------\u001b[0m",
      "\u001b[0;31mNameError\u001b[0m                                 Traceback (most recent call last)",
      "\u001b[0;32m<ipython-input-22-38782d6172af>\u001b[0m in \u001b[0;36m<module>\u001b[0;34m\u001b[0m\n\u001b[1;32m      1\u001b[0m \u001b[0;31m# Note the difference in argument order\u001b[0m\u001b[0;34m\u001b[0m\u001b[0;34m\u001b[0m\u001b[0;34m\u001b[0m\u001b[0m\n\u001b[0;32m----> 2\u001b[0;31m \u001b[0mmodel\u001b[0m \u001b[0;34m=\u001b[0m \u001b[0msm\u001b[0m\u001b[0;34m.\u001b[0m\u001b[0mOLS\u001b[0m\u001b[0;34m(\u001b[0m\u001b[0madj_y\u001b[0m\u001b[0;34m,\u001b[0m \u001b[0madj_X\u001b[0m\u001b[0;34m)\u001b[0m\u001b[0;34m.\u001b[0m\u001b[0mfit\u001b[0m\u001b[0;34m(\u001b[0m\u001b[0;34m)\u001b[0m\u001b[0;34m\u001b[0m\u001b[0;34m\u001b[0m\u001b[0m\n\u001b[0m\u001b[1;32m      3\u001b[0m \u001b[0;34m\u001b[0m\u001b[0m\n\u001b[1;32m      4\u001b[0m \u001b[0mmodel\u001b[0m\u001b[0;34m.\u001b[0m\u001b[0msummary\u001b[0m\u001b[0;34m(\u001b[0m\u001b[0;34m)\u001b[0m\u001b[0;34m\u001b[0m\u001b[0;34m\u001b[0m\u001b[0m\n",
      "\u001b[0;31mNameError\u001b[0m: name 'sm' is not defined"
     ]
    }
   ],
   "source": [
    "# Note the difference in argument order\n",
    "model = sm.OLS(adj_y, adj_X).fit()\n",
    "\n",
    "model.summary()"
   ]
  },
  {
   "cell_type": "code",
   "execution_count": 25,
   "metadata": {},
   "outputs": [
    {
     "data": {
      "text/plain": [
       "0.9863013698630136"
      ]
     },
     "execution_count": 25,
     "metadata": {},
     "output_type": "execute_result"
    }
   ],
   "source": [
    "clf = LR(random_state=0).fit(adj_X, adj_y)\n",
    "\n",
    "clf.score(adj_X, adj_y)"
   ]
  },
  {
   "cell_type": "code",
   "execution_count": 27,
   "metadata": {},
   "outputs": [
    {
     "data": {
      "text/plain": [
       "array([[9.95055789e-01, 4.94421086e-03],\n",
       "       [7.24575733e-02, 9.27542427e-01],\n",
       "       [2.71858145e-02, 9.72814186e-01],\n",
       "       [9.46878110e-01, 5.31218896e-02],\n",
       "       [5.64946946e-01, 4.35053054e-01],\n",
       "       [2.18500531e-01, 7.81499469e-01],\n",
       "       [1.85372941e-01, 8.14627059e-01],\n",
       "       [4.00192288e-01, 5.99807712e-01],\n",
       "       [2.35638747e-01, 7.64361253e-01],\n",
       "       [8.16995728e-01, 1.83004272e-01],\n",
       "       [9.36064453e-01, 6.39355473e-02],\n",
       "       [2.32680200e-03, 9.97673198e-01],\n",
       "       [1.80008489e-02, 9.81999151e-01],\n",
       "       [5.14382844e-01, 4.85617156e-01],\n",
       "       [3.03082792e-02, 9.69691721e-01],\n",
       "       [1.90960825e-01, 8.09039175e-01],\n",
       "       [1.29414717e-01, 8.70585283e-01],\n",
       "       [3.92050817e-01, 6.07949183e-01],\n",
       "       [3.42174869e-01, 6.57825131e-01],\n",
       "       [9.90036564e-01, 9.96343568e-03],\n",
       "       [5.57803143e-04, 9.99442197e-01],\n",
       "       [9.98837371e-01, 1.16262861e-03],\n",
       "       [1.41380742e-02, 9.85861926e-01],\n",
       "       [6.57947396e-01, 3.42052604e-01],\n",
       "       [2.09440556e-01, 7.90559444e-01],\n",
       "       [9.68350535e-04, 9.99031649e-01],\n",
       "       [9.91202396e-01, 8.79760407e-03],\n",
       "       [6.68038916e-01, 3.31961084e-01],\n",
       "       [7.43521344e-01, 2.56478656e-01],\n",
       "       [9.73225774e-02, 9.02677423e-01],\n",
       "       [9.48962686e-01, 5.10373137e-02],\n",
       "       [9.80552905e-01, 1.94470953e-02],\n",
       "       [4.96300429e-02, 9.50369957e-01],\n",
       "       [2.20253566e-02, 9.77974643e-01],\n",
       "       [9.89614487e-01, 1.03855135e-02],\n",
       "       [6.84280961e-01, 3.15719039e-01],\n",
       "       [4.10870728e-01, 5.89129272e-01],\n",
       "       [2.52555411e-04, 9.99747445e-01],\n",
       "       [2.58118223e-01, 7.41881777e-01],\n",
       "       [2.29894624e-01, 7.70105376e-01],\n",
       "       [9.93619530e-01, 6.38046972e-03],\n",
       "       [2.12818206e-01, 7.87181794e-01],\n",
       "       [3.02942666e-02, 9.69705733e-01],\n",
       "       [6.94801731e-01, 3.05198269e-01],\n",
       "       [6.30732761e-02, 9.36926724e-01],\n",
       "       [1.75833297e-01, 8.24166703e-01],\n",
       "       [3.57163692e-01, 6.42836308e-01],\n",
       "       [5.15168862e-04, 9.99484831e-01],\n",
       "       [9.99999471e-01, 5.29193846e-07],\n",
       "       [9.99998978e-01, 1.02211359e-06],\n",
       "       [9.90158226e-01, 9.84177449e-03],\n",
       "       [5.03839703e-03, 9.94961603e-01],\n",
       "       [8.26168854e-01, 1.73831146e-01],\n",
       "       [6.76233266e-01, 3.23766734e-01],\n",
       "       [8.16682598e-01, 1.83317402e-01],\n",
       "       [1.36114317e-01, 8.63885683e-01],\n",
       "       [9.96329890e-01, 3.67010978e-03],\n",
       "       [3.05345553e-01, 6.94654447e-01],\n",
       "       [3.88183464e-01, 6.11816536e-01],\n",
       "       [6.45898576e-01, 3.54101424e-01],\n",
       "       [1.13711378e-01, 8.86288622e-01],\n",
       "       [9.99415138e-01, 5.84861980e-04],\n",
       "       [8.11522437e-01, 1.88477563e-01],\n",
       "       [7.05315162e-03, 9.92946848e-01],\n",
       "       [7.83480800e-02, 9.21651920e-01],\n",
       "       [2.39024934e-01, 7.60975066e-01],\n",
       "       [2.48710514e-01, 7.51289486e-01],\n",
       "       [9.16236877e-01, 8.37631228e-02],\n",
       "       [7.46919327e-01, 2.53080673e-01],\n",
       "       [1.41391128e-03, 9.98586089e-01],\n",
       "       [9.98159212e-01, 1.84078793e-03],\n",
       "       [1.28892655e-02, 9.87110734e-01],\n",
       "       [5.46674722e-01, 4.53325278e-01]])"
      ]
     },
     "execution_count": 27,
     "metadata": {},
     "output_type": "execute_result"
    }
   ],
   "source": [
    "clf.predict_proba(adj_X)"
   ]
  },
  {
   "cell_type": "code",
   "execution_count": 23,
   "metadata": {},
   "outputs": [
    {
     "data": {
      "text/html": [
       "<div>\n",
       "<style scoped>\n",
       "    .dataframe tbody tr th:only-of-type {\n",
       "        vertical-align: middle;\n",
       "    }\n",
       "\n",
       "    .dataframe tbody tr th {\n",
       "        vertical-align: top;\n",
       "    }\n",
       "\n",
       "    .dataframe thead th {\n",
       "        text-align: right;\n",
       "    }\n",
       "</style>\n",
       "<table border=\"1\" class=\"dataframe\">\n",
       "  <thead>\n",
       "    <tr style=\"text-align: right;\">\n",
       "      <th></th>\n",
       "      <th>up_down</th>\n",
       "    </tr>\n",
       "  </thead>\n",
       "  <tbody>\n",
       "    <tr>\n",
       "      <th>High</th>\n",
       "      <td>0.044670</td>\n",
       "    </tr>\n",
       "    <tr>\n",
       "      <th>Low</th>\n",
       "      <td>0.041947</td>\n",
       "    </tr>\n",
       "    <tr>\n",
       "      <th>Open</th>\n",
       "      <td>-0.026469</td>\n",
       "    </tr>\n",
       "    <tr>\n",
       "      <th>Close</th>\n",
       "      <td>0.114465</td>\n",
       "    </tr>\n",
       "    <tr>\n",
       "      <th>Volume</th>\n",
       "      <td>0.161277</td>\n",
       "    </tr>\n",
       "    <tr>\n",
       "      <th>Adj Close</th>\n",
       "      <td>0.114465</td>\n",
       "    </tr>\n",
       "    <tr>\n",
       "      <th>short_avg</th>\n",
       "      <td>0.046053</td>\n",
       "    </tr>\n",
       "    <tr>\n",
       "      <th>long_avg</th>\n",
       "      <td>0.066186</td>\n",
       "    </tr>\n",
       "    <tr>\n",
       "      <th>diff</th>\n",
       "      <td>-0.054878</td>\n",
       "    </tr>\n",
       "    <tr>\n",
       "      <th>indicator</th>\n",
       "      <td>-0.020545</td>\n",
       "    </tr>\n",
       "    <tr>\n",
       "      <th>daily_change</th>\n",
       "      <td>0.754465</td>\n",
       "    </tr>\n",
       "    <tr>\n",
       "      <th>gains</th>\n",
       "      <td>0.589768</td>\n",
       "    </tr>\n",
       "    <tr>\n",
       "      <th>loss</th>\n",
       "      <td>0.693229</td>\n",
       "    </tr>\n",
       "    <tr>\n",
       "      <th>up_down</th>\n",
       "      <td>1.000000</td>\n",
       "    </tr>\n",
       "  </tbody>\n",
       "</table>\n",
       "</div>"
      ],
      "text/plain": [
       "               up_down\n",
       "High          0.044670\n",
       "Low           0.041947\n",
       "Open         -0.026469\n",
       "Close         0.114465\n",
       "Volume        0.161277\n",
       "Adj Close     0.114465\n",
       "short_avg     0.046053\n",
       "long_avg      0.066186\n",
       "diff         -0.054878\n",
       "indicator    -0.020545\n",
       "daily_change  0.754465\n",
       "gains         0.589768\n",
       "loss          0.693229\n",
       "up_down       1.000000"
      ]
     },
     "execution_count": 23,
     "metadata": {},
     "output_type": "execute_result"
    }
   ],
   "source": [
    "df.corr()[['up_down']]"
   ]
  },
  {
   "cell_type": "code",
   "execution_count": 24,
   "metadata": {},
   "outputs": [
    {
     "data": {
      "text/html": [
       "<table class=\"simpletable\">\n",
       "<caption>OLS Regression Results</caption>\n",
       "<tr>\n",
       "  <th>Dep. Variable:</th>         <td>up_down</td>     <th>  R-squared (uncentered):</th>      <td>   0.844</td>\n",
       "</tr>\n",
       "<tr>\n",
       "  <th>Model:</th>                   <td>OLS</td>       <th>  Adj. R-squared (uncentered):</th> <td>   0.822</td>\n",
       "</tr>\n",
       "<tr>\n",
       "  <th>Method:</th>             <td>Least Squares</td>  <th>  F-statistic:       </th>          <td>   38.58</td>\n",
       "</tr>\n",
       "<tr>\n",
       "  <th>Date:</th>             <td>Thu, 08 Oct 2020</td> <th>  Prob (F-statistic):</th>          <td>1.60e-22</td>\n",
       "</tr>\n",
       "<tr>\n",
       "  <th>Time:</th>                 <td>11:10:36</td>     <th>  Log-Likelihood:    </th>          <td> -12.800</td>\n",
       "</tr>\n",
       "<tr>\n",
       "  <th>No. Observations:</th>      <td>    73</td>      <th>  AIC:               </th>          <td>   43.60</td>\n",
       "</tr>\n",
       "<tr>\n",
       "  <th>Df Residuals:</th>          <td>    64</td>      <th>  BIC:               </th>          <td>   64.21</td>\n",
       "</tr>\n",
       "<tr>\n",
       "  <th>Df Model:</th>              <td>     9</td>      <th>                     </th>              <td> </td>   \n",
       "</tr>\n",
       "<tr>\n",
       "  <th>Covariance Type:</th>      <td>nonrobust</td>    <th>                     </th>              <td> </td>   \n",
       "</tr>\n",
       "</table>\n",
       "<table class=\"simpletable\">\n",
       "<tr>\n",
       "        <td></td>          <th>coef</th>     <th>std err</th>      <th>t</th>      <th>P>|t|</th>  <th>[0.025</th>    <th>0.975]</th>  \n",
       "</tr>\n",
       "<tr>\n",
       "  <th>High</th>         <td>   -0.1059</td> <td>    0.068</td> <td>   -1.555</td> <td> 0.125</td> <td>   -0.242</td> <td>    0.030</td>\n",
       "</tr>\n",
       "<tr>\n",
       "  <th>Low</th>          <td>   -0.0752</td> <td>    0.054</td> <td>   -1.381</td> <td> 0.172</td> <td>   -0.184</td> <td>    0.034</td>\n",
       "</tr>\n",
       "<tr>\n",
       "  <th>Open</th>         <td>    0.0058</td> <td>    0.030</td> <td>    0.192</td> <td> 0.849</td> <td>   -0.055</td> <td>    0.066</td>\n",
       "</tr>\n",
       "<tr>\n",
       "  <th>Close</th>        <td>    0.0775</td> <td>    0.025</td> <td>    3.119</td> <td> 0.003</td> <td>    0.028</td> <td>    0.127</td>\n",
       "</tr>\n",
       "<tr>\n",
       "  <th>Volume</th>       <td> 1.345e-09</td> <td> 1.92e-09</td> <td>    0.701</td> <td> 0.486</td> <td>-2.49e-09</td> <td> 5.18e-09</td>\n",
       "</tr>\n",
       "<tr>\n",
       "  <th>Adj Close</th>    <td>    0.0775</td> <td>    0.025</td> <td>    3.119</td> <td> 0.003</td> <td>    0.028</td> <td>    0.127</td>\n",
       "</tr>\n",
       "<tr>\n",
       "  <th>short_avg</th>    <td>    0.0130</td> <td>    0.021</td> <td>    0.618</td> <td> 0.539</td> <td>   -0.029</td> <td>    0.055</td>\n",
       "</tr>\n",
       "<tr>\n",
       "  <th>long_avg</th>     <td>    0.0160</td> <td>    0.008</td> <td>    2.057</td> <td> 0.044</td> <td>    0.000</td> <td>    0.032</td>\n",
       "</tr>\n",
       "<tr>\n",
       "  <th>diff</th>         <td>   -0.0030</td> <td>    0.015</td> <td>   -0.197</td> <td> 0.844</td> <td>   -0.034</td> <td>    0.028</td>\n",
       "</tr>\n",
       "<tr>\n",
       "  <th>indicator</th>    <td>   -0.1342</td> <td>    0.135</td> <td>   -0.995</td> <td> 0.324</td> <td>   -0.404</td> <td>    0.135</td>\n",
       "</tr>\n",
       "<tr>\n",
       "  <th>daily_change</th> <td>    0.0717</td> <td>    0.009</td> <td>    7.662</td> <td> 0.000</td> <td>    0.053</td> <td>    0.090</td>\n",
       "</tr>\n",
       "<tr>\n",
       "  <th>gains</th>        <td>   -0.0241</td> <td>    0.038</td> <td>   -0.628</td> <td> 0.532</td> <td>   -0.101</td> <td>    0.052</td>\n",
       "</tr>\n",
       "<tr>\n",
       "  <th>loss</th>         <td>    0.0958</td> <td>    0.041</td> <td>    2.344</td> <td> 0.022</td> <td>    0.014</td> <td>    0.177</td>\n",
       "</tr>\n",
       "</table>\n",
       "<table class=\"simpletable\">\n",
       "<tr>\n",
       "  <th>Omnibus:</th>       <td> 4.774</td> <th>  Durbin-Watson:     </th> <td>   1.801</td>\n",
       "</tr>\n",
       "<tr>\n",
       "  <th>Prob(Omnibus):</th> <td> 0.092</td> <th>  Jarque-Bera (JB):  </th> <td>   2.213</td>\n",
       "</tr>\n",
       "<tr>\n",
       "  <th>Skew:</th>          <td>-0.046</td> <th>  Prob(JB):          </th> <td>   0.331</td>\n",
       "</tr>\n",
       "<tr>\n",
       "  <th>Kurtosis:</th>      <td> 2.152</td> <th>  Cond. No.          </th> <td>8.10e+23</td>\n",
       "</tr>\n",
       "</table><br/><br/>Warnings:<br/>[1] Standard Errors assume that the covariance matrix of the errors is correctly specified.<br/>[2] The smallest eigenvalue is 5.05e-31. This might indicate that there are<br/>strong multicollinearity problems or that the design matrix is singular."
      ],
      "text/plain": [
       "<class 'statsmodels.iolib.summary.Summary'>\n",
       "\"\"\"\n",
       "                                 OLS Regression Results                                \n",
       "=======================================================================================\n",
       "Dep. Variable:                up_down   R-squared (uncentered):                   0.844\n",
       "Model:                            OLS   Adj. R-squared (uncentered):              0.822\n",
       "Method:                 Least Squares   F-statistic:                              38.58\n",
       "Date:                Thu, 08 Oct 2020   Prob (F-statistic):                    1.60e-22\n",
       "Time:                        11:10:36   Log-Likelihood:                         -12.800\n",
       "No. Observations:                  73   AIC:                                      43.60\n",
       "Df Residuals:                      64   BIC:                                      64.21\n",
       "Df Model:                           9                                                  \n",
       "Covariance Type:            nonrobust                                                  \n",
       "================================================================================\n",
       "                   coef    std err          t      P>|t|      [0.025      0.975]\n",
       "--------------------------------------------------------------------------------\n",
       "High            -0.1059      0.068     -1.555      0.125      -0.242       0.030\n",
       "Low             -0.0752      0.054     -1.381      0.172      -0.184       0.034\n",
       "Open             0.0058      0.030      0.192      0.849      -0.055       0.066\n",
       "Close            0.0775      0.025      3.119      0.003       0.028       0.127\n",
       "Volume        1.345e-09   1.92e-09      0.701      0.486   -2.49e-09    5.18e-09\n",
       "Adj Close        0.0775      0.025      3.119      0.003       0.028       0.127\n",
       "short_avg        0.0130      0.021      0.618      0.539      -0.029       0.055\n",
       "long_avg         0.0160      0.008      2.057      0.044       0.000       0.032\n",
       "diff            -0.0030      0.015     -0.197      0.844      -0.034       0.028\n",
       "indicator       -0.1342      0.135     -0.995      0.324      -0.404       0.135\n",
       "daily_change     0.0717      0.009      7.662      0.000       0.053       0.090\n",
       "gains           -0.0241      0.038     -0.628      0.532      -0.101       0.052\n",
       "loss             0.0958      0.041      2.344      0.022       0.014       0.177\n",
       "==============================================================================\n",
       "Omnibus:                        4.774   Durbin-Watson:                   1.801\n",
       "Prob(Omnibus):                  0.092   Jarque-Bera (JB):                2.213\n",
       "Skew:                          -0.046   Prob(JB):                        0.331\n",
       "Kurtosis:                       2.152   Cond. No.                     8.10e+23\n",
       "==============================================================================\n",
       "\n",
       "Warnings:\n",
       "[1] Standard Errors assume that the covariance matrix of the errors is correctly specified.\n",
       "[2] The smallest eigenvalue is 5.05e-31. This might indicate that there are\n",
       "strong multicollinearity problems or that the design matrix is singular.\n",
       "\"\"\""
      ]
     },
     "execution_count": 24,
     "metadata": {},
     "output_type": "execute_result"
    }
   ],
   "source": [
    "import statsmodels.api as sm\n",
    "\n",
    "X = df.drop('up_down', axis = 1)\n",
    "y = df[\"up_down\"]\n",
    "\n",
    "# Note the difference in argument order\n",
    "model = sm.OLS(y, X).fit()\n",
    "\n",
    "model.summary()"
   ]
  },
  {
   "cell_type": "code",
   "execution_count": 25,
   "metadata": {},
   "outputs": [],
   "source": [
    "clf = LR(random_state=0).fit(X, y)"
   ]
  },
  {
   "cell_type": "code",
   "execution_count": 29,
   "metadata": {},
   "outputs": [
    {
     "data": {
      "text/plain": [
       "0.5342465753424658"
      ]
     },
     "execution_count": 29,
     "metadata": {},
     "output_type": "execute_result"
    }
   ],
   "source": [
    "clf.score(X,y)"
   ]
  },
  {
   "cell_type": "code",
   "execution_count": 28,
   "metadata": {},
   "outputs": [],
   "source": [
    "# data_df = pd.DataFrame.from_dict(json_type)\n",
    "\n",
    "# data_df['t'] = data_df['t'].apply(lambda x: datetime.strptime(time.ctime(x), \"%a %b %d %H:%M:%S %Y\"))\n",
    "\n",
    "# data_df = data_df.rename(columns = {'c' : 'close', 'h' : 'high', 'l' : 'low', 'o' : 'open', 't' : 'date', 'v' : 'volume'})\n"
   ]
  },
  {
   "cell_type": "code",
   "execution_count": null,
   "metadata": {},
   "outputs": [],
   "source": [
    "data_df"
   ]
  },
  {
   "cell_type": "code",
   "execution_count": null,
   "metadata": {},
   "outputs": [],
   "source": [
    "plt.plot(data_df['date'], data_df['close'])"
   ]
  },
  {
   "cell_type": "code",
   "execution_count": null,
   "metadata": {},
   "outputs": [],
   "source": [
    "start = datetime.datetime(2018, 1, 1)\n",
    "# Up to most recent data\n",
    "end = datetime.date.today()\n",
    "\n",
    "\n",
    "yesterday = (datetime.date.today() - timedelta(days = 1)).strftime(\"%Y-%m-%d\")\n",
    "trail_45 = (datetime.date.today() - timedelta(days = 45)).strftime(\"%Y-%m-%d\")\n",
    "\n",
    "print(yesterday)\n",
    "print(trail_45)"
   ]
  },
  {
   "cell_type": "code",
   "execution_count": null,
   "metadata": {},
   "outputs": [],
   "source": []
  },
  {
   "cell_type": "code",
   "execution_count": null,
   "metadata": {},
   "outputs": [],
   "source": []
  },
  {
   "cell_type": "code",
   "execution_count": null,
   "metadata": {},
   "outputs": [],
   "source": []
  },
  {
   "cell_type": "code",
   "execution_count": 12,
   "metadata": {},
   "outputs": [
    {
     "data": {
      "text/html": [
       "<div>\n",
       "<style scoped>\n",
       "    .dataframe tbody tr th:only-of-type {\n",
       "        vertical-align: middle;\n",
       "    }\n",
       "\n",
       "    .dataframe tbody tr th {\n",
       "        vertical-align: top;\n",
       "    }\n",
       "\n",
       "    .dataframe thead th {\n",
       "        text-align: right;\n",
       "    }\n",
       "</style>\n",
       "<table border=\"1\" class=\"dataframe\">\n",
       "  <thead>\n",
       "    <tr style=\"text-align: right;\">\n",
       "      <th></th>\n",
       "      <th>High</th>\n",
       "      <th>Low</th>\n",
       "      <th>Open</th>\n",
       "      <th>Close</th>\n",
       "      <th>Volume</th>\n",
       "      <th>Adj Close</th>\n",
       "    </tr>\n",
       "    <tr>\n",
       "      <th>Date</th>\n",
       "      <th></th>\n",
       "      <th></th>\n",
       "      <th></th>\n",
       "      <th></th>\n",
       "      <th></th>\n",
       "      <th></th>\n",
       "    </tr>\n",
       "  </thead>\n",
       "  <tbody>\n",
       "    <tr>\n",
       "      <th>2020-06-23</th>\n",
       "      <td>202.399994</td>\n",
       "      <td>198.802002</td>\n",
       "      <td>199.776001</td>\n",
       "      <td>200.356003</td>\n",
       "      <td>31826500.0</td>\n",
       "      <td>200.356003</td>\n",
       "    </tr>\n",
       "    <tr>\n",
       "      <th>2020-06-24</th>\n",
       "      <td>200.175995</td>\n",
       "      <td>190.628006</td>\n",
       "      <td>198.822006</td>\n",
       "      <td>192.169998</td>\n",
       "      <td>54798000.0</td>\n",
       "      <td>192.169998</td>\n",
       "    </tr>\n",
       "    <tr>\n",
       "      <th>2020-06-25</th>\n",
       "      <td>197.195999</td>\n",
       "      <td>187.429993</td>\n",
       "      <td>190.854004</td>\n",
       "      <td>197.195999</td>\n",
       "      <td>46272500.0</td>\n",
       "      <td>197.195999</td>\n",
       "    </tr>\n",
       "    <tr>\n",
       "      <th>2020-06-26</th>\n",
       "      <td>199.000000</td>\n",
       "      <td>190.973999</td>\n",
       "      <td>198.955994</td>\n",
       "      <td>191.947998</td>\n",
       "      <td>44274500.0</td>\n",
       "      <td>191.947998</td>\n",
       "    </tr>\n",
       "    <tr>\n",
       "      <th>2020-06-29</th>\n",
       "      <td>202.000000</td>\n",
       "      <td>189.703995</td>\n",
       "      <td>193.802002</td>\n",
       "      <td>201.869995</td>\n",
       "      <td>45132000.0</td>\n",
       "      <td>201.869995</td>\n",
       "    </tr>\n",
       "    <tr>\n",
       "      <th>...</th>\n",
       "      <td>...</td>\n",
       "      <td>...</td>\n",
       "      <td>...</td>\n",
       "      <td>...</td>\n",
       "      <td>...</td>\n",
       "      <td>...</td>\n",
       "    </tr>\n",
       "    <tr>\n",
       "      <th>2020-09-24</th>\n",
       "      <td>399.500000</td>\n",
       "      <td>351.299988</td>\n",
       "      <td>363.799988</td>\n",
       "      <td>387.790009</td>\n",
       "      <td>96561100.0</td>\n",
       "      <td>387.790009</td>\n",
       "    </tr>\n",
       "    <tr>\n",
       "      <th>2020-09-25</th>\n",
       "      <td>408.730011</td>\n",
       "      <td>391.299988</td>\n",
       "      <td>393.470001</td>\n",
       "      <td>407.339996</td>\n",
       "      <td>67208500.0</td>\n",
       "      <td>407.339996</td>\n",
       "    </tr>\n",
       "    <tr>\n",
       "      <th>2020-09-28</th>\n",
       "      <td>428.079987</td>\n",
       "      <td>415.549988</td>\n",
       "      <td>424.619995</td>\n",
       "      <td>421.200012</td>\n",
       "      <td>49719600.0</td>\n",
       "      <td>421.200012</td>\n",
       "    </tr>\n",
       "    <tr>\n",
       "      <th>2020-09-29</th>\n",
       "      <td>428.500000</td>\n",
       "      <td>411.600006</td>\n",
       "      <td>416.000000</td>\n",
       "      <td>419.070007</td>\n",
       "      <td>50219300.0</td>\n",
       "      <td>419.070007</td>\n",
       "    </tr>\n",
       "    <tr>\n",
       "      <th>2020-09-30</th>\n",
       "      <td>433.929993</td>\n",
       "      <td>420.470001</td>\n",
       "      <td>421.320007</td>\n",
       "      <td>429.010010</td>\n",
       "      <td>47923700.0</td>\n",
       "      <td>429.010010</td>\n",
       "    </tr>\n",
       "  </tbody>\n",
       "</table>\n",
       "<p>70 rows × 6 columns</p>\n",
       "</div>"
      ],
      "text/plain": [
       "                  High         Low        Open       Close      Volume  \\\n",
       "Date                                                                     \n",
       "2020-06-23  202.399994  198.802002  199.776001  200.356003  31826500.0   \n",
       "2020-06-24  200.175995  190.628006  198.822006  192.169998  54798000.0   \n",
       "2020-06-25  197.195999  187.429993  190.854004  197.195999  46272500.0   \n",
       "2020-06-26  199.000000  190.973999  198.955994  191.947998  44274500.0   \n",
       "2020-06-29  202.000000  189.703995  193.802002  201.869995  45132000.0   \n",
       "...                ...         ...         ...         ...         ...   \n",
       "2020-09-24  399.500000  351.299988  363.799988  387.790009  96561100.0   \n",
       "2020-09-25  408.730011  391.299988  393.470001  407.339996  67208500.0   \n",
       "2020-09-28  428.079987  415.549988  424.619995  421.200012  49719600.0   \n",
       "2020-09-29  428.500000  411.600006  416.000000  419.070007  50219300.0   \n",
       "2020-09-30  433.929993  420.470001  421.320007  429.010010  47923700.0   \n",
       "\n",
       "             Adj Close  \n",
       "Date                    \n",
       "2020-06-23  200.356003  \n",
       "2020-06-24  192.169998  \n",
       "2020-06-25  197.195999  \n",
       "2020-06-26  191.947998  \n",
       "2020-06-29  201.869995  \n",
       "...                ...  \n",
       "2020-09-24  387.790009  \n",
       "2020-09-25  407.339996  \n",
       "2020-09-28  421.200012  \n",
       "2020-09-29  419.070007  \n",
       "2020-09-30  429.010010  \n",
       "\n",
       "[70 rows x 6 columns]"
      ]
     },
     "execution_count": 12,
     "metadata": {},
     "output_type": "execute_result"
    }
   ],
   "source": [
    "import pandas_datareader as pdr\n",
    "import datetime\n",
    "# We can choose any date up to that stock’s IPO\n",
    "start = datetime.datetime(2018, 1, 1)\n",
    "# Up to most recent data\n",
    "end = datetime.date.today()\n",
    "\n",
    "\n",
    "yesterday = (datetime.date.today() - timedelta(days = 1)).strftime(\"%Y-%m-%d\")\n",
    "trail_100 = (datetime.date.today() - timedelta(days = 100)).strftime(\"%Y-%m-%d\")\n",
    "\n",
    "\n",
    "# We’ll look at F which is Ford\n",
    "stock = 'TSLA'\n",
    "df = pdr.DataReader(stock, 'yahoo', trail_100, yesterday)\n",
    "# This returns a data frame of scraped stock data from yahoo\n",
    "\n",
    "df\n",
    "\n",
    "# trail_45"
   ]
  },
  {
   "cell_type": "code",
   "execution_count": 13,
   "metadata": {},
   "outputs": [
    {
     "data": {
      "text/plain": [
       "[<matplotlib.lines.Line2D at 0x7fdd2fe1cfd0>]"
      ]
     },
     "execution_count": 13,
     "metadata": {},
     "output_type": "execute_result"
    },
    {
     "data": {
      "image/png": "[encoded data removed]",
      "text/plain": [
       "<Figure size 432x288 with 1 Axes>"
      ]
     },
     "metadata": {
      "needs_background": "light"
     },
     "output_type": "display_data"
    }
   ],
   "source": [
    "plt.plot(df.index, df['Close'].values)"
   ]
  },
  {
   "cell_type": "code",
   "execution_count": 31,
   "metadata": {},
   "outputs": [],
   "source": [
    "# List where we will keep track of long and short average points\n",
    "indicators = pd.DataFrame(index=df.index)\n",
    "# 50 day\n",
    "short_window = 50\n",
    "# 200 day\n",
    "long_window = 200\n",
    "# Exponential moving averages using the closing data\n",
    "short = 5\n",
    "long = 20\n",
    "indicators['short_avg'] = df['Close'].ewm(span=short, adjust=False).mean()\n",
    "indicators['long_avg'] = df['Close'].ewm(span=long, adjust=False).mean()"
   ]
  },
  {
   "cell_type": "code",
   "execution_count": 32,
   "metadata": {},
   "outputs": [],
   "source": [
    "df = df.merge(indicators, on = df.index)\n",
    "\n",
    "df[\"diff\"] = df['short_avg'] - df['long_avg']\n",
    "\n",
    "df['indicator'] = np.where(\n",
    "    abs(df['diff']) < 0.2,\n",
    "    1,\n",
    "    0\n",
    ")\n",
    "\n",
    "df['chart_indicator'] = np.where(\n",
    "    abs(df['diff']) < 0.2,\n",
    "    df['diff'].index,\n",
    "    0\n",
    ")\n"
   ]
  },
  {
   "cell_type": "code",
   "execution_count": 47,
   "metadata": {},
   "outputs": [
    {
     "data": {
      "application/vnd.plotly.v1+json": {
       "config": {
        "plotlyServerURL": "https://plot.ly"
       },
       "data": [
        {
         "line": {
          "color": "royalblue",
          "width": 2.5
         },
         "name": "Close",
         "type": "scatter",
         "x": [
          "2020-06-12T00:00:00",
          "2020-06-15T00:00:00",
          "2020-06-16T00:00:00",
          "2020-06-17T00:00:00",
          "2020-06-18T00:00:00",
          "2020-06-19T00:00:00",
          "2020-06-22T00:00:00",
          "2020-06-23T00:00:00",
          "2020-06-24T00:00:00",
          "2020-06-25T00:00:00",
          "2020-06-26T00:00:00",
          "2020-06-29T00:00:00",
          "2020-06-30T00:00:00",
          "2020-07-01T00:00:00",
          "2020-07-02T00:00:00",
          "2020-07-06T00:00:00",
          "2020-07-07T00:00:00",
          "2020-07-08T00:00:00",
          "2020-07-09T00:00:00",
          "2020-07-10T00:00:00",
          "2020-07-13T00:00:00",
          "2020-07-14T00:00:00",
          "2020-07-15T00:00:00",
          "2020-07-16T00:00:00",
          "2020-07-17T00:00:00",
          "2020-07-20T00:00:00",
          "2020-07-21T00:00:00",
          "2020-07-22T00:00:00",
          "2020-07-23T00:00:00",
          "2020-07-24T00:00:00",
          "2020-07-27T00:00:00",
          "2020-07-28T00:00:00",
          "2020-07-29T00:00:00",
          "2020-07-30T00:00:00",
          "2020-07-31T00:00:00",
          "2020-08-03T00:00:00",
          "2020-08-04T00:00:00",
          "2020-08-05T00:00:00",
          "2020-08-06T00:00:00",
          "2020-08-07T00:00:00",
          "2020-08-10T00:00:00",
          "2020-08-11T00:00:00",
          "2020-08-12T00:00:00",
          "2020-08-13T00:00:00",
          "2020-08-14T00:00:00",
          "2020-08-17T00:00:00",
          "2020-08-18T00:00:00",
          "2020-08-19T00:00:00",
          "2020-08-20T00:00:00",
          "2020-08-21T00:00:00",
          "2020-08-24T00:00:00",
          "2020-08-25T00:00:00",
          "2020-08-26T00:00:00",
          "2020-08-27T00:00:00",
          "2020-08-28T00:00:00",
          "2020-08-31T00:00:00",
          "2020-09-01T00:00:00",
          "2020-09-02T00:00:00",
          "2020-09-03T00:00:00",
          "2020-09-04T00:00:00",
          "2020-09-08T00:00:00",
          "2020-09-09T00:00:00",
          "2020-09-10T00:00:00",
          "2020-09-11T00:00:00",
          "2020-09-14T00:00:00",
          "2020-09-15T00:00:00",
          "2020-09-16T00:00:00",
          "2020-09-17T00:00:00",
          "2020-09-18T00:00:00"
         ],
         "y": [
          154.8699951171875,
          157.72999572753906,
          159.6699981689453,
          159.22000122070312,
          159.2100067138672,
          158.14999389648438,
          156.69000244140625,
          157.83999633789062,
          152.22000122070312,
          154.6699981689453,
          152.52000427246094,
          155.57000732421875,
          155.99000549316406,
          155.42999267578125,
          157.0399932861328,
          158.10000610351562,
          154.82000732421875,
          154.5800018310547,
          151.4499969482422,
          152.85000610351562,
          154.8000030517578,
          158.5399932861328,
          159.3300018310547,
          160.5,
          159.8300018310547,
          156.3699951171875,
          157.8000030517578,
          158.7100067138672,
          159.2899932861328,
          159.83999633789062,
          163.24000549316406,
          155.3300018310547,
          156.25,
          152.1199951171875,
          150.47000122070312,
          150.41000366210938,
          151.2100067138672,
          155.35000610351562,
          156,
          158.3300018310547,
          161.44000244140625,
          163.3800048828125,
          164.25999450683594,
          165.86000061035156,
          166.10000610351562,
          164.7100067138672,
          164.3800048828125,
          163.97000122070312,
          162.97000122070312,
          161.7100067138672,
          163.52999877929688,
          163.10000610351562,
          163.89999389648438,
          164.0800018310547,
          165.66000366210938,
          163.02000427246094,
          164.8000030517578,
          169.50999450683594,
          166.30999755859375,
          165.77000427246094,
          163.1699981689453,
          165.6999969482422,
          163.14999389648438,
          166.1699981689453,
          168.4600067138672,
          166.57000732421875,
          169.50999450683594,
          172.3800048828125,
          169.5500030517578
         ]
        },
        {
         "line": {
          "color": "firebrick",
          "dash": "dash",
          "width": 1.5
         },
         "name": "5 Moving Avg.",
         "type": "scatter",
         "x": [
          "2020-06-12T00:00:00",
          "2020-06-15T00:00:00",
          "2020-06-16T00:00:00",
          "2020-06-17T00:00:00",
          "2020-06-18T00:00:00",
          "2020-06-19T00:00:00",
          "2020-06-22T00:00:00",
          "2020-06-23T00:00:00",
          "2020-06-24T00:00:00",
          "2020-06-25T00:00:00",
          "2020-06-26T00:00:00",
          "2020-06-29T00:00:00",
          "2020-06-30T00:00:00",
          "2020-07-01T00:00:00",
          "2020-07-02T00:00:00",
          "2020-07-06T00:00:00",
          "2020-07-07T00:00:00",
          "2020-07-08T00:00:00",
          "2020-07-09T00:00:00",
          "2020-07-10T00:00:00",
          "2020-07-13T00:00:00",
          "2020-07-14T00:00:00",
          "2020-07-15T00:00:00",
          "2020-07-16T00:00:00",
          "2020-07-17T00:00:00",
          "2020-07-20T00:00:00",
          "2020-07-21T00:00:00",
          "2020-07-22T00:00:00",
          "2020-07-23T00:00:00",
          "2020-07-24T00:00:00",
          "2020-07-27T00:00:00",
          "2020-07-28T00:00:00",
          "2020-07-29T00:00:00",
          "2020-07-30T00:00:00",
          "2020-07-31T00:00:00",
          "2020-08-03T00:00:00",
          "2020-08-04T00:00:00",
          "2020-08-05T00:00:00",
          "2020-08-06T00:00:00",
          "2020-08-07T00:00:00",
          "2020-08-10T00:00:00",
          "2020-08-11T00:00:00",
          "2020-08-12T00:00:00",
          "2020-08-13T00:00:00",
          "2020-08-14T00:00:00",
          "2020-08-17T00:00:00",
          "2020-08-18T00:00:00",
          "2020-08-19T00:00:00",
          "2020-08-20T00:00:00",
          "2020-08-21T00:00:00",
          "2020-08-24T00:00:00",
          "2020-08-25T00:00:00",
          "2020-08-26T00:00:00",
          "2020-08-27T00:00:00",
          "2020-08-28T00:00:00",
          "2020-08-31T00:00:00",
          "2020-09-01T00:00:00",
          "2020-09-02T00:00:00",
          "2020-09-03T00:00:00",
          "2020-09-04T00:00:00",
          "2020-09-08T00:00:00",
          "2020-09-09T00:00:00",
          "2020-09-10T00:00:00",
          "2020-09-11T00:00:00",
          "2020-09-14T00:00:00",
          "2020-09-15T00:00:00",
          "2020-09-16T00:00:00",
          "2020-09-17T00:00:00",
          "2020-09-18T00:00:00"
         ],
         "y": [
          154.8699951171875,
          155.82332865397137,
          157.10555182562936,
          157.81036829065397,
          158.27691443172506,
          158.23460758664484,
          157.71973920489864,
          157.759824915896,
          155.91321701749837,
          155.49881073464735,
          154.50587524725188,
          154.86058593957418,
          155.23705912410415,
          155.30137030799654,
          155.88091130070865,
          156.62060956831098,
          156.02040882028024,
          155.54027315720506,
          154.17684775421745,
          153.73456720398352,
          154.08971248657497,
          155.57313941976093,
          156.8254268901922,
          158.05028459346147,
          158.64352367265923,
          157.88568082083532,
          157.85712156447616,
          158.14141661427317,
          158.52427550489307,
          158.96284911589225,
          160.3885679083162,
          158.7023792158957,
          157.8849194772638,
          155.96327802390505,
          154.13218575617108,
          152.89145839148387,
          152.33097449894498,
          153.3373183671352,
          154.22487891142347,
          155.59325321796723,
          157.54216962578025,
          159.48811471145768,
          161.07874130991712,
          162.67249441006194,
          163.81499830787985,
          164.11333444320897,
          164.20222458974348,
          164.12481680006337,
          163.73987827360997,
          163.0632544203624,
          163.21883587334057,
          163.1792259500656,
          163.4194819322052,
          163.6396552318217,
          164.31310470858426,
          163.8820712298765,
          164.18804850383694,
          165.9620305048366,
          166.07801952275565,
          165.97534777265741,
          165.04023123808673,
          165.2601531414719,
          164.55676672647607,
          165.09451054063248,
          166.2163425983774,
          166.33423084032452,
          167.39281872916166,
          169.05521411371194,
          169.22014375972725
         ]
        },
        {
         "line": {
          "color": "green",
          "dash": "dash",
          "width": 1.5
         },
         "name": "20 Moving Avg.",
         "type": "scatter",
         "x": [
          "2020-06-12T00:00:00",
          "2020-06-15T00:00:00",
          "2020-06-16T00:00:00",
          "2020-06-17T00:00:00",
          "2020-06-18T00:00:00",
          "2020-06-19T00:00:00",
          "2020-06-22T00:00:00",
          "2020-06-23T00:00:00",
          "2020-06-24T00:00:00",
          "2020-06-25T00:00:00",
          "2020-06-26T00:00:00",
          "2020-06-29T00:00:00",
          "2020-06-30T00:00:00",
          "2020-07-01T00:00:00",
          "2020-07-02T00:00:00",
          "2020-07-06T00:00:00",
          "2020-07-07T00:00:00",
          "2020-07-08T00:00:00",
          "2020-07-09T00:00:00",
          "2020-07-10T00:00:00",
          "2020-07-13T00:00:00",
          "2020-07-14T00:00:00",
          "2020-07-15T00:00:00",
          "2020-07-16T00:00:00",
          "2020-07-17T00:00:00",
          "2020-07-20T00:00:00",
          "2020-07-21T00:00:00",
          "2020-07-22T00:00:00",
          "2020-07-23T00:00:00",
          "2020-07-24T00:00:00",
          "2020-07-27T00:00:00",
          "2020-07-28T00:00:00",
          "2020-07-29T00:00:00",
          "2020-07-30T00:00:00",
          "2020-07-31T00:00:00",
          "2020-08-03T00:00:00",
          "2020-08-04T00:00:00",
          "2020-08-05T00:00:00",
          "2020-08-06T00:00:00",
          "2020-08-07T00:00:00",
          "2020-08-10T00:00:00",
          "2020-08-11T00:00:00",
          "2020-08-12T00:00:00",
          "2020-08-13T00:00:00",
          "2020-08-14T00:00:00",
          "2020-08-17T00:00:00",
          "2020-08-18T00:00:00",
          "2020-08-19T00:00:00",
          "2020-08-20T00:00:00",
          "2020-08-21T00:00:00",
          "2020-08-24T00:00:00",
          "2020-08-25T00:00:00",
          "2020-08-26T00:00:00",
          "2020-08-27T00:00:00",
          "2020-08-28T00:00:00",
          "2020-08-31T00:00:00",
          "2020-09-01T00:00:00",
          "2020-09-02T00:00:00",
          "2020-09-03T00:00:00",
          "2020-09-04T00:00:00",
          "2020-09-08T00:00:00",
          "2020-09-09T00:00:00",
          "2020-09-10T00:00:00",
          "2020-09-11T00:00:00",
          "2020-09-14T00:00:00",
          "2020-09-15T00:00:00",
          "2020-09-16T00:00:00",
          "2020-09-17T00:00:00",
          "2020-09-18T00:00:00"
         ],
         "y": [
          154.8699951171875,
          155.1423761276972,
          155.57357822686367,
          155.92085660722935,
          156.23410899833772,
          156.41657422673262,
          156.4426150090825,
          156.57569894515944,
          156.16087059044932,
          156.01888274078226,
          155.68565621998977,
          155.67464203944016,
          155.70467665408054,
          155.6785162751949,
          155.8081807524271,
          156.02644983348313,
          155.9115505468865,
          155.78473638347393,
          155.37190405630898,
          155.13172329890008,
          155.10013089441034,
          155.42773683647917,
          155.79938112167684,
          156.24705911008857,
          156.58829175018056,
          156.56750159465741,
          156.68488268580984,
          156.87775164086293,
          157.10748894041242,
          157.36772774017226,
          157.92699228807624,
          157.679659863598,
          157.54350178135059,
          157.02697733714456,
          156.402503421293,
          155.83178915851363,
          155.39161940188063,
          155.38765623060777,
          155.44597468483562,
          155.72064393685648,
          156.2653447468136,
          156.94293142643255,
          157.63979457694714,
          158.42267134203328,
          159.1538460812221,
          159.68300423671212,
          160.13033763157884,
          160.4960198781621,
          160.73163714888028,
          160.82481520268854,
          161.0824517337941,
          161.27459976900568,
          161.52463730495603,
          161.76800535506067,
          162.13867186049387,
          162.22260828068121,
          162.46807444935519,
          163.1387335024486,
          163.4407586506529,
          163.66259156701557,
          163.61567791005652,
          163.8141844851218,
          163.75092823858492,
          163.9813158510002,
          164.4078578379399,
          164.61377683663312,
          165.08008328141435,
          165.77531391011894,
          166.13480811408454
         ]
        }
       ],
       "layout": {
        "template": {
         "data": {
          "bar": [
           {
            "error_x": {
             "color": "#2a3f5f"
            },
            "error_y": {
             "color": "#2a3f5f"
            },
            "marker": {
             "line": {
              "color": "#E5ECF6",
              "width": 0.5
             }
            },
            "type": "bar"
           }
          ],
          "barpolar": [
           {
            "marker": {
             "line": {
              "color": "#E5ECF6",
              "width": 0.5
             }
            },
            "type": "barpolar"
           }
          ],
          "carpet": [
           {
            "aaxis": {
             "endlinecolor": "#2a3f5f",
             "gridcolor": "white",
             "linecolor": "white",
             "minorgridcolor": "white",
             "startlinecolor": "#2a3f5f"
            },
            "baxis": {
             "endlinecolor": "#2a3f5f",
             "gridcolor": "white",
             "linecolor": "white",
             "minorgridcolor": "white",
             "startlinecolor": "#2a3f5f"
            },
            "type": "carpet"
           }
          ],
          "choropleth": [
           {
            "colorbar": {
             "outlinewidth": 0,
             "ticks": ""
            },
            "type": "choropleth"
           }
          ],
          "contour": [
           {
            "colorbar": {
             "outlinewidth": 0,
             "ticks": ""
            },
            "colorscale": [
             [
              0,
              "#0d0887"
             ],
             [
              0.1111111111111111,
              "#46039f"
             ],
             [
              0.2222222222222222,
              "#7201a8"
             ],
             [
              0.3333333333333333,
              "#9c179e"
             ],
             [
              0.4444444444444444,
              "#bd3786"
             ],
             [
              0.5555555555555556,
              "#d8576b"
             ],
             [
              0.6666666666666666,
              "#ed7953"
             ],
             [
              0.7777777777777778,
              "#fb9f3a"
             ],
             [
              0.8888888888888888,
              "#fdca26"
             ],
             [
              1,
              "#f0f921"
             ]
            ],
            "type": "contour"
           }
          ],
          "contourcarpet": [
           {
            "colorbar": {
             "outlinewidth": 0,
             "ticks": ""
            },
            "type": "contourcarpet"
           }
          ],
          "heatmap": [
           {
            "colorbar": {
             "outlinewidth": 0,
             "ticks": ""
            },
            "colorscale": [
             [
              0,
              "#0d0887"
             ],
             [
              0.1111111111111111,
              "#46039f"
             ],
             [
              0.2222222222222222,
              "#7201a8"
             ],
             [
              0.3333333333333333,
              "#9c179e"
             ],
             [
              0.4444444444444444,
              "#bd3786"
             ],
             [
              0.5555555555555556,
              "#d8576b"
             ],
             [
              0.6666666666666666,
              "#ed7953"
             ],
             [
              0.7777777777777778,
              "#fb9f3a"
             ],
             [
              0.8888888888888888,
              "#fdca26"
             ],
             [
              1,
              "#f0f921"
             ]
            ],
            "type": "heatmap"
           }
          ],
          "heatmapgl": [
           {
            "colorbar": {
             "outlinewidth": 0,
             "ticks": ""
            },
            "colorscale": [
             [
              0,
              "#0d0887"
             ],
             [
              0.1111111111111111,
              "#46039f"
             ],
             [
              0.2222222222222222,
              "#7201a8"
             ],
             [
              0.3333333333333333,
              "#9c179e"
             ],
             [
              0.4444444444444444,
              "#bd3786"
             ],
             [
              0.5555555555555556,
              "#d8576b"
             ],
             [
              0.6666666666666666,
              "#ed7953"
             ],
             [
              0.7777777777777778,
              "#fb9f3a"
             ],
             [
              0.8888888888888888,
              "#fdca26"
             ],
             [
              1,
              "#f0f921"
             ]
            ],
            "type": "heatmapgl"
           }
          ],
          "histogram": [
           {
            "marker": {
             "colorbar": {
              "outlinewidth": 0,
              "ticks": ""
             }
            },
            "type": "histogram"
           }
          ],
          "histogram2d": [
           {
            "colorbar": {
             "outlinewidth": 0,
             "ticks": ""
            },
            "colorscale": [
             [
              0,
              "#0d0887"
             ],
             [
              0.1111111111111111,
              "#46039f"
             ],
             [
              0.2222222222222222,
              "#7201a8"
             ],
             [
              0.3333333333333333,
              "#9c179e"
             ],
             [
              0.4444444444444444,
              "#bd3786"
             ],
             [
              0.5555555555555556,
              "#d8576b"
             ],
             [
              0.6666666666666666,
              "#ed7953"
             ],
             [
              0.7777777777777778,
              "#fb9f3a"
             ],
             [
              0.8888888888888888,
              "#fdca26"
             ],
             [
              1,
              "#f0f921"
             ]
            ],
            "type": "histogram2d"
           }
          ],
          "histogram2dcontour": [
           {
            "colorbar": {
             "outlinewidth": 0,
             "ticks": ""
            },
            "colorscale": [
             [
              0,
              "#0d0887"
             ],
             [
              0.1111111111111111,
              "#46039f"
             ],
             [
              0.2222222222222222,
              "#7201a8"
             ],
             [
              0.3333333333333333,
              "#9c179e"
             ],
             [
              0.4444444444444444,
              "#bd3786"
             ],
             [
              0.5555555555555556,
              "#d8576b"
             ],
             [
              0.6666666666666666,
              "#ed7953"
             ],
             [
              0.7777777777777778,
              "#fb9f3a"
             ],
             [
              0.8888888888888888,
              "#fdca26"
             ],
             [
              1,
              "#f0f921"
             ]
            ],
            "type": "histogram2dcontour"
           }
          ],
          "mesh3d": [
           {
            "colorbar": {
             "outlinewidth": 0,
             "ticks": ""
            },
            "type": "mesh3d"
           }
          ],
          "parcoords": [
           {
            "line": {
             "colorbar": {
              "outlinewidth": 0,
              "ticks": ""
             }
            },
            "type": "parcoords"
           }
          ],
          "pie": [
           {
            "automargin": true,
            "type": "pie"
           }
          ],
          "scatter": [
           {
            "marker": {
             "colorbar": {
              "outlinewidth": 0,
              "ticks": ""
             }
            },
            "type": "scatter"
           }
          ],
          "scatter3d": [
           {
            "line": {
             "colorbar": {
              "outlinewidth": 0,
              "ticks": ""
             }
            },
            "marker": {
             "colorbar": {
              "outlinewidth": 0,
              "ticks": ""
             }
            },
            "type": "scatter3d"
           }
          ],
          "scattercarpet": [
           {
            "marker": {
             "colorbar": {
              "outlinewidth": 0,
              "ticks": ""
             }
            },
            "type": "scattercarpet"
           }
          ],
          "scattergeo": [
           {
            "marker": {
             "colorbar": {
              "outlinewidth": 0,
              "ticks": ""
             }
            },
            "type": "scattergeo"
           }
          ],
          "scattergl": [
           {
            "marker": {
             "colorbar": {
              "outlinewidth": 0,
              "ticks": ""
             }
            },
            "type": "scattergl"
           }
          ],
          "scattermapbox": [
           {
            "marker": {
             "colorbar": {
              "outlinewidth": 0,
              "ticks": ""
             }
            },
            "type": "scattermapbox"
           }
          ],
          "scatterpolar": [
           {
            "marker": {
             "colorbar": {
              "outlinewidth": 0,
              "ticks": ""
             }
            },
            "type": "scatterpolar"
           }
          ],
          "scatterpolargl": [
           {
            "marker": {
             "colorbar": {
              "outlinewidth": 0,
              "ticks": ""
             }
            },
            "type": "scatterpolargl"
           }
          ],
          "scatterternary": [
           {
            "marker": {
             "colorbar": {
              "outlinewidth": 0,
              "ticks": ""
             }
            },
            "type": "scatterternary"
           }
          ],
          "surface": [
           {
            "colorbar": {
             "outlinewidth": 0,
             "ticks": ""
            },
            "colorscale": [
             [
              0,
              "#0d0887"
             ],
             [
              0.1111111111111111,
              "#46039f"
             ],
             [
              0.2222222222222222,
              "#7201a8"
             ],
             [
              0.3333333333333333,
              "#9c179e"
             ],
             [
              0.4444444444444444,
              "#bd3786"
             ],
             [
              0.5555555555555556,
              "#d8576b"
             ],
             [
              0.6666666666666666,
              "#ed7953"
             ],
             [
              0.7777777777777778,
              "#fb9f3a"
             ],
             [
              0.8888888888888888,
              "#fdca26"
             ],
             [
              1,
              "#f0f921"
             ]
            ],
            "type": "surface"
           }
          ],
          "table": [
           {
            "cells": {
             "fill": {
              "color": "#EBF0F8"
             },
             "line": {
              "color": "white"
             }
            },
            "header": {
             "fill": {
              "color": "#C8D4E3"
             },
             "line": {
              "color": "white"
             }
            },
            "type": "table"
           }
          ]
         },
         "layout": {
          "annotationdefaults": {
           "arrowcolor": "#2a3f5f",
           "arrowhead": 0,
           "arrowwidth": 1
          },
          "coloraxis": {
           "colorbar": {
            "outlinewidth": 0,
            "ticks": ""
           }
          },
          "colorscale": {
           "diverging": [
            [
             0,
             "#8e0152"
            ],
            [
             0.1,
             "#c51b7d"
            ],
            [
             0.2,
             "#de77ae"
            ],
            [
             0.3,
             "#f1b6da"
            ],
            [
             0.4,
             "#fde0ef"
            ],
            [
             0.5,
             "#f7f7f7"
            ],
            [
             0.6,
             "#e6f5d0"
            ],
            [
             0.7,
             "#b8e186"
            ],
            [
             0.8,
             "#7fbc41"
            ],
            [
             0.9,
             "#4d9221"
            ],
            [
             1,
             "#276419"
            ]
           ],
           "sequential": [
            [
             0,
             "#0d0887"
            ],
            [
             0.1111111111111111,
             "#46039f"
            ],
            [
             0.2222222222222222,
             "#7201a8"
            ],
            [
             0.3333333333333333,
             "#9c179e"
            ],
            [
             0.4444444444444444,
             "#bd3786"
            ],
            [
             0.5555555555555556,
             "#d8576b"
            ],
            [
             0.6666666666666666,
             "#ed7953"
            ],
            [
             0.7777777777777778,
             "#fb9f3a"
            ],
            [
             0.8888888888888888,
             "#fdca26"
            ],
            [
             1,
             "#f0f921"
            ]
           ],
           "sequentialminus": [
            [
             0,
             "#0d0887"
            ],
            [
             0.1111111111111111,
             "#46039f"
            ],
            [
             0.2222222222222222,
             "#7201a8"
            ],
            [
             0.3333333333333333,
             "#9c179e"
            ],
            [
             0.4444444444444444,
             "#bd3786"
            ],
            [
             0.5555555555555556,
             "#d8576b"
            ],
            [
             0.6666666666666666,
             "#ed7953"
            ],
            [
             0.7777777777777778,
             "#fb9f3a"
            ],
            [
             0.8888888888888888,
             "#fdca26"
            ],
            [
             1,
             "#f0f921"
            ]
           ]
          },
          "colorway": [
           "#636efa",
           "#EF553B",
           "#00cc96",
           "#ab63fa",
           "#FFA15A",
           "#19d3f3",
           "#FF6692",
           "#B6E880",
           "#FF97FF",
           "#FECB52"
          ],
          "font": {
           "color": "#2a3f5f"
          },
          "geo": {
           "bgcolor": "white",
           "lakecolor": "white",
           "landcolor": "#E5ECF6",
           "showlakes": true,
           "showland": true,
           "subunitcolor": "white"
          },
          "hoverlabel": {
           "align": "left"
          },
          "hovermode": "closest",
          "mapbox": {
           "style": "light"
          },
          "paper_bgcolor": "white",
          "plot_bgcolor": "#E5ECF6",
          "polar": {
           "angularaxis": {
            "gridcolor": "white",
            "linecolor": "white",
            "ticks": ""
           },
           "bgcolor": "#E5ECF6",
           "radialaxis": {
            "gridcolor": "white",
            "linecolor": "white",
            "ticks": ""
           }
          },
          "scene": {
           "xaxis": {
            "backgroundcolor": "#E5ECF6",
            "gridcolor": "white",
            "gridwidth": 2,
            "linecolor": "white",
            "showbackground": true,
            "ticks": "",
            "zerolinecolor": "white"
           },
           "yaxis": {
            "backgroundcolor": "#E5ECF6",
            "gridcolor": "white",
            "gridwidth": 2,
            "linecolor": "white",
            "showbackground": true,
            "ticks": "",
            "zerolinecolor": "white"
           },
           "zaxis": {
            "backgroundcolor": "#E5ECF6",
            "gridcolor": "white",
            "gridwidth": 2,
            "linecolor": "white",
            "showbackground": true,
            "ticks": "",
            "zerolinecolor": "white"
           }
          },
          "shapedefaults": {
           "line": {
            "color": "#2a3f5f"
           }
          },
          "ternary": {
           "aaxis": {
            "gridcolor": "white",
            "linecolor": "white",
            "ticks": ""
           },
           "baxis": {
            "gridcolor": "white",
            "linecolor": "white",
            "ticks": ""
           },
           "bgcolor": "#E5ECF6",
           "caxis": {
            "gridcolor": "white",
            "linecolor": "white",
            "ticks": ""
           }
          },
          "title": {
           "x": 0.05
          },
          "xaxis": {
           "automargin": true,
           "gridcolor": "white",
           "linecolor": "white",
           "ticks": "",
           "title": {
            "standoff": 15
           },
           "zerolinecolor": "white",
           "zerolinewidth": 2
          },
          "yaxis": {
           "automargin": true,
           "gridcolor": "white",
           "linecolor": "white",
           "ticks": "",
           "title": {
            "standoff": 15
           },
           "zerolinecolor": "white",
           "zerolinewidth": 2
          }
         }
        },
        "title": {
         "text": "STE Price Trend"
        },
        "xaxis": {
         "title": {
          "text": "Day"
         }
        },
        "yaxis": {
         "title": {
          "text": "Price"
         }
        }
       }
      },
      "text/html": [
       "<div>\n",
       "        \n",
       "        \n",
       "            <div id=\"a0f5c421-6c41-44cf-9a15-ce569881a3ce\" class=\"plotly-graph-div\" style=\"height:525px; width:100%;\"></div>\n",
       "            <script type=\"text/javascript\">\n",
       "                require([\"plotly\"], function(Plotly) {\n",
       "                    window.PLOTLYENV=window.PLOTLYENV || {};\n",
       "                    \n",
       "                if (document.getElementById(\"a0f5c421-6c41-44cf-9a15-ce569881a3ce\")) {\n",
       "                    Plotly.newPlot(\n",
       "                        'a0f5c421-6c41-44cf-9a15-ce569881a3ce',\n",
       "                        [{\"line\": {\"color\": \"royalblue\", \"width\": 2.5}, \"name\": \"Close\", \"type\": \"scatter\", \"x\": [\"2020-06-12T00:00:00\", \"2020-06-15T00:00:00\", \"2020-06-16T00:00:00\", \"2020-06-17T00:00:00\", \"2020-06-18T00:00:00\", \"2020-06-19T00:00:00\", \"2020-06-22T00:00:00\", \"2020-06-23T00:00:00\", \"2020-06-24T00:00:00\", \"2020-06-25T00:00:00\", \"2020-06-26T00:00:00\", \"2020-06-29T00:00:00\", \"2020-06-30T00:00:00\", \"2020-07-01T00:00:00\", \"2020-07-02T00:00:00\", \"2020-07-06T00:00:00\", \"2020-07-07T00:00:00\", \"2020-07-08T00:00:00\", \"2020-07-09T00:00:00\", \"2020-07-10T00:00:00\", \"2020-07-13T00:00:00\", \"2020-07-14T00:00:00\", \"2020-07-15T00:00:00\", \"2020-07-16T00:00:00\", \"2020-07-17T00:00:00\", \"2020-07-20T00:00:00\", \"2020-07-21T00:00:00\", \"2020-07-22T00:00:00\", \"2020-07-23T00:00:00\", \"2020-07-24T00:00:00\", \"2020-07-27T00:00:00\", \"2020-07-28T00:00:00\", \"2020-07-29T00:00:00\", \"2020-07-30T00:00:00\", \"2020-07-31T00:00:00\", \"2020-08-03T00:00:00\", \"2020-08-04T00:00:00\", \"2020-08-05T00:00:00\", \"2020-08-06T00:00:00\", \"2020-08-07T00:00:00\", \"2020-08-10T00:00:00\", \"2020-08-11T00:00:00\", \"2020-08-12T00:00:00\", \"2020-08-13T00:00:00\", \"2020-08-14T00:00:00\", \"2020-08-17T00:00:00\", \"2020-08-18T00:00:00\", \"2020-08-19T00:00:00\", \"2020-08-20T00:00:00\", \"2020-08-21T00:00:00\", \"2020-08-24T00:00:00\", \"2020-08-25T00:00:00\", \"2020-08-26T00:00:00\", \"2020-08-27T00:00:00\", \"2020-08-28T00:00:00\", \"2020-08-31T00:00:00\", \"2020-09-01T00:00:00\", \"2020-09-02T00:00:00\", \"2020-09-03T00:00:00\", \"2020-09-04T00:00:00\", \"2020-09-08T00:00:00\", \"2020-09-09T00:00:00\", \"2020-09-10T00:00:00\", \"2020-09-11T00:00:00\", \"2020-09-14T00:00:00\", \"2020-09-15T00:00:00\", \"2020-09-16T00:00:00\", \"2020-09-17T00:00:00\", \"2020-09-18T00:00:00\"], \"y\": [154.8699951171875, 157.72999572753906, 159.6699981689453, 159.22000122070312, 159.2100067138672, 158.14999389648438, 156.69000244140625, 157.83999633789062, 152.22000122070312, 154.6699981689453, 152.52000427246094, 155.57000732421875, 155.99000549316406, 155.42999267578125, 157.0399932861328, 158.10000610351562, 154.82000732421875, 154.5800018310547, 151.4499969482422, 152.85000610351562, 154.8000030517578, 158.5399932861328, 159.3300018310547, 160.5, 159.8300018310547, 156.3699951171875, 157.8000030517578, 158.7100067138672, 159.2899932861328, 159.83999633789062, 163.24000549316406, 155.3300018310547, 156.25, 152.1199951171875, 150.47000122070312, 150.41000366210938, 151.2100067138672, 155.35000610351562, 156.0, 158.3300018310547, 161.44000244140625, 163.3800048828125, 164.25999450683594, 165.86000061035156, 166.10000610351562, 164.7100067138672, 164.3800048828125, 163.97000122070312, 162.97000122070312, 161.7100067138672, 163.52999877929688, 163.10000610351562, 163.89999389648438, 164.0800018310547, 165.66000366210938, 163.02000427246094, 164.8000030517578, 169.50999450683594, 166.30999755859375, 165.77000427246094, 163.1699981689453, 165.6999969482422, 163.14999389648438, 166.1699981689453, 168.4600067138672, 166.57000732421875, 169.50999450683594, 172.3800048828125, 169.5500030517578]}, {\"line\": {\"color\": \"firebrick\", \"dash\": \"dash\", \"width\": 1.5}, \"name\": \"5 Moving Avg.\", \"type\": \"scatter\", \"x\": [\"2020-06-12T00:00:00\", \"2020-06-15T00:00:00\", \"2020-06-16T00:00:00\", \"2020-06-17T00:00:00\", \"2020-06-18T00:00:00\", \"2020-06-19T00:00:00\", \"2020-06-22T00:00:00\", \"2020-06-23T00:00:00\", \"2020-06-24T00:00:00\", \"2020-06-25T00:00:00\", \"2020-06-26T00:00:00\", \"2020-06-29T00:00:00\", \"2020-06-30T00:00:00\", \"2020-07-01T00:00:00\", \"2020-07-02T00:00:00\", \"2020-07-06T00:00:00\", \"2020-07-07T00:00:00\", \"2020-07-08T00:00:00\", \"2020-07-09T00:00:00\", \"2020-07-10T00:00:00\", \"2020-07-13T00:00:00\", \"2020-07-14T00:00:00\", \"2020-07-15T00:00:00\", \"2020-07-16T00:00:00\", \"2020-07-17T00:00:00\", \"2020-07-20T00:00:00\", \"2020-07-21T00:00:00\", \"2020-07-22T00:00:00\", \"2020-07-23T00:00:00\", \"2020-07-24T00:00:00\", \"2020-07-27T00:00:00\", \"2020-07-28T00:00:00\", \"2020-07-29T00:00:00\", \"2020-07-30T00:00:00\", \"2020-07-31T00:00:00\", \"2020-08-03T00:00:00\", \"2020-08-04T00:00:00\", \"2020-08-05T00:00:00\", \"2020-08-06T00:00:00\", \"2020-08-07T00:00:00\", \"2020-08-10T00:00:00\", \"2020-08-11T00:00:00\", \"2020-08-12T00:00:00\", \"2020-08-13T00:00:00\", \"2020-08-14T00:00:00\", \"2020-08-17T00:00:00\", \"2020-08-18T00:00:00\", \"2020-08-19T00:00:00\", \"2020-08-20T00:00:00\", \"2020-08-21T00:00:00\", \"2020-08-24T00:00:00\", \"2020-08-25T00:00:00\", \"2020-08-26T00:00:00\", \"2020-08-27T00:00:00\", \"2020-08-28T00:00:00\", \"2020-08-31T00:00:00\", \"2020-09-01T00:00:00\", \"2020-09-02T00:00:00\", \"2020-09-03T00:00:00\", \"2020-09-04T00:00:00\", \"2020-09-08T00:00:00\", \"2020-09-09T00:00:00\", \"2020-09-10T00:00:00\", \"2020-09-11T00:00:00\", \"2020-09-14T00:00:00\", \"2020-09-15T00:00:00\", \"2020-09-16T00:00:00\", \"2020-09-17T00:00:00\", \"2020-09-18T00:00:00\"], \"y\": [154.8699951171875, 155.82332865397137, 157.10555182562936, 157.81036829065397, 158.27691443172506, 158.23460758664484, 157.71973920489864, 157.759824915896, 155.91321701749837, 155.49881073464735, 154.50587524725188, 154.86058593957418, 155.23705912410415, 155.30137030799654, 155.88091130070865, 156.62060956831098, 156.02040882028024, 155.54027315720506, 154.17684775421745, 153.73456720398352, 154.08971248657497, 155.57313941976093, 156.8254268901922, 158.05028459346147, 158.64352367265923, 157.88568082083532, 157.85712156447616, 158.14141661427317, 158.52427550489307, 158.96284911589225, 160.3885679083162, 158.7023792158957, 157.8849194772638, 155.96327802390505, 154.13218575617108, 152.89145839148387, 152.33097449894498, 153.3373183671352, 154.22487891142347, 155.59325321796723, 157.54216962578025, 159.48811471145768, 161.07874130991712, 162.67249441006194, 163.81499830787985, 164.11333444320897, 164.20222458974348, 164.12481680006337, 163.73987827360997, 163.0632544203624, 163.21883587334057, 163.1792259500656, 163.4194819322052, 163.6396552318217, 164.31310470858426, 163.8820712298765, 164.18804850383694, 165.9620305048366, 166.07801952275565, 165.97534777265741, 165.04023123808673, 165.2601531414719, 164.55676672647607, 165.09451054063248, 166.2163425983774, 166.33423084032452, 167.39281872916166, 169.05521411371194, 169.22014375972725]}, {\"line\": {\"color\": \"green\", \"dash\": \"dash\", \"width\": 1.5}, \"name\": \"20 Moving Avg.\", \"type\": \"scatter\", \"x\": [\"2020-06-12T00:00:00\", \"2020-06-15T00:00:00\", \"2020-06-16T00:00:00\", \"2020-06-17T00:00:00\", \"2020-06-18T00:00:00\", \"2020-06-19T00:00:00\", \"2020-06-22T00:00:00\", \"2020-06-23T00:00:00\", \"2020-06-24T00:00:00\", \"2020-06-25T00:00:00\", \"2020-06-26T00:00:00\", \"2020-06-29T00:00:00\", \"2020-06-30T00:00:00\", \"2020-07-01T00:00:00\", \"2020-07-02T00:00:00\", \"2020-07-06T00:00:00\", \"2020-07-07T00:00:00\", \"2020-07-08T00:00:00\", \"2020-07-09T00:00:00\", \"2020-07-10T00:00:00\", \"2020-07-13T00:00:00\", \"2020-07-14T00:00:00\", \"2020-07-15T00:00:00\", \"2020-07-16T00:00:00\", \"2020-07-17T00:00:00\", \"2020-07-20T00:00:00\", \"2020-07-21T00:00:00\", \"2020-07-22T00:00:00\", \"2020-07-23T00:00:00\", \"2020-07-24T00:00:00\", \"2020-07-27T00:00:00\", \"2020-07-28T00:00:00\", \"2020-07-29T00:00:00\", \"2020-07-30T00:00:00\", \"2020-07-31T00:00:00\", \"2020-08-03T00:00:00\", \"2020-08-04T00:00:00\", \"2020-08-05T00:00:00\", \"2020-08-06T00:00:00\", \"2020-08-07T00:00:00\", \"2020-08-10T00:00:00\", \"2020-08-11T00:00:00\", \"2020-08-12T00:00:00\", \"2020-08-13T00:00:00\", \"2020-08-14T00:00:00\", \"2020-08-17T00:00:00\", \"2020-08-18T00:00:00\", \"2020-08-19T00:00:00\", \"2020-08-20T00:00:00\", \"2020-08-21T00:00:00\", \"2020-08-24T00:00:00\", \"2020-08-25T00:00:00\", \"2020-08-26T00:00:00\", \"2020-08-27T00:00:00\", \"2020-08-28T00:00:00\", \"2020-08-31T00:00:00\", \"2020-09-01T00:00:00\", \"2020-09-02T00:00:00\", \"2020-09-03T00:00:00\", \"2020-09-04T00:00:00\", \"2020-09-08T00:00:00\", \"2020-09-09T00:00:00\", \"2020-09-10T00:00:00\", \"2020-09-11T00:00:00\", \"2020-09-14T00:00:00\", \"2020-09-15T00:00:00\", \"2020-09-16T00:00:00\", \"2020-09-17T00:00:00\", \"2020-09-18T00:00:00\"], \"y\": [154.8699951171875, 155.1423761276972, 155.57357822686367, 155.92085660722935, 156.23410899833772, 156.41657422673262, 156.4426150090825, 156.57569894515944, 156.16087059044932, 156.01888274078226, 155.68565621998977, 155.67464203944016, 155.70467665408054, 155.6785162751949, 155.8081807524271, 156.02644983348313, 155.9115505468865, 155.78473638347393, 155.37190405630898, 155.13172329890008, 155.10013089441034, 155.42773683647917, 155.79938112167684, 156.24705911008857, 156.58829175018056, 156.56750159465741, 156.68488268580984, 156.87775164086293, 157.10748894041242, 157.36772774017226, 157.92699228807624, 157.679659863598, 157.54350178135059, 157.02697733714456, 156.402503421293, 155.83178915851363, 155.39161940188063, 155.38765623060777, 155.44597468483562, 155.72064393685648, 156.2653447468136, 156.94293142643255, 157.63979457694714, 158.42267134203328, 159.1538460812221, 159.68300423671212, 160.13033763157884, 160.4960198781621, 160.73163714888028, 160.82481520268854, 161.0824517337941, 161.27459976900568, 161.52463730495603, 161.76800535506067, 162.13867186049387, 162.22260828068121, 162.46807444935519, 163.1387335024486, 163.4407586506529, 163.66259156701557, 163.61567791005652, 163.8141844851218, 163.75092823858492, 163.9813158510002, 164.4078578379399, 164.61377683663312, 165.08008328141435, 165.77531391011894, 166.13480811408454]}],\n",
       "                        {\"template\": {\"data\": {\"bar\": [{\"error_x\": {\"color\": \"#2a3f5f\"}, \"error_y\": {\"color\": \"#2a3f5f\"}, \"marker\": {\"line\": {\"color\": \"#E5ECF6\", \"width\": 0.5}}, \"type\": \"bar\"}], \"barpolar\": [{\"marker\": {\"line\": {\"color\": \"#E5ECF6\", \"width\": 0.5}}, \"type\": \"barpolar\"}], \"carpet\": [{\"aaxis\": {\"endlinecolor\": \"#2a3f5f\", \"gridcolor\": \"white\", \"linecolor\": \"white\", \"minorgridcolor\": \"white\", \"startlinecolor\": \"#2a3f5f\"}, \"baxis\": {\"endlinecolor\": \"#2a3f5f\", \"gridcolor\": \"white\", \"linecolor\": \"white\", \"minorgridcolor\": \"white\", \"startlinecolor\": \"#2a3f5f\"}, \"type\": \"carpet\"}], \"choropleth\": [{\"colorbar\": {\"outlinewidth\": 0, \"ticks\": \"\"}, \"type\": \"choropleth\"}], \"contour\": [{\"colorbar\": {\"outlinewidth\": 0, \"ticks\": \"\"}, \"colorscale\": [[0.0, \"#0d0887\"], [0.1111111111111111, \"#46039f\"], [0.2222222222222222, \"#7201a8\"], [0.3333333333333333, \"#9c179e\"], [0.4444444444444444, \"#bd3786\"], [0.5555555555555556, \"#d8576b\"], [0.6666666666666666, \"#ed7953\"], [0.7777777777777778, \"#fb9f3a\"], [0.8888888888888888, \"#fdca26\"], [1.0, \"#f0f921\"]], \"type\": \"contour\"}], \"contourcarpet\": [{\"colorbar\": {\"outlinewidth\": 0, \"ticks\": \"\"}, \"type\": \"contourcarpet\"}], \"heatmap\": [{\"colorbar\": {\"outlinewidth\": 0, \"ticks\": \"\"}, \"colorscale\": [[0.0, \"#0d0887\"], [0.1111111111111111, \"#46039f\"], [0.2222222222222222, \"#7201a8\"], [0.3333333333333333, \"#9c179e\"], [0.4444444444444444, \"#bd3786\"], [0.5555555555555556, \"#d8576b\"], [0.6666666666666666, \"#ed7953\"], [0.7777777777777778, \"#fb9f3a\"], [0.8888888888888888, \"#fdca26\"], [1.0, \"#f0f921\"]], \"type\": \"heatmap\"}], \"heatmapgl\": [{\"colorbar\": {\"outlinewidth\": 0, \"ticks\": \"\"}, \"colorscale\": [[0.0, \"#0d0887\"], [0.1111111111111111, \"#46039f\"], [0.2222222222222222, \"#7201a8\"], [0.3333333333333333, \"#9c179e\"], [0.4444444444444444, \"#bd3786\"], [0.5555555555555556, \"#d8576b\"], [0.6666666666666666, \"#ed7953\"], [0.7777777777777778, \"#fb9f3a\"], [0.8888888888888888, \"#fdca26\"], [1.0, \"#f0f921\"]], \"type\": \"heatmapgl\"}], \"histogram\": [{\"marker\": {\"colorbar\": {\"outlinewidth\": 0, \"ticks\": \"\"}}, \"type\": \"histogram\"}], \"histogram2d\": [{\"colorbar\": {\"outlinewidth\": 0, \"ticks\": \"\"}, \"colorscale\": [[0.0, \"#0d0887\"], [0.1111111111111111, \"#46039f\"], [0.2222222222222222, \"#7201a8\"], [0.3333333333333333, \"#9c179e\"], [0.4444444444444444, \"#bd3786\"], [0.5555555555555556, \"#d8576b\"], [0.6666666666666666, \"#ed7953\"], [0.7777777777777778, \"#fb9f3a\"], [0.8888888888888888, \"#fdca26\"], [1.0, \"#f0f921\"]], \"type\": \"histogram2d\"}], \"histogram2dcontour\": [{\"colorbar\": {\"outlinewidth\": 0, \"ticks\": \"\"}, \"colorscale\": [[0.0, \"#0d0887\"], [0.1111111111111111, \"#46039f\"], [0.2222222222222222, \"#7201a8\"], [0.3333333333333333, \"#9c179e\"], [0.4444444444444444, \"#bd3786\"], [0.5555555555555556, \"#d8576b\"], [0.6666666666666666, \"#ed7953\"], [0.7777777777777778, \"#fb9f3a\"], [0.8888888888888888, \"#fdca26\"], [1.0, \"#f0f921\"]], \"type\": \"histogram2dcontour\"}], \"mesh3d\": [{\"colorbar\": {\"outlinewidth\": 0, \"ticks\": \"\"}, \"type\": \"mesh3d\"}], \"parcoords\": [{\"line\": {\"colorbar\": {\"outlinewidth\": 0, \"ticks\": \"\"}}, \"type\": \"parcoords\"}], \"pie\": [{\"automargin\": true, \"type\": \"pie\"}], \"scatter\": [{\"marker\": {\"colorbar\": {\"outlinewidth\": 0, \"ticks\": \"\"}}, \"type\": \"scatter\"}], \"scatter3d\": [{\"line\": {\"colorbar\": {\"outlinewidth\": 0, \"ticks\": \"\"}}, \"marker\": {\"colorbar\": {\"outlinewidth\": 0, \"ticks\": \"\"}}, \"type\": \"scatter3d\"}], \"scattercarpet\": [{\"marker\": {\"colorbar\": {\"outlinewidth\": 0, \"ticks\": \"\"}}, \"type\": \"scattercarpet\"}], \"scattergeo\": [{\"marker\": {\"colorbar\": {\"outlinewidth\": 0, \"ticks\": \"\"}}, \"type\": \"scattergeo\"}], \"scattergl\": [{\"marker\": {\"colorbar\": {\"outlinewidth\": 0, \"ticks\": \"\"}}, \"type\": \"scattergl\"}], \"scattermapbox\": [{\"marker\": {\"colorbar\": {\"outlinewidth\": 0, \"ticks\": \"\"}}, \"type\": \"scattermapbox\"}], \"scatterpolar\": [{\"marker\": {\"colorbar\": {\"outlinewidth\": 0, \"ticks\": \"\"}}, \"type\": \"scatterpolar\"}], \"scatterpolargl\": [{\"marker\": {\"colorbar\": {\"outlinewidth\": 0, \"ticks\": \"\"}}, \"type\": \"scatterpolargl\"}], \"scatterternary\": [{\"marker\": {\"colorbar\": {\"outlinewidth\": 0, \"ticks\": \"\"}}, \"type\": \"scatterternary\"}], \"surface\": [{\"colorbar\": {\"outlinewidth\": 0, \"ticks\": \"\"}, \"colorscale\": [[0.0, \"#0d0887\"], [0.1111111111111111, \"#46039f\"], [0.2222222222222222, \"#7201a8\"], [0.3333333333333333, \"#9c179e\"], [0.4444444444444444, \"#bd3786\"], [0.5555555555555556, \"#d8576b\"], [0.6666666666666666, \"#ed7953\"], [0.7777777777777778, \"#fb9f3a\"], [0.8888888888888888, \"#fdca26\"], [1.0, \"#f0f921\"]], \"type\": \"surface\"}], \"table\": [{\"cells\": {\"fill\": {\"color\": \"#EBF0F8\"}, \"line\": {\"color\": \"white\"}}, \"header\": {\"fill\": {\"color\": \"#C8D4E3\"}, \"line\": {\"color\": \"white\"}}, \"type\": \"table\"}]}, \"layout\": {\"annotationdefaults\": {\"arrowcolor\": \"#2a3f5f\", \"arrowhead\": 0, \"arrowwidth\": 1}, \"coloraxis\": {\"colorbar\": {\"outlinewidth\": 0, \"ticks\": \"\"}}, \"colorscale\": {\"diverging\": [[0, \"#8e0152\"], [0.1, \"#c51b7d\"], [0.2, \"#de77ae\"], [0.3, \"#f1b6da\"], [0.4, \"#fde0ef\"], [0.5, \"#f7f7f7\"], [0.6, \"#e6f5d0\"], [0.7, \"#b8e186\"], [0.8, \"#7fbc41\"], [0.9, \"#4d9221\"], [1, \"#276419\"]], \"sequential\": [[0.0, \"#0d0887\"], [0.1111111111111111, \"#46039f\"], [0.2222222222222222, \"#7201a8\"], [0.3333333333333333, \"#9c179e\"], [0.4444444444444444, \"#bd3786\"], [0.5555555555555556, \"#d8576b\"], [0.6666666666666666, \"#ed7953\"], [0.7777777777777778, \"#fb9f3a\"], [0.8888888888888888, \"#fdca26\"], [1.0, \"#f0f921\"]], \"sequentialminus\": [[0.0, \"#0d0887\"], [0.1111111111111111, \"#46039f\"], [0.2222222222222222, \"#7201a8\"], [0.3333333333333333, \"#9c179e\"], [0.4444444444444444, \"#bd3786\"], [0.5555555555555556, \"#d8576b\"], [0.6666666666666666, \"#ed7953\"], [0.7777777777777778, \"#fb9f3a\"], [0.8888888888888888, \"#fdca26\"], [1.0, \"#f0f921\"]]}, \"colorway\": [\"#636efa\", \"#EF553B\", \"#00cc96\", \"#ab63fa\", \"#FFA15A\", \"#19d3f3\", \"#FF6692\", \"#B6E880\", \"#FF97FF\", \"#FECB52\"], \"font\": {\"color\": \"#2a3f5f\"}, \"geo\": {\"bgcolor\": \"white\", \"lakecolor\": \"white\", \"landcolor\": \"#E5ECF6\", \"showlakes\": true, \"showland\": true, \"subunitcolor\": \"white\"}, \"hoverlabel\": {\"align\": \"left\"}, \"hovermode\": \"closest\", \"mapbox\": {\"style\": \"light\"}, \"paper_bgcolor\": \"white\", \"plot_bgcolor\": \"#E5ECF6\", \"polar\": {\"angularaxis\": {\"gridcolor\": \"white\", \"linecolor\": \"white\", \"ticks\": \"\"}, \"bgcolor\": \"#E5ECF6\", \"radialaxis\": {\"gridcolor\": \"white\", \"linecolor\": \"white\", \"ticks\": \"\"}}, \"scene\": {\"xaxis\": {\"backgroundcolor\": \"#E5ECF6\", \"gridcolor\": \"white\", \"gridwidth\": 2, \"linecolor\": \"white\", \"showbackground\": true, \"ticks\": \"\", \"zerolinecolor\": \"white\"}, \"yaxis\": {\"backgroundcolor\": \"#E5ECF6\", \"gridcolor\": \"white\", \"gridwidth\": 2, \"linecolor\": \"white\", \"showbackground\": true, \"ticks\": \"\", \"zerolinecolor\": \"white\"}, \"zaxis\": {\"backgroundcolor\": \"#E5ECF6\", \"gridcolor\": \"white\", \"gridwidth\": 2, \"linecolor\": \"white\", \"showbackground\": true, \"ticks\": \"\", \"zerolinecolor\": \"white\"}}, \"shapedefaults\": {\"line\": {\"color\": \"#2a3f5f\"}}, \"ternary\": {\"aaxis\": {\"gridcolor\": \"white\", \"linecolor\": \"white\", \"ticks\": \"\"}, \"baxis\": {\"gridcolor\": \"white\", \"linecolor\": \"white\", \"ticks\": \"\"}, \"bgcolor\": \"#E5ECF6\", \"caxis\": {\"gridcolor\": \"white\", \"linecolor\": \"white\", \"ticks\": \"\"}}, \"title\": {\"x\": 0.05}, \"xaxis\": {\"automargin\": true, \"gridcolor\": \"white\", \"linecolor\": \"white\", \"ticks\": \"\", \"title\": {\"standoff\": 15}, \"zerolinecolor\": \"white\", \"zerolinewidth\": 2}, \"yaxis\": {\"automargin\": true, \"gridcolor\": \"white\", \"linecolor\": \"white\", \"ticks\": \"\", \"title\": {\"standoff\": 15}, \"zerolinecolor\": \"white\", \"zerolinewidth\": 2}}}, \"title\": {\"text\": \"STE Price Trend\"}, \"xaxis\": {\"title\": {\"text\": \"Day\"}}, \"yaxis\": {\"title\": {\"text\": \"Price\"}}},\n",
       "                        {\"responsive\": true}\n",
       "                    ).then(function(){\n",
       "                            \n",
       "var gd = document.getElementById('a0f5c421-6c41-44cf-9a15-ce569881a3ce');\n",
       "var x = new MutationObserver(function (mutations, observer) {{\n",
       "        var display = window.getComputedStyle(gd).display;\n",
       "        if (!display || display === 'none') {{\n",
       "            console.log([gd, 'removed!']);\n",
       "            Plotly.purge(gd);\n",
       "            observer.disconnect();\n",
       "        }}\n",
       "}});\n",
       "\n",
       "// Listen for the removal of the full notebook cells\n",
       "var notebookContainer = gd.closest('#notebook-container');\n",
       "if (notebookContainer) {{\n",
       "    x.observe(notebookContainer, {childList: true});\n",
       "}}\n",
       "\n",
       "// Listen for the clearing of the current output cell\n",
       "var outputEl = gd.closest('.output');\n",
       "if (outputEl) {{\n",
       "    x.observe(outputEl, {childList: true});\n",
       "}}\n",
       "\n",
       "                        })\n",
       "                };\n",
       "                });\n",
       "            </script>\n",
       "        </div>"
      ]
     },
     "metadata": {},
     "output_type": "display_data"
    }
   ],
   "source": [
    "fig = go.Figure()\n",
    "# Create and style traces\n",
    "fig.add_trace(go.Scatter(x=df['key_0'], y=df['Close'], name='Close',\n",
    "                         line=dict(color='royalblue', width=2.5)))\n",
    "\n",
    "fig.add_trace(go.Scatter(x=df['key_0'], y=df['short_avg'], name = f'{short} Moving Avg.',\n",
    "                         line=dict(color='firebrick', width=1.5, dash = 'dash')))\n",
    "\n",
    "fig.add_trace(go.Scatter(x=df['key_0'], y=df['long_avg'], name=f'{long} Moving Avg.',\n",
    "                         line=dict(color='green', width=1.5,\n",
    "                              dash='dash') # dash options include 'dash', 'dot', and 'dashdot'\n",
    "))\n",
    "\n",
    "fig.update_layout(title=f'{stock} Price Trend',\n",
    "                   xaxis_title='Day',\n",
    "                   yaxis_title='Price')"
   ]
  },
  {
   "cell_type": "code",
   "execution_count": null,
   "metadata": {},
   "outputs": [],
   "source": [
    "\n",
    "\n",
    "df"
   ]
  },
  {
   "cell_type": "code",
   "execution_count": null,
   "metadata": {},
   "outputs": [],
   "source": [
    "result = seasonal_decompose(df['Close'], period = 1, model = 'additive')\n",
    "result.plot()\n",
    "plt.show()"
   ]
  },
  {
   "cell_type": "code",
   "execution_count": null,
   "metadata": {},
   "outputs": [],
   "source": [
    "log_data = [math.log(x) for x in df['Close']]\n",
    "\n",
    "\n",
    "model = ARIMA(log_data, order = (1,2,0))\n",
    "results = model.fit(disp = -1)\n",
    "\n",
    "plt.plot(log_data)\n",
    "plt.plot(results.fittedvalues, color = 'red')"
   ]
  },
  {
   "cell_type": "code",
   "execution_count": null,
   "metadata": {},
   "outputs": [],
   "source": []
  },
  {
   "cell_type": "code",
   "execution_count": 34,
   "metadata": {},
   "outputs": [
    {
     "name": "stderr",
     "output_type": "stream",
     "text": [
      "[nltk_data] Downloading package vader_lexicon to\n",
      "[nltk_data]     /Users/rayechevarria/nltk_data...\n",
      "[nltk_data]   Package vader_lexicon is already up-to-date!\n"
     ]
    }
   ],
   "source": [
    "from nltk.sentiment.vader import SentimentIntensityAnalyzer\n",
    "import nltk\n",
    "nltk.download('vader_lexicon')\n",
    "\n",
    "from urllib.request import urlopen, Request"
   ]
  },
  {
   "cell_type": "code",
   "execution_count": 35,
   "metadata": {},
   "outputs": [
    {
     "data": {
      "text/plain": [
       "0.8119"
      ]
     },
     "execution_count": 35,
     "metadata": {},
     "output_type": "execute_result"
    }
   ],
   "source": [
    "analyzer = SentimentIntensityAnalyzer()\n",
    "\n",
    "analyzer.polarity_scores(\"This sentence is so positive that it is very good\").get('compound')"
   ]
  },
  {
   "cell_type": "code",
   "execution_count": 36,
   "metadata": {},
   "outputs": [
    {
     "name": "stdout",
     "output_type": "stream",
     "text": [
      "https://finviz.com/quote.ashx?t=A\n"
     ]
    }
   ],
   "source": [
    "news_url = \"https://finviz.com/quote.ashx?t=\"\n",
    "\n",
    "print(news_url + stock)"
   ]
  },
  {
   "cell_type": "code",
   "execution_count": 37,
   "metadata": {},
   "outputs": [],
   "source": [
    "stock_news = requests.get(news_url + stock, 'html').text"
   ]
  },
  {
   "cell_type": "code",
   "execution_count": 38,
   "metadata": {},
   "outputs": [
    {
     "data": {
      "text/plain": [
       "'<!DOCTYPE html PUBLIC \"-//W3C//DTD XHTML 1.0 Strict//EN\" \"http://www.w3.org/TR/xhtml1/DTD/xhtml1-strict.dtd\">\\r\\n<html xmlns=\"http://www.w3.org/1999/xhtml\">\\r\\n<head>\\r\\n<meta http-equiv=\"Content-Type\" content=\"text/html; charset=iso-8859-1\"/>\\r\\n<title>403 - Forbidden: Access is denied.</title>\\r\\n<style type=\"text/css\">\\r\\n<!--\\r\\nbody{margin:0;font-size:.7em;font-family:Verdana, Arial, Helvetica, sans-serif;background:#EEEEEE;}\\r\\nfieldset{padding:0 15px 10px 15px;} \\r\\nh1{font-size:2.4em;margin:0;color:#FFF;}\\r\\nh2{font-size:1.7em;margin:0;color:#CC0000;} \\r\\nh3{font-size:1.2em;margin:10px 0 0 0;color:#000000;} \\r\\n#header{width:96%;margin:0 0 0 0;padding:6px 2% 6px 2%;font-family:\"trebuchet MS\", Verdana, sans-serif;color:#FFF;\\r\\nbackground-color:#555555;}\\r\\n#content{margin:0 0 0 2%;position:relative;}\\r\\n.content-container{background:#FFF;width:96%;margin-top:8px;padding:10px;position:relative;}\\r\\n-->\\r\\n</style>\\r\\n</head>\\r\\n<body>\\r\\n<div id=\"header\"><h1>Server Error</h1></div>\\r\\n<div id=\"content\">\\r\\n <div class=\"content-container\"><fieldset>\\r\\n  <h2>403 - Forbidden: Access is denied.</h2>\\r\\n  <h3>You do not have permission to view this directory or page using the credentials that you supplied.</h3>\\r\\n </fieldset></div>\\r\\n</div>\\r\\n</body>\\r\\n</html>\\r\\n'"
      ]
     },
     "execution_count": 38,
     "metadata": {},
     "output_type": "execute_result"
    }
   ],
   "source": [
    "stock_news"
   ]
  },
  {
   "cell_type": "code",
   "execution_count": 39,
   "metadata": {},
   "outputs": [],
   "source": [
    "news_tables = {}\n",
    "\n",
    "url = news_url + stock\n",
    "req = Request(url=url,headers={'user-agent': 'my-app/0.0.1'}) \n",
    "resp = urlopen(req)    \n",
    "html = BeautifulSoup(resp, features=\"lxml\")\n",
    "news_table = html.find(id='news-table')\n",
    "news_tables[stock] = news_table"
   ]
  },
  {
   "cell_type": "code",
   "execution_count": 40,
   "metadata": {},
   "outputs": [
    {
     "data": {
      "text/plain": [
       "{'A': <table border=\"0\" cellpadding=\"1\" cellspacing=\"0\" class=\"fullview-news-outer\" id=\"news-table\" width=\"100%\">\n",
       " <tr><td align=\"right\" style=\"white-space:nowrap\" width=\"130\">Oct-08-20 10:32AM  </td><td align=\"left\"><div class=\"news-link-container\"><div class=\"news-link-left\"><a class=\"tab-link-news\" href=\"https://finance.yahoo.com/news/agilent-announces-availability-objective-decision-143200458.html\" target=\"_blank\">Agilent Announces the Availability of Objective Decision Support for Pathologists Reviewing Breast Cancer Cases</a></div><div class=\"news-link-right\"><span style=\"color:#aa6dc0;font-size:9px\"> Business Wire</span></div></div></td></tr>\n",
       " <tr><td align=\"right\" style=\"white-space:nowrap\" width=\"130\">Oct-07-20 04:44PM  </td><td align=\"left\"><div class=\"news-link-container\"><div class=\"news-link-left\"><a class=\"tab-link-news\" href=\"https://www.investors.com/market-trend/stock-market-today/dow-jones-rises-530-points-on-stimulus-hopes-several-leading-stocks-break-out/?src=A00220\" target=\"_blank\">Dow Jones Rises 530 Points On Stimulus Hopes; Several Leading Stocks Break Out</a></div><div class=\"news-link-right\"><span style=\"color:#aa6dc0;font-size:9px\"> Investor's Business Daily</span></div></div></td></tr>\n",
       " <tr><td align=\"right\" style=\"white-space:nowrap\" width=\"130\">Sep-30-20 09:41AM  </td><td align=\"left\"><div class=\"news-link-container\"><div class=\"news-link-left\"><a class=\"tab-link-news\" href=\"https://finance.yahoo.com/news/nike-organigram-thermo-fisher-danaher-134101070.html\" target=\"_blank\">Nike, OrganiGram, Thermo Fisher, Danaher Corp and Agilent Tech highlighted as Zacks Bull and Bear of the Day</a></div><div class=\"news-link-right\"><span style=\"color:#aa6dc0;font-size:9px\"> Zacks</span></div></div></td></tr>\n",
       " <tr><td align=\"right\" style=\"white-space:nowrap\" width=\"130\">Sep-17-20 11:30AM  </td><td align=\"left\"><div class=\"news-link-container\"><div class=\"news-link-left\"><a class=\"tab-link-news\" href=\"https://finance.yahoo.com/news/agilent-2-since-last-earnings-153003240.html\" target=\"_blank\">Agilent (A) Up 2% Since Last Earnings Report: Can It Continue?</a></div><div class=\"news-link-right\"><span style=\"color:#aa6dc0;font-size:9px\"> Zacks</span></div></div></td></tr>\n",
       " <tr><td align=\"right\" width=\"130\">08:00AM  </td><td align=\"left\"><div class=\"news-link-container\"><div class=\"news-link-left\"><a class=\"tab-link-news\" href=\"https://finance.yahoo.com/news/agilent-expands-line-innovative-flow-120000928.html\" target=\"_blank\">Agilent Expands Line of Innovative Flow Cytometers with the NovoCyte Penteon</a></div><div class=\"news-link-right\"><span style=\"color:#aa6dc0;font-size:9px\"> Business Wire</span></div></div></td></tr>\n",
       " <tr><td align=\"right\" width=\"130\">06:42AM  </td><td align=\"left\"><div class=\"news-link-container\"><div class=\"news-link-left\"><a class=\"tab-link-news\" href=\"https://finance.yahoo.com/news/does-agilent-technologies-nyse-ceo-104228338.html\" target=\"_blank\">What Does Agilent Technologies' (NYSE:A) CEO Pay Reveal?</a></div><div class=\"news-link-right\"><span style=\"color:#aa6dc0;font-size:9px\"> Simply Wall St.</span></div></div></td></tr>\n",
       " <tr><td align=\"right\" style=\"white-space:nowrap\" width=\"130\">Sep-16-20 04:05PM  </td><td align=\"left\"><div class=\"news-link-container\"><div class=\"news-link-left\"><a class=\"tab-link-news\" href=\"https://finance.yahoo.com/news/agilent-announces-cash-dividend-18-200500386.html\" target=\"_blank\">Agilent Announces Cash Dividend of 18 Cents Per Share</a></div><div class=\"news-link-right\"><span style=\"color:#aa6dc0;font-size:9px\"> Business Wire</span></div></div></td></tr>\n",
       " <tr><td align=\"right\" style=\"white-space:nowrap\" width=\"130\">Sep-09-20 10:38AM  </td><td align=\"left\"><div class=\"news-link-container\"><div class=\"news-link-left\"><a class=\"tab-link-news\" href=\"https://finance.yahoo.com/news/hedge-funds-coming-back-agilent-143809567.html\" target=\"_blank\">Hedge Funds Are Coming Back To Agilent Technologies Inc. (A)</a></div><div class=\"news-link-right\"><span style=\"color:#aa6dc0;font-size:9px\"> Insider Monkey</span></div></div></td></tr>\n",
       " <tr><td align=\"right\" style=\"white-space:nowrap\" width=\"130\">Sep-03-20 03:30PM  </td><td align=\"left\"><div class=\"news-link-container\"><div class=\"news-link-left\"><a class=\"tab-link-news\" href=\"https://finance.yahoo.com/news/agilent-announces-webcast-investment-community-193000975.html\" target=\"_blank\">Agilent Announces Webcast for Investment Community</a></div><div class=\"news-link-right\"><span style=\"color:#aa6dc0;font-size:9px\"> Business Wire</span></div></div></td></tr>\n",
       " <tr><td align=\"right\" style=\"white-space:nowrap\" width=\"130\">Sep-01-20 08:00AM  </td><td align=\"left\"><div class=\"news-link-container\"><div class=\"news-link-left\"><a class=\"tab-link-news\" href=\"https://finance.yahoo.com/news/agilent-announces-sureselect-xt-hs2-120000715.html\" target=\"_blank\">Agilent Announces SureSelect XT HS2 RNA Reagent Kit, a Library Prep and Target Enrichment Solution for RNA-Seq</a></div><div class=\"news-link-right\"><span style=\"color:#aa6dc0;font-size:9px\"> Business Wire</span></div></div></td></tr>\n",
       " <tr><td align=\"right\" style=\"white-space:nowrap\" width=\"130\">Aug-31-20 12:57PM  </td><td align=\"left\"><div class=\"news-link-container\"><div class=\"news-link-left\"><a class=\"tab-link-news\" href=\"https://finance.yahoo.com/news/why-agilent-technologies-stock-compelling-165700446.html\" target=\"_blank\">Why Agilent Technologies (A) Stock is a Compelling Investment Case</a></div><div class=\"news-link-right\"><span style=\"color:#aa6dc0;font-size:9px\"> Insider Monkey</span></div></div></td></tr>\n",
       " <tr><td align=\"right\" style=\"white-space:nowrap\" width=\"130\">Aug-27-20 08:00AM  </td><td align=\"left\"><div class=\"news-link-container\"><div class=\"news-link-left\"><a class=\"tab-link-news\" href=\"https://finance.yahoo.com/news/agilent-sets-standard-customer-flexibility-120000004.html\" target=\"_blank\">Agilent Sets the Standard in Customer Flexibility with Analytical Technology Subscription Model</a></div><div class=\"news-link-right\"><span style=\"color:#aa6dc0;font-size:9px\"> Business Wire</span></div></div></td></tr>\n",
       " <tr><td align=\"right\" style=\"white-space:nowrap\" width=\"130\">Aug-19-20 10:18AM  </td><td align=\"left\"><div class=\"news-link-container\"><div class=\"news-link-left\"><a class=\"tab-link-news\" href=\"https://finance.yahoo.com/news/p-e-ratio-insights-agilent-141840147.html\" target=\"_blank\">P/E Ratio Insights for Agilent Technologies</a></div><div class=\"news-link-right\"><span style=\"color:#aa6dc0;font-size:9px\"> Benzinga</span></div></div></td></tr>\n",
       " <tr><td align=\"right\" width=\"130\">09:55AM  </td><td align=\"left\"><div class=\"news-link-container\"><div class=\"news-link-left\"><a class=\"tab-link-news\" href=\"https://finance.yahoo.com/news/agilents-q3-earnings-beat-estimates-135501183.html\" target=\"_blank\">Agilent's (A) Q3 Earnings Beat Estimates, Revenues Down Y/Y</a></div><div class=\"news-link-right\"><span style=\"color:#aa6dc0;font-size:9px\"> Zacks</span></div></div></td></tr>\n",
       " <tr><td align=\"right\" width=\"130\">06:53AM  </td><td align=\"left\"><div class=\"news-link-container\"><div class=\"news-link-left\"><a class=\"tab-link-news\" href=\"https://finance.yahoo.com/news/agilent-falls-pre-market-quarterly-105349874.html\" target=\"_blank\">Agilent Falls In Pre-Market As Quarterly Sales Miss; Oppenheimer Says Hold</a></div><div class=\"news-link-right\"><span style=\"color:#aa6dc0;font-size:9px\"> SmarterAnalyst</span></div></div></td></tr>\n",
       " <tr><td align=\"right\" width=\"130\">01:00AM  </td><td align=\"left\"><div class=\"news-link-container\"><div class=\"news-link-left\"><a class=\"tab-link-news\" href=\"https://www.fool.com/earnings/call-transcripts/2020/08/19/agilent-technologies-inc-a-q3-2020-earnings-call-t/?source=eptyholnk0000202&amp;utm_source=yahoo-host&amp;utm_medium=feed&amp;utm_campaign=article\" target=\"_blank\">Agilent Technologies Inc (A) Q3 2020 Earnings Call Transcript</a></div><div class=\"news-link-right\"><span style=\"color:#aa6dc0;font-size:9px\"> Motley Fool</span></div></div></td></tr>\n",
       " <tr><td align=\"right\" style=\"white-space:nowrap\" width=\"130\">Aug-18-20 05:25PM  </td><td align=\"left\"><div class=\"news-link-container\"><div class=\"news-link-left\"><a class=\"tab-link-news\" href=\"https://finance.yahoo.com/news/agilent-technologies-beats-q3-earnings-212509938.html\" target=\"_blank\">Agilent Technologies (A) Beats Q3 Earnings and Revenue Estimates</a></div><div class=\"news-link-right\"><span style=\"color:#aa6dc0;font-size:9px\"> Zacks</span></div></div></td></tr>\n",
       " <tr><td align=\"right\" width=\"130\">04:14PM  </td><td align=\"left\"><div class=\"news-link-container\"><div class=\"news-link-left\"><a class=\"tab-link-news\" href=\"https://www.marketwatch.com/story/agilent-technologies-shares-dip-2-on-decline-in-revenue-2020-08-18?siteid=yhoof2\" target=\"_blank\">Agilent Technologies shares dip 2% on decline in revenue</a></div><div class=\"news-link-right\"><span style=\"color:#aa6dc0;font-size:9px\"> MarketWatch</span></div></div></td></tr>\n",
       " <tr><td align=\"right\" width=\"130\">04:05PM  </td><td align=\"left\"><div class=\"news-link-container\"><div class=\"news-link-left\"><a class=\"tab-link-news\" href=\"https://finance.yahoo.com/news/agilent-reports-third-quarter-fiscal-200500258.html\" target=\"_blank\">Agilent Reports Third-Quarter Fiscal Year 2020 Financial Results</a></div><div class=\"news-link-right\"><span style=\"color:#aa6dc0;font-size:9px\"> Business Wire</span></div></div></td></tr>\n",
       " <tr><td align=\"right\" width=\"130\">09:08AM  </td><td align=\"left\"><div class=\"news-link-container\"><div class=\"news-link-left\"><a class=\"tab-link-news\" href=\"https://finance.yahoo.com/news/agilents-debt-overview-130853299.html\" target=\"_blank\">Agilent's Debt Overview</a></div><div class=\"news-link-right\"><span style=\"color:#aa6dc0;font-size:9px\"> Benzinga</span></div></div></td></tr>\n",
       " <tr><td align=\"right\" width=\"130\">08:00AM  </td><td align=\"left\"><div class=\"news-link-container\"><div class=\"news-link-left\"><a class=\"tab-link-news\" href=\"https://finance.yahoo.com/news/agilent-expand-state-art-manufacturing-120000284.html\" target=\"_blank\">Agilent to Expand State-of-the-Art Manufacturing Capacity for Nucleic Acid-Based Therapeutics</a></div><div class=\"news-link-right\"><span style=\"color:#aa6dc0;font-size:9px\"> Business Wire</span></div></div></td></tr>\n",
       " <tr><td align=\"right\" style=\"white-space:nowrap\" width=\"130\">Aug-17-20 03:55PM  </td><td align=\"left\"><div class=\"news-link-container\"><div class=\"news-link-left\"><a class=\"tab-link-news\" href=\"https://finance.yahoo.com/news/bill-ackman-bows-berkshire-blackstone-195529854.html\" target=\"_blank\">Bill Ackman Bows Out of Berkshire, Blackstone and Park Hotels &amp; Resorts</a></div><div class=\"news-link-right\"><span style=\"color:#aa6dc0;font-size:9px\"> GuruFocus.com</span></div></div></td></tr>\n",
       " <tr><td align=\"right\" width=\"130\">09:00AM  </td><td align=\"left\"><div class=\"news-link-container\"><div class=\"news-link-left\"><a class=\"tab-link-news\" href=\"https://finance.yahoo.com/news/mobilion-closes-35m-series-b-130000475.html\" target=\"_blank\">MOBILion Closes $35M Series B Financing Round</a></div><div class=\"news-link-right\"><span style=\"color:#aa6dc0;font-size:9px\"> PR Newswire</span></div></div></td></tr>\n",
       " <tr><td align=\"right\" style=\"white-space:nowrap\" width=\"130\">Aug-14-20 09:16PM  </td><td align=\"left\"><div class=\"news-link-container\"><div class=\"news-link-left\"><a class=\"tab-link-news\" href=\"https://www.barrons.com/articles/not-your-fathers-tesla-51597454165?siteid=yhoof2\" target=\"_blank\">Not Your Fathers Tesla</a></div><div class=\"news-link-right\"><span style=\"color:#aa6dc0;font-size:9px\"> Barrons.com</span></div></div></td></tr>\n",
       " <tr><td align=\"right\" style=\"white-space:nowrap\" width=\"130\">Aug-13-20 01:16PM  </td><td align=\"left\"><div class=\"news-link-container\"><div class=\"news-link-left\"><a class=\"tab-link-news\" href=\"https://finance.yahoo.com/news/zacks-analyst-blog-highlights-jd-171605748.html\" target=\"_blank\">The Zacks Analyst Blog Highlights: JD, Agilent, Nordson, Deere and Dollar General</a></div><div class=\"news-link-right\"><span style=\"color:#aa6dc0;font-size:9px\"> Zacks</span></div></div></td></tr>\n",
       " <tr><td align=\"right\" style=\"white-space:nowrap\" width=\"130\">Aug-12-20 09:35AM  </td><td align=\"left\"><div class=\"news-link-container\"><div class=\"news-link-left\"><a class=\"tab-link-news\" href=\"https://finance.yahoo.com/news/agilent-gears-q3-earnings-whats-133501975.html\" target=\"_blank\">Agilent (A) Gears Up for Q3 Earnings: What's in the Cards?</a></div><div class=\"news-link-right\"><span style=\"color:#aa6dc0;font-size:9px\"> Zacks</span></div></div></td></tr>\n",
       " <tr><td align=\"right\" width=\"130\">06:49AM  </td><td align=\"left\"><div class=\"news-link-container\"><div class=\"news-link-left\"><a class=\"tab-link-news\" href=\"https://finance.yahoo.com/news/ownership-structure-agilent-technologies-inc-104907406.html\" target=\"_blank\">What Is The Ownership Structure Like For Agilent Technologies, Inc. (NYSE:A)?</a></div><div class=\"news-link-right\"><span style=\"color:#aa6dc0;font-size:9px\"> Simply Wall St.</span></div></div></td></tr>\n",
       " <tr><td align=\"right\" width=\"130\">06:43AM  </td><td align=\"left\"><div class=\"news-link-container\"><div class=\"news-link-left\"><a class=\"tab-link-news\" href=\"https://finance.yahoo.com/news/us-96-30-agilent-technologies-104321921.html\" target=\"_blank\">At US$96.30, Is Agilent Technologies, Inc. (NYSE:A) Worth Looking At Closely?</a></div><div class=\"news-link-right\"><span style=\"color:#aa6dc0;font-size:9px\"> Simply Wall St.</span></div></div></td></tr>\n",
       " <tr><td align=\"right\" style=\"white-space:nowrap\" width=\"130\">Aug-11-20 12:30PM  </td><td align=\"left\"><div class=\"news-link-container\"><div class=\"news-link-left\"><a class=\"tab-link-news\" href=\"https://finance.yahoo.com/news/agilent-technologies-expected-beat-earnings-163004265.html\" target=\"_blank\">Agilent Technologies (A) Expected to Beat Earnings Estimates: Should You Buy?</a></div><div class=\"news-link-right\"><span style=\"color:#aa6dc0;font-size:9px\"> Zacks</span></div></div></td></tr>\n",
       " <tr><td align=\"right\" style=\"white-space:nowrap\" width=\"130\">Aug-07-20 12:00PM  </td><td align=\"left\"><div class=\"news-link-container\"><div class=\"news-link-left\"><a class=\"tab-link-news\" href=\"https://finance.yahoo.com/news/heres-why-momentum-investors-love-160004733.html\" target=\"_blank\">Here's Why Momentum Investors Will Love Agilent Technologies (A)</a></div><div class=\"news-link-right\"><span style=\"color:#aa6dc0;font-size:9px\"> Zacks</span></div></div></td></tr>\n",
       " <tr><td align=\"right\" style=\"white-space:nowrap\" width=\"130\">Aug-04-20 05:53PM  </td><td align=\"left\"><div class=\"news-link-container\"><div class=\"news-link-left\"><a class=\"tab-link-news\" href=\"https://www.investors.com/news/agilent-technologies-at-upper-end-of-buy-range-with-earnings-due/?src=A00220\" target=\"_blank\">Agilent Technologies At Upper End Of Buy Range With Earnings Due</a></div><div class=\"news-link-right\"><span style=\"color:#aa6dc0;font-size:9px\"> Investor's Business Daily</span></div></div></td></tr>\n",
       " <tr><td align=\"right\" style=\"white-space:nowrap\" width=\"130\">Jul-29-20 11:47AM  </td><td align=\"left\"><div class=\"news-link-container\"><div class=\"news-link-left\"><a class=\"tab-link-news\" href=\"https://finance.yahoo.com/news/tractor-supply-tanger-factory-cisco-154703508.html\" target=\"_blank\">Tractor Supply, Tanger Factory, Cisco, Agilent and Benefitfocus as Zacks Bull and Bear of the Day</a></div><div class=\"news-link-right\"><span style=\"color:#aa6dc0;font-size:9px\"> Zacks</span></div></div></td></tr>\n",
       " <tr><td align=\"right\" style=\"white-space:nowrap\" width=\"130\">Jul-27-20 11:00AM  </td><td align=\"left\"><div class=\"news-link-container\"><div class=\"news-link-left\"><a class=\"tab-link-news\" href=\"https://finance.yahoo.com/news/agilent-webcast-third-quarter-fiscal-150000847.html\" target=\"_blank\">Agilent to Webcast Third-Quarter Fiscal Year 2020 Financial Results Conference Call</a></div><div class=\"news-link-right\"><span style=\"color:#aa6dc0;font-size:9px\"> Business Wire</span></div></div></td></tr>\n",
       " <tr><td align=\"right\" style=\"white-space:nowrap\" width=\"130\">Jul-22-20 12:00PM  </td><td align=\"left\"><div class=\"news-link-container\"><div class=\"news-link-left\"><a class=\"tab-link-news\" href=\"https://finance.yahoo.com/news/makes-agilent-buy-stock-160004421.html\" target=\"_blank\">What Makes Agilent (A) a New Buy Stock</a></div><div class=\"news-link-right\"><span style=\"color:#aa6dc0;font-size:9px\"> Zacks</span></div></div></td></tr>\n",
       " <tr><td align=\"right\" width=\"130\">12:00PM  </td><td align=\"left\"><div class=\"news-link-container\"><div class=\"news-link-left\"><a class=\"tab-link-news\" href=\"https://finance.yahoo.com/news/looking-top-momentum-pick-why-160004602.html\" target=\"_blank\">Are You Looking for a Top Momentum Pick? Why Agilent Technologies (A) is a Great Choice</a></div><div class=\"news-link-right\"><span style=\"color:#aa6dc0;font-size:9px\"> Zacks</span></div></div></td></tr>\n",
       " <tr><td align=\"right\" style=\"white-space:nowrap\" width=\"130\">Jul-13-20 07:29AM  </td><td align=\"left\"><div class=\"news-link-container\"><div class=\"news-link-left\"><a class=\"tab-link-news\" href=\"https://finance.yahoo.com/news/agilent-technologies-inc-nyse-stocks-112925637.html\" target=\"_blank\">Agilent Technologies, Inc.'s (NYSE:A) Stock's On An Uptrend: Are Strong Financials Guiding The Market?</a></div><div class=\"news-link-right\"><span style=\"color:#aa6dc0;font-size:9px\"> Simply Wall St.</span></div></div></td></tr>\n",
       " <tr><td align=\"right\" style=\"white-space:nowrap\" width=\"130\">Jul-09-20 09:24PM  </td><td align=\"left\"><div class=\"news-link-container\"><div class=\"news-link-left\"><a class=\"tab-link-news\" href=\"https://finance.yahoo.com/news/did-hedge-funds-call-agilent-012416344.html\" target=\"_blank\">Did Hedge Funds Make The Right Call On Agilent Technologies Inc. (A) ?</a></div><div class=\"news-link-right\"><span style=\"color:#aa6dc0;font-size:9px\"> Insider Monkey</span></div></div></td></tr>\n",
       " <tr><td align=\"right\" style=\"white-space:nowrap\" width=\"130\">Jul-02-20 12:34PM  </td><td align=\"left\"><div class=\"news-link-container\"><div class=\"news-link-left\"><a class=\"tab-link-news\" href=\"https://www.marketwatch.com/story/european-stocks-and-us-futures-climb-ahead-of-eagerly-awaited-jobs-data-2020-07-02?siteid=yhoof2\" target=\"_blank\">European stocks surge as U.S. economy adds 4.8 million jobs in June</a></div><div class=\"news-link-right\"><span style=\"color:#aa6dc0;font-size:9px\"> MarketWatch</span></div></div></td></tr>\n",
       " <tr><td align=\"right\" style=\"white-space:nowrap\" width=\"130\">Jun-28-20 11:32AM  </td><td align=\"left\"><div class=\"news-link-container\"><div class=\"news-link-left\"><a class=\"tab-link-news\" href=\"https://www.barrons.com/articles/these-companies-rank-best-on-social-criteriaand-could-reward-investors-51593215993?siteid=yhoof2\" target=\"_blank\">The 100 Most Sustainable Companies, Reranked by Social Factors</a></div><div class=\"news-link-right\"><span style=\"color:#aa6dc0;font-size:9px\"> Barrons.com</span></div></div></td></tr>\n",
       " <tr><td align=\"right\" style=\"white-space:nowrap\" width=\"130\">Jun-20-20 11:30AM  </td><td align=\"left\"><div class=\"news-link-container\"><div class=\"news-link-left\"><a class=\"tab-link-news\" href=\"https://finance.yahoo.com/news/agilent-9-9-since-last-153003506.html\" target=\"_blank\">Agilent (A) Up 9.9% Since Last Earnings Report: Can It Continue?</a></div><div class=\"news-link-right\"><span style=\"color:#aa6dc0;font-size:9px\"> Zacks</span></div></div></td></tr>\n",
       " <tr><td align=\"right\" style=\"white-space:nowrap\" width=\"130\">Jun-15-20 09:36AM  </td><td align=\"left\"><div class=\"news-link-container\"><div class=\"news-link-left\"><a class=\"tab-link-news\" href=\"https://finance.yahoo.com/video/billions-trillions-great-coronavirus-trade-133609625.html\" target=\"_blank\">Billions or trillions: The great coronavirus trade-off</a></div><div class=\"news-link-right\"><span style=\"color:#aa6dc0;font-size:9px\"> Yahoo Finance Video</span></div></div></td></tr>\n",
       " <tr><td align=\"right\" style=\"white-space:nowrap\" width=\"130\">Jun-11-20 10:05AM  </td><td align=\"left\"><div class=\"news-link-container\"><div class=\"news-link-left\"><a class=\"tab-link-news\" href=\"https://finance.yahoo.com/news/zacks-com-featured-highlights-lowes-140502009.html\" target=\"_blank\">Zacks.com featured highlights include: Lowes Companies, Charles River Laboratories International, Agilent Technologies and East West</a></div><div class=\"news-link-right\"><span style=\"color:#aa6dc0;font-size:9px\"> Zacks</span> <span class=\"body-table-news-loss\">-5.32%</span></div></div></td></tr>\n",
       " <tr><td align=\"right\" style=\"white-space:nowrap\" width=\"130\">Jun-10-20 10:25AM  </td><td align=\"left\"><div class=\"news-link-container\"><div class=\"news-link-left\"><a class=\"tab-link-news\" href=\"https://finance.yahoo.com/news/4-garp-stocks-scoop-maximum-142502452.html\" target=\"_blank\">4 GARP Stocks to Scoop Up for Maximum Returns</a></div><div class=\"news-link-right\"><span style=\"color:#aa6dc0;font-size:9px\"> Zacks</span></div></div></td></tr>\n",
       " <tr><td align=\"right\" style=\"white-space:nowrap\" width=\"130\">Jun-04-20 01:51PM  </td><td align=\"left\"><div class=\"news-link-container\"><div class=\"news-link-left\"><a class=\"tab-link-news\" href=\"https://realmoney.thestreet.com/investing/agilent-technologies-could-trade-still-higher-in-the-weeks-ahead-15340731?puc=yahoo&amp;cm_ven=YAHOO\" target=\"_blank\">Agilent Technologies Could Trade Still Higher in the Weeks Ahead</a></div><div class=\"news-link-right\"><span style=\"color:#aa6dc0;font-size:9px\"> TheStreet.com</span></div></div></td></tr>\n",
       " <tr><td align=\"right\" width=\"130\">08:53AM  </td><td align=\"left\"><div class=\"news-link-container\"><div class=\"news-link-left\"><a class=\"tab-link-news\" href=\"https://finance.yahoo.com/news/agilent-launches-two-products-mass-125312379.html\" target=\"_blank\">Agilent (A) Launches Two Products in Mass Spectrometry</a></div><div class=\"news-link-right\"><span style=\"color:#aa6dc0;font-size:9px\"> Zacks</span></div></div></td></tr>\n",
       " <tr><td align=\"right\" style=\"white-space:nowrap\" width=\"130\">Jun-03-20 03:23AM  </td><td align=\"left\"><div class=\"news-link-container\"><div class=\"news-link-left\"><a class=\"tab-link-news\" href=\"https://finance.yahoo.com/news/agilent-technologies-inc-hedge-funds-132543814.html\" target=\"_blank\">Agilent Technologies Inc. (A): Are Hedge Funds Right About This Stock?</a></div><div class=\"news-link-right\"><span style=\"color:#aa6dc0;font-size:9px\"> Insider Monkey</span></div></div></td></tr>\n",
       " <tr><td align=\"right\" style=\"white-space:nowrap\" width=\"130\">Jun-02-20 08:14AM  </td><td align=\"left\"><div class=\"news-link-container\"><div class=\"news-link-left\"><a class=\"tab-link-news\" href=\"https://finance.yahoo.com/news/agilents-shares-march-higher-continue-121412368.html\" target=\"_blank\">Agilent's Shares March Higher, Can It Continue?</a></div><div class=\"news-link-right\"><span style=\"color:#aa6dc0;font-size:9px\"> Zacks</span></div></div></td></tr>\n",
       " <tr><td align=\"right\" width=\"130\">08:10AM  </td><td align=\"left\"><div class=\"news-link-container\"><div class=\"news-link-left\"><a class=\"tab-link-news\" href=\"https://finance.yahoo.com/news/agilent-announces-proposed-offering-senior-121012436.html\" target=\"_blank\">Agilent (A) Announces Proposed Offering of Senior Notes</a></div><div class=\"news-link-right\"><span style=\"color:#aa6dc0;font-size:9px\"> Zacks</span></div></div></td></tr>\n",
       " <tr><td align=\"right\" style=\"white-space:nowrap\" width=\"130\">Jun-01-20 04:30PM  </td><td align=\"left\"><div class=\"news-link-container\"><div class=\"news-link-left\"><a class=\"tab-link-news\" href=\"https://finance.yahoo.com/news/agilent-technologies-announces-pricing-500-203000921.html\" target=\"_blank\">Agilent Technologies Announces Pricing of $500 Million of Senior Notes</a></div><div class=\"news-link-right\"><span style=\"color:#aa6dc0;font-size:9px\"> Business Wire</span></div></div></td></tr>\n",
       " <tr><td align=\"right\" width=\"130\">11:50AM  </td><td align=\"left\"><div class=\"news-link-container\"><div class=\"news-link-left\"><a class=\"tab-link-news\" href=\"http://www.moodys.com/page/viewresearchdoc.aspx?docid=PR_425566&amp;cid=HFGG75LYEO30\" target=\"_blank\">Agilent Technologies, Inc. -- Moody's assigns Baa2 rating to Agilent's notes offering</a></div><div class=\"news-link-right\"><span style=\"color:#aa6dc0;font-size:9px\"> Moody's</span></div></div></td></tr>\n",
       " <tr><td align=\"right\" width=\"130\">09:41AM  </td><td align=\"left\"><div class=\"news-link-container\"><div class=\"news-link-left\"><a class=\"tab-link-news\" href=\"https://www.marketwatch.com/story/agilent-files-for-an-offering-of-senior-notes-2020-06-01?siteid=yhoof2\" target=\"_blank\">Agilent files for an offering of senior notes</a></div><div class=\"news-link-right\"><span style=\"color:#aa6dc0;font-size:9px\"> MarketWatch</span></div></div></td></tr>\n",
       " <tr><td align=\"right\" width=\"130\">08:48AM  </td><td align=\"left\"><div class=\"news-link-container\"><div class=\"news-link-left\"><a class=\"tab-link-news\" href=\"https://finance.yahoo.com/news/agilent-technologies-announces-proposed-offering-124800560.html\" target=\"_blank\">Agilent Technologies Announces Proposed Offering of Senior Notes</a></div><div class=\"news-link-right\"><span style=\"color:#aa6dc0;font-size:9px\"> Business Wire</span></div></div></td></tr>\n",
       " <tr><td align=\"right\" width=\"130\">08:00AM  </td><td align=\"left\"><div class=\"news-link-container\"><div class=\"news-link-left\"><a class=\"tab-link-news\" href=\"https://finance.yahoo.com/news/agilent-announces-mass-spectrometry-products-120000951.html\" target=\"_blank\">Agilent Announces New Mass Spectrometry Products at ASMS 2020 Reboot</a></div><div class=\"news-link-right\"><span style=\"color:#aa6dc0;font-size:9px\"> Business Wire</span></div></div></td></tr>\n",
       " <tr><td align=\"right\" style=\"white-space:nowrap\" width=\"130\">May-29-20 08:32PM  </td><td align=\"left\"><div class=\"news-link-container\"><div class=\"news-link-left\"><a class=\"tab-link-news\" href=\"https://www.barrons.com/articles/recent-stock-rally-may-trip-up-activist-investors-51590771113?siteid=yhoof2\" target=\"_blank\">Recent Stock Rally May Trip Up Activist Investors</a></div><div class=\"news-link-right\"><span style=\"color:#aa6dc0;font-size:9px\"> Barrons.com</span></div></div></td></tr>\n",
       " <tr><td align=\"right\" style=\"white-space:nowrap\" width=\"130\">May-28-20 12:12PM  </td><td align=\"left\"><div class=\"news-link-container\"><div class=\"news-link-left\"><a class=\"tab-link-news\" href=\"https://www.marketwatch.com/story/why-hedge-fund-manager-bill-ackman-says-he-dumped-berkshire-hathaway-but-held-on-to-these-winners-2020-05-28?siteid=yhoof2\" target=\"_blank\">Why hedge-fund manager Bill Ackman says he dumped Berkshire Hathaway but held on to these winners</a></div><div class=\"news-link-right\"><span style=\"color:#aa6dc0;font-size:9px\"> MarketWatch</span></div></div></td></tr>\n",
       " <tr><td align=\"right\" width=\"130\">06:13AM  </td><td align=\"left\"><div class=\"news-link-container\"><div class=\"news-link-left\"><a class=\"tab-link-news\" href=\"https://finance.yahoo.com/news/billionaire-ackman-exits-berkshire-hathaway-101340619.html\" target=\"_blank\">Billionaire Ackman Exits Berkshire Hathaway, Blackstone To Fund Opportunities</a></div><div class=\"news-link-right\"><span style=\"color:#aa6dc0;font-size:9px\"> SmarterAnalyst</span></div></div></td></tr>\n",
       " <tr><td align=\"right\" style=\"white-space:nowrap\" width=\"130\">May-27-20 11:00AM  </td><td align=\"left\"><div class=\"news-link-container\"><div class=\"news-link-left\"><a class=\"tab-link-news\" href=\"https://finance.yahoo.com/news/agilent-present-jefferies-virtual-healthcare-150000173.html\" target=\"_blank\">Agilent to Present at Jefferies Virtual Healthcare Conference</a></div><div class=\"news-link-right\"><span style=\"color:#aa6dc0;font-size:9px\"> Business Wire</span></div></div></td></tr>\n",
       " <tr><td align=\"right\" style=\"white-space:nowrap\" width=\"130\">May-25-20 03:50AM  </td><td align=\"left\"><div class=\"news-link-container\"><div class=\"news-link-left\"><a class=\"tab-link-news\" href=\"https://finance.yahoo.com/news/agilent-5-solid-revenue-beat-075047322.html\" target=\"_blank\">Agilent Up 5% On Solid Revenue Beat, But Top Analysts Stay Cautious</a></div><div class=\"news-link-right\"><span style=\"color:#aa6dc0;font-size:9px\"> SmarterAnalyst</span></div></div></td></tr>\n",
       " <tr><td align=\"right\" style=\"white-space:nowrap\" width=\"130\">May-23-20 10:43AM  </td><td align=\"left\"><div class=\"news-link-container\"><div class=\"news-link-left\"><a class=\"tab-link-news\" href=\"https://www.marketwatch.com/story/coronavirus-update-us-death-toll-approaches-100000-as-cdcs-testing-practices-are-criticized-by-health-experts-2020-05-22?siteid=yhoof2\" target=\"_blank\">Coronavirus update: U.S. death toll approaches 100,000 as CDCs testing practices are criticized by health experts</a></div><div class=\"news-link-right\"><span style=\"color:#aa6dc0;font-size:9px\"> MarketWatch</span></div></div></td></tr>\n",
       " <tr><td align=\"right\" width=\"130\">12:35AM  </td><td align=\"left\"><div class=\"news-link-container\"><div class=\"news-link-left\"><a class=\"tab-link-news\" href=\"https://finance.yahoo.com/news/edited-transcript-earnings-conference-call-063245152.html\" target=\"_blank\">Edited Transcript of A earnings conference call or presentation 21-May-20 8:30pm GMT</a></div><div class=\"news-link-right\"><span style=\"color:#aa6dc0;font-size:9px\"> Thomson Reuters StreetEvents</span></div></div></td></tr>\n",
       " <tr><td align=\"right\" style=\"white-space:nowrap\" width=\"130\">May-22-20 09:36AM  </td><td align=\"left\"><div class=\"news-link-container\"><div class=\"news-link-left\"><a class=\"tab-link-news\" href=\"https://finance.yahoo.com/news/agilents-q2-earnings-beat-estimates-133601440.html\" target=\"_blank\">Agilent's (A) Q2 Earnings Beat Estimates, Revenues Down Y/Y</a></div><div class=\"news-link-right\"><span style=\"color:#aa6dc0;font-size:9px\"> Zacks</span> <span class=\"body-table-news-gain\">+5.24%</span></div></div></td></tr>\n",
       " <tr><td align=\"right\" width=\"130\">01:00AM  </td><td align=\"left\"><div class=\"news-link-container\"><div class=\"news-link-left\"><a class=\"tab-link-news\" href=\"https://www.fool.com/earnings/call-transcripts/2020/05/22/agilent-technologies-inc-a-q2-2020-earnings-call-t.aspx?source=eptyholnk0000202&amp;utm_source=yahoo-host&amp;utm_medium=feed&amp;utm_campaign=article\" target=\"_blank\">Agilent Technologies Inc (A) Q2 2020 Earnings Call Transcript</a></div><div class=\"news-link-right\"><span style=\"color:#aa6dc0;font-size:9px\"> Motley Fool</span></div></div></td></tr>\n",
       " <tr><td align=\"right\" style=\"white-space:nowrap\" width=\"130\">May-21-20 05:25PM  </td><td align=\"left\"><div class=\"news-link-container\"><div class=\"news-link-left\"><a class=\"tab-link-news\" href=\"https://finance.yahoo.com/news/agilent-technologies-beats-q2-earnings-212509396.html\" target=\"_blank\">Agilent Technologies (A) Beats Q2 Earnings and Revenue Estimates</a></div><div class=\"news-link-right\"><span style=\"color:#aa6dc0;font-size:9px\"> Zacks</span></div></div></td></tr>\n",
       " <tr><td align=\"right\" width=\"130\">04:24PM  </td><td align=\"left\"><div class=\"news-link-container\"><div class=\"news-link-left\"><a class=\"tab-link-news\" href=\"https://www.marketwatch.com/story/agilent-shares-rise-after-company-tops-earnings-expectations-2020-05-21?siteid=yhoof2\" target=\"_blank\">Agilent shares rise after company tops earnings expectations</a></div><div class=\"news-link-right\"><span style=\"color:#aa6dc0;font-size:9px\"> MarketWatch</span></div></div></td></tr>\n",
       " <tr><td align=\"right\" width=\"130\">04:05PM  </td><td align=\"left\"><div class=\"news-link-container\"><div class=\"news-link-left\"><a class=\"tab-link-news\" href=\"https://finance.yahoo.com/news/agilent-reports-second-quarter-fiscal-200500830.html\" target=\"_blank\">Agilent Reports Second-Quarter Fiscal Year 2020 Financial Results</a></div><div class=\"news-link-right\"><span style=\"color:#aa6dc0;font-size:9px\"> Business Wire</span></div></div></td></tr>\n",
       " <tr><td align=\"right\" style=\"white-space:nowrap\" width=\"130\">May-20-20 04:05PM  </td><td align=\"left\"><div class=\"news-link-container\"><div class=\"news-link-left\"><a class=\"tab-link-news\" href=\"https://finance.yahoo.com/news/agilent-announces-cash-dividend-18-200500337.html\" target=\"_blank\">Agilent Announces Cash Dividend of 18 Cents Per Share</a></div><div class=\"news-link-right\"><span style=\"color:#aa6dc0;font-size:9px\"> Business Wire</span></div></div></td></tr>\n",
       " <tr><td align=\"right\" width=\"130\">12:53PM  </td><td align=\"left\"><div class=\"news-link-container\"><div class=\"news-link-left\"><a class=\"tab-link-news\" href=\"https://finance.yahoo.com/news/bill-ackman-adds-2-stocks-165358262.html\" target=\"_blank\">Bill Ackman Adds 2 Stocks to Portfolio, Expands Agilent and Howard Hughes Stakes</a></div><div class=\"news-link-right\"><span style=\"color:#aa6dc0;font-size:9px\"> GuruFocus.com</span></div></div></td></tr>\n",
       " <tr><td align=\"right\" style=\"white-space:nowrap\" width=\"130\">May-19-20 01:00PM  </td><td align=\"left\"><div class=\"news-link-container\"><div class=\"news-link-left\"><a class=\"tab-link-news\" href=\"https://finance.yahoo.com/news/bill-ackman-bulks-top-positions-170059095.html\" target=\"_blank\">Bill Ackman Bulks Up on Top Positions After $2.6 Billion Payoff</a></div><div class=\"news-link-right\"><span style=\"color:#aa6dc0;font-size:9px\"> GuruFocus.com</span></div></div></td></tr>\n",
       " <tr><td align=\"right\" style=\"white-space:nowrap\" width=\"130\">May-18-20 10:39AM  </td><td align=\"left\"><div class=\"news-link-container\"><div class=\"news-link-left\"><a class=\"tab-link-news\" href=\"https://finance.yahoo.com/news/agilent-gears-q2-earnings-whats-143902027.html\" target=\"_blank\">Agilent (A) Gears Up for Q2 Earnings: What's in the Cards?</a></div><div class=\"news-link-right\"><span style=\"color:#aa6dc0;font-size:9px\"> Zacks</span></div></div></td></tr>\n",
       " <tr><td align=\"right\" style=\"white-space:nowrap\" width=\"130\">May-16-20 09:15AM  </td><td align=\"left\"><div class=\"news-link-container\"><div class=\"news-link-left\"><a class=\"tab-link-news\" href=\"https://www.barrons.com/articles/health-care-stocks-widely-owned-by-esg-funds-outperform-51589634901?siteid=yhoof2\" target=\"_blank\">Merck, Medtronic, and Other Health-Care Stocks Widely Owned by ESG Funds Outperform</a></div><div class=\"news-link-right\"><span style=\"color:#aa6dc0;font-size:9px\"> Barrons.com</span></div></div></td></tr>\n",
       " <tr><td align=\"right\" style=\"white-space:nowrap\" width=\"130\">May-15-20 08:15PM  </td><td align=\"left\"><div class=\"news-link-container\"><div class=\"news-link-left\"><a class=\"tab-link-news\" href=\"https://www.barrons.com/articles/can-amazon-solve-the-covid-19-testing-challenge-51589588121?siteid=yhoof2\" target=\"_blank\">Can Amazon Solve the Covid-19 Testing Challenge?</a></div><div class=\"news-link-right\"><span style=\"color:#aa6dc0;font-size:9px\"> Barrons.com</span></div></div></td></tr>\n",
       " <tr><td align=\"right\" width=\"130\">03:08PM  </td><td align=\"left\"><div class=\"news-link-container\"><div class=\"news-link-left\"><a class=\"tab-link-news\" href=\"http://www.moodys.com/page/viewresearchdoc.aspx?docid=PR_422497&amp;cid=HFGG75LYEO30\" target=\"_blank\">Agilent Technologies, Inc. -- Moody's announces completion of a periodic review of ratings of Agilent Technologies, Inc.</a></div><div class=\"news-link-right\"><span style=\"color:#aa6dc0;font-size:9px\"> Moody's</span></div></div></td></tr>\n",
       " <tr><td align=\"right\" style=\"white-space:nowrap\" width=\"130\">May-14-20 12:30PM  </td><td align=\"left\"><div class=\"news-link-container\"><div class=\"news-link-left\"><a class=\"tab-link-news\" href=\"https://finance.yahoo.com/news/earnings-preview-agilent-technologies-q2-163004008.html\" target=\"_blank\">Earnings Preview: Agilent Technologies (A) Q2 Earnings Expected to Decline</a></div><div class=\"news-link-right\"><span style=\"color:#aa6dc0;font-size:9px\"> Zacks</span></div></div></td></tr>\n",
       " <tr><td align=\"right\" style=\"white-space:nowrap\" width=\"130\">May-12-20 08:00AM  </td><td align=\"left\"><div class=\"news-link-container\"><div class=\"news-link-left\"><a class=\"tab-link-news\" href=\"https://finance.yahoo.com/news/agilent-awards-trilogy-sciences-golden-120000973.html\" target=\"_blank\">Agilent Awards Trilogy Sciences with a Golden Ticket at LabCentral</a></div><div class=\"news-link-right\"><span style=\"color:#aa6dc0;font-size:9px\"> Business Wire</span></div></div></td></tr>\n",
       " <tr><td align=\"right\" style=\"white-space:nowrap\" width=\"130\">May-07-20 01:27PM  </td><td align=\"left\"><div class=\"news-link-container\"><div class=\"news-link-left\"><a class=\"tab-link-news\" href=\"https://finance.yahoo.com/news/3-stocks-growing-earnings-fast-172751893.html\" target=\"_blank\">3 Stocks Growing Their Earnings Fast</a></div><div class=\"news-link-right\"><span style=\"color:#aa6dc0;font-size:9px\"> GuruFocus.com</span></div></div></td></tr>\n",
       " <tr><td align=\"right\" style=\"white-space:nowrap\" width=\"130\">May-06-20 03:06PM  </td><td align=\"left\"><div class=\"news-link-container\"><div class=\"news-link-left\"><a class=\"tab-link-news\" href=\"https://www.marketwatch.com/story/coronavirus-update-us-death-toll-tops-71000-as-trump-backs-off-plan-to-wind-down-pandemic-task-force-2020-05-06?siteid=yhoof2\" target=\"_blank\">Coronavirus update: U.S. death toll tops 71,000, as Trump backs off plan to wind down pandemic task force</a></div><div class=\"news-link-right\"><span style=\"color:#aa6dc0;font-size:9px\"> MarketWatch</span></div></div></td></tr>\n",
       " <tr><td align=\"right\" style=\"white-space:nowrap\" width=\"130\">May-05-20 08:09AM  </td><td align=\"left\"><div class=\"news-link-container\"><div class=\"news-link-left\"><a class=\"tab-link-news\" href=\"http://www.moodys.com/page/viewresearchdoc.aspx?docid=PR_422574&amp;cid=HFGG75LYEO30\" target=\"_blank\">Agilent Technologies, Inc. -- Moody's assigns P-2 rating to Agilent's new commercial paper program, affirms Baa2 rating, outlook stable</a></div><div class=\"news-link-right\"><span style=\"color:#aa6dc0;font-size:9px\"> Moody's</span></div></div></td></tr>\n",
       " <tr><td align=\"right\" style=\"white-space:nowrap\" width=\"130\">May-01-20 06:06AM  </td><td align=\"left\"><div class=\"news-link-container\"><div class=\"news-link-left\"><a class=\"tab-link-news\" href=\"https://finance.yahoo.com/news/did-agilent-technologies-nyse-share-100624056.html\" target=\"_blank\">Did Agilent Technologies' (NYSE:A) Share Price Deserve to Gain 80%?</a></div><div class=\"news-link-right\"><span style=\"color:#aa6dc0;font-size:9px\"> Simply Wall St.</span></div></div></td></tr>\n",
       " <tr><td align=\"right\" style=\"white-space:nowrap\" width=\"130\">Apr-30-20 10:44AM  </td><td align=\"left\"><div class=\"news-link-container\"><div class=\"news-link-left\"><a class=\"tab-link-news\" href=\"https://finance.yahoo.com/news/market-timing-secrets-no-one-144402482.html\" target=\"_blank\">The Market Timing Secrets No One Talks About - April 30, 2020</a></div><div class=\"news-link-right\"><span style=\"color:#aa6dc0;font-size:9px\"> Zacks</span></div></div></td></tr>\n",
       " <tr><td align=\"right\" style=\"white-space:nowrap\" width=\"130\">Apr-23-20 08:00AM  </td><td align=\"left\"><div class=\"news-link-container\"><div class=\"news-link-left\"><a class=\"tab-link-news\" href=\"https://finance.yahoo.com/news/agilent-receives-fda-approval-pd-120000019.html\" target=\"_blank\">Agilent Receives FDA Approval for PD-L1 Companion Diagnostic on Dako Omnis</a></div><div class=\"news-link-right\"><span style=\"color:#aa6dc0;font-size:9px\"> Business Wire</span></div></div></td></tr>\n",
       " <tr><td align=\"right\" style=\"white-space:nowrap\" width=\"130\">Apr-22-20 08:00AM  </td><td align=\"left\"><div class=\"news-link-container\"><div class=\"news-link-left\"><a class=\"tab-link-news\" href=\"https://finance.yahoo.com/news/agilent-signs-sponsorship-agreement-green-120000679.html\" target=\"_blank\">Agilent Signs Sponsorship Agreement with My Green Lab</a></div><div class=\"news-link-right\"><span style=\"color:#aa6dc0;font-size:9px\"> Business Wire</span></div></div></td></tr>\n",
       " <tr><td align=\"right\" style=\"white-space:nowrap\" width=\"130\">Apr-17-20 09:50AM  </td><td align=\"left\"><div class=\"news-link-container\"><div class=\"news-link-left\"><a class=\"tab-link-news\" href=\"https://realmoney.thestreet.com/investing/agilent-technologies-could-regain-its-former-peak-15295978?puc=yahoo&amp;cm_ven=YAHOO\" target=\"_blank\">Agilent Technologies Could Regain Its Former Peak</a></div><div class=\"news-link-right\"><span style=\"color:#aa6dc0;font-size:9px\"> TheStreet.com</span></div></div></td></tr>\n",
       " <tr><td align=\"right\" style=\"white-space:nowrap\" width=\"130\">Apr-15-20 09:37AM  </td><td align=\"left\"><div class=\"news-link-container\"><div class=\"news-link-left\"><a class=\"tab-link-news\" href=\"https://finance.yahoo.com/news/agilent-withdraws-q2-fy20-view-133701723.html\" target=\"_blank\">Agilent (A) Withdraws Q2 &amp; FY20 View Amid Coronavirus Crisis</a></div><div class=\"news-link-right\"><span style=\"color:#aa6dc0;font-size:9px\"> Zacks</span></div></div></td></tr>\n",
       " <tr><td align=\"right\" style=\"white-space:nowrap\" width=\"130\">Apr-14-20 07:10PM  </td><td align=\"left\"><div class=\"news-link-container\"><div class=\"news-link-left\"><a class=\"tab-link-news\" href=\"https://finance.yahoo.com/news/top-1st-quarter-buys-jerome-231004160.html\" target=\"_blank\">Top 1st-Quarter Buys of Jerome Dodson's Parnassus Fund</a></div><div class=\"news-link-right\"><span style=\"color:#aa6dc0;font-size:9px\"> GuruFocus.com</span></div></div></td></tr>\n",
       " <tr><td align=\"right\" width=\"130\">08:00AM  </td><td align=\"left\"><div class=\"news-link-container\"><div class=\"news-link-left\"><a class=\"tab-link-news\" href=\"https://finance.yahoo.com/news/agilent-technologies-provides-covid-19-120000003.html\" target=\"_blank\">Agilent Technologies Provides Update on COVID-19 Impact; Sets Second-Quarter Earnings Call for May 21</a></div><div class=\"news-link-right\"><span style=\"color:#aa6dc0;font-size:9px\"> Business Wire</span></div></div></td></tr>\n",
       " <tr><td align=\"right\" style=\"white-space:nowrap\" width=\"130\">Apr-07-20 08:51AM  </td><td align=\"left\"><div class=\"news-link-container\"><div class=\"news-link-left\"><a class=\"tab-link-news\" href=\"https://finance.yahoo.com/news/timing-market-possible-april-07-125112808.html\" target=\"_blank\">Timing the Market, Is it Possible? - April 07, 2020</a></div><div class=\"news-link-right\"><span style=\"color:#aa6dc0;font-size:9px\"> Zacks</span></div></div></td></tr>\n",
       " <tr><td align=\"right\" style=\"white-space:nowrap\" width=\"130\">Apr-06-20 08:39PM  </td><td align=\"left\"><div class=\"news-link-container\"><div class=\"news-link-left\"><a class=\"tab-link-news\" href=\"https://finance.yahoo.com/news/ackman-said-coronavirus-made-him-224856231.html\" target=\"_blank\">Coronavirus Had Ackman Consider Liquidating Portfolio</a></div><div class=\"news-link-right\"><span style=\"color:#aa6dc0;font-size:9px\"> Bloomberg</span> <span class=\"body-table-news-gain\">+5.60%</span></div></div></td></tr>\n",
       " <tr><td align=\"right\" style=\"white-space:nowrap\" width=\"130\">Apr-01-20 06:20AM  </td><td align=\"left\"><div class=\"news-link-container\"><div class=\"news-link-left\"><a class=\"tab-link-news\" href=\"https://finance.yahoo.com/news/look-fair-value-agilent-technologies-102000455.html\" target=\"_blank\">A Look At The Fair Value Of Agilent Technologies, Inc. (NYSE:A)</a></div><div class=\"news-link-right\"><span style=\"color:#aa6dc0;font-size:9px\"> Simply Wall St.</span></div></div></td></tr>\n",
       " <tr><td align=\"right\" style=\"white-space:nowrap\" width=\"130\">Mar-31-20 08:00AM  </td><td align=\"left\"><div class=\"news-link-container\"><div class=\"news-link-left\"><a class=\"tab-link-news\" href=\"https://finance.yahoo.com/news/agilent-introduces-handheld-raw-material-120000378.html\" target=\"_blank\">Agilent Introduces New Handheld Raw Material ID System for Pharmaceutical Manufacturers</a></div><div class=\"news-link-right\"><span style=\"color:#aa6dc0;font-size:9px\"> Business Wire</span></div></div></td></tr>\n",
       " <tr><td align=\"right\" style=\"white-space:nowrap\" width=\"130\">Mar-30-20 01:00PM  </td><td align=\"left\"><div class=\"news-link-container\"><div class=\"news-link-left\"><a class=\"tab-link-news\" href=\"https://finance.yahoo.com/news/agilent-technologies-change-location-annual-170000298.html\" target=\"_blank\">Agilent Technologies to Change Location of Annual Meeting</a></div><div class=\"news-link-right\"><span style=\"color:#aa6dc0;font-size:9px\"> Business Wire</span></div></div></td></tr>\n",
       " <tr><td align=\"right\" width=\"130\">08:00AM  </td><td align=\"left\"><div class=\"news-link-container\"><div class=\"news-link-left\"><a class=\"tab-link-news\" href=\"https://finance.yahoo.com/news/agilent-announces-class-1-triple-120000144.html\" target=\"_blank\">Agilent Announces New Class 1 Triple Quadrupole LC/MS System</a></div><div class=\"news-link-right\"><span style=\"color:#aa6dc0;font-size:9px\"> Business Wire</span></div></div></td></tr>\n",
       " <tr><td align=\"right\" style=\"white-space:nowrap\" width=\"130\">Mar-27-20 12:20PM  </td><td align=\"left\"><div class=\"news-link-container\"><div class=\"news-link-left\"><a class=\"tab-link-news\" href=\"https://www.bizjournals.com/charlotte/news/2020/03/27/belk-ceo-confirms-furloughs-at-corporate-office.html?ana=yahoo\" target=\"_blank\">Belk CEO confirms furloughs at corporate office</a></div><div class=\"news-link-right\"><span style=\"color:#aa6dc0;font-size:9px\"> American City Business Journals</span></div></div></td></tr>\n",
       " <tr><td align=\"right\" width=\"130\">08:44AM  </td><td align=\"left\"><div class=\"news-link-container\"><div class=\"news-link-left\"><a class=\"tab-link-news\" href=\"https://www.bizjournals.com/jacksonville/news/2020/03/27/patriots-new-cco-talks-growth-acquisitions-and.html?ana=yahoo\" target=\"_blank\">Patriot's new CCO talks growth, acquisitions and coronavirus</a></div><div class=\"news-link-right\"><span style=\"color:#aa6dc0;font-size:9px\"> American City Business Journals</span></div></div></td></tr>\n",
       " <tr><td align=\"right\" style=\"white-space:nowrap\" width=\"130\">Mar-26-20 06:00AM  </td><td align=\"left\"><div class=\"news-link-container\"><div class=\"news-link-left\"><a class=\"tab-link-news\" href=\"https://finance.yahoo.com/news/agilent-technologies-diagnostics-life-sciences-100000395.html\" target=\"_blank\">Agilent Technologies- Diagnostics and Life Sciences</a></div><div class=\"news-link-right\"><span style=\"color:#aa6dc0;font-size:9px\"> MoneyShow</span> <span class=\"body-table-news-gain\">+6.84%</span></div></div></td></tr>\n",
       " <tr><td align=\"right\" style=\"white-space:nowrap\" width=\"130\">Mar-25-20 05:30PM  </td><td align=\"left\"><div class=\"news-link-container\"><div class=\"news-link-left\"><a class=\"tab-link-news\" href=\"https://finance.yahoo.com/news/bill-ackman-puts-part-personal-130308027.html\" target=\"_blank\">Bill Ackman Puts Part of His Personal Fortune in Covid-19 Testing</a></div><div class=\"news-link-right\"><span style=\"color:#aa6dc0;font-size:9px\"> Bloomberg</span></div></div></td></tr>\n",
       " <tr><td align=\"right\" width=\"130\">10:52AM  </td><td align=\"left\"><div class=\"news-link-container\"><div class=\"news-link-left\"><a class=\"tab-link-news\" href=\"https://www.barrons.com/articles/how-bill-ackman-turned-27-million-into-2-6-billion-during-the-coronavirus-crisis-51585147940?siteid=yhoof2\" target=\"_blank\">How Bill Ackman Turned $27 Million Into $2.6 Billion During the Coronavirus Crisis</a></div><div class=\"news-link-right\"><span style=\"color:#aa6dc0;font-size:9px\"> Barrons.com</span></div></div></td></tr>\n",
       " <tr><td align=\"right\" style=\"white-space:nowrap\" width=\"130\">Mar-22-20 10:15AM  </td><td align=\"left\"><div class=\"news-link-container\"><div class=\"news-link-left\"><a class=\"tab-link-news\" href=\"https://www.marketwatch.com/story/what-apple-walmart-and-other-us-companies-are-saying-about-the-coronavirus-2020-02-18?siteid=yhoof2\" target=\"_blank\">What Apple, Microsoft, GE and other U.S. companies are saying about the coronavirus outbreak</a></div><div class=\"news-link-right\"><span style=\"color:#aa6dc0;font-size:9px\"> MarketWatch</span></div></div></td></tr>\n",
       " <tr><td align=\"right\" style=\"white-space:nowrap\" width=\"130\">Mar-20-20 05:50PM  </td><td align=\"left\"><div class=\"news-link-container\"><div class=\"news-link-left\"><a class=\"tab-link-news\" href=\"https://finance.yahoo.com/news/agilent-technologies-gains-market-dips-215009731.html\" target=\"_blank\">Agilent Technologies (A) Gains As Market Dips: What You Should Know</a></div><div class=\"news-link-right\"><span style=\"color:#aa6dc0;font-size:9px\"> Zacks</span></div></div></td></tr>\n",
       " <tr><td align=\"right\" style=\"white-space:nowrap\" width=\"130\">Mar-19-20 03:38PM  </td><td align=\"left\"><div class=\"news-link-container\"><div class=\"news-link-left\"><a class=\"tab-link-news\" href=\"https://finance.yahoo.com/news/6-med-tech-medical-device-193859756.html\" target=\"_blank\">6 Med-Tech and Medical-Device Stocks to Buy</a></div><div class=\"news-link-right\"><span style=\"color:#aa6dc0;font-size:9px\"> Kiplinger</span></div></div></td></tr>\n",
       " <tr><td align=\"right\" width=\"130\">11:30AM  </td><td align=\"left\"><div class=\"news-link-container\"><div class=\"news-link-left\"><a class=\"tab-link-news\" href=\"https://finance.yahoo.com/news/why-agilent-down-19-3-153003233.html\" target=\"_blank\">Why Is Agilent (A) Down 19.3% Since Last Earnings Report?</a></div><div class=\"news-link-right\"><span style=\"color:#aa6dc0;font-size:9px\"> Zacks</span></div></div></td></tr>\n",
       " </table>}"
      ]
     },
     "execution_count": 40,
     "metadata": {},
     "output_type": "execute_result"
    }
   ],
   "source": [
    "news_tables"
   ]
  },
  {
   "cell_type": "code",
   "execution_count": 41,
   "metadata": {},
   "outputs": [
    {
     "name": "stdout",
     "output_type": "stream",
     "text": [
      "Agilent Announces the Availability of Objective Decision Support for Pathologists Reviewing Breast Cancer Cases\n",
      "-0.4019\n",
      "Dow Jones Rises 530 Points On Stimulus Hopes; Several Leading Stocks Break Out\n",
      "0.4215\n",
      "Nike, OrganiGram, Thermo Fisher, Danaher Corp and Agilent Tech highlighted as Zacks Bull and Bear of the Day\n",
      "0.0\n",
      "Agilent (A) Up 2% Since Last Earnings Report: Can It Continue?\n",
      "0.0\n",
      "Agilent Expands Line of Innovative Flow Cytometers with the NovoCyte Penteon\n",
      "0.5106\n",
      "What Does Agilent Technologies' (NYSE:A) CEO Pay Reveal?\n",
      "-0.1027\n",
      "Agilent Announces Cash Dividend of 18 Cents Per Share\n",
      "0.296\n",
      "Hedge Funds Are Coming Back To Agilent Technologies Inc. (A)\n",
      "0.0\n",
      "Agilent Announces Webcast for Investment Community\n",
      "0.0\n",
      "Agilent Announces SureSelect XT HS2 RNA Reagent Kit, a Library Prep and Target Enrichment Solution for RNA-Seq\n",
      "0.3182\n",
      "Why Agilent Technologies (A) Stock is a Compelling Investment Case\n",
      "0.2263\n",
      "Agilent Sets the Standard in Customer Flexibility with Analytical Technology Subscription Model\n",
      "0.34\n",
      "P/E Ratio Insights for Agilent Technologies\n",
      "0.0\n",
      "Agilent's (A) Q3 Earnings Beat Estimates, Revenues Down Y/Y\n",
      "0.0\n",
      "Agilent Falls In Pre-Market As Quarterly Sales Miss; Oppenheimer Says Hold\n",
      "-0.1531\n",
      "Agilent Technologies Inc (A) Q3 2020 Earnings Call Transcript\n",
      "0.0\n",
      "Agilent Technologies (A) Beats Q3 Earnings and Revenue Estimates\n",
      "0.0\n",
      "Agilent Technologies shares dip 2% on decline in revenue\n",
      "0.296\n",
      "Agilent Reports Third-Quarter Fiscal Year 2020 Financial Results\n",
      "0.0\n",
      "Agilent's Debt Overview\n",
      "-0.3612\n",
      "Agilent to Expand State-of-the-Art Manufacturing Capacity for Nucleic Acid-Based Therapeutics\n",
      "0.3182\n",
      "Bill Ackman Bows Out of Berkshire, Blackstone and Park Hotels & Resorts\n",
      "0.0\n",
      "MOBILion Closes $35M Series B Financing Round\n",
      "0.0\n",
      "Not Your Fathers Tesla\n",
      "0.0\n",
      "The Zacks Analyst Blog Highlights: JD, Agilent, Nordson, Deere and Dollar General\n",
      "0.0\n",
      "Agilent (A) Gears Up for Q3 Earnings: What's in the Cards?\n",
      "0.0\n",
      "What Is The Ownership Structure Like For Agilent Technologies, Inc. (NYSE:A)?\n",
      "0.3612\n",
      "At US$96.30, Is Agilent Technologies, Inc. (NYSE:A) Worth Looking At Closely?\n",
      "0.2263\n",
      "Agilent Technologies (A) Expected to Beat Earnings Estimates: Should You Buy?\n",
      "0.0\n",
      "Here's Why Momentum Investors Will Love Agilent Technologies (A)\n",
      "0.6369\n",
      "Agilent Technologies At Upper End Of Buy Range With Earnings Due\n",
      "0.0\n",
      "Tractor Supply, Tanger Factory, Cisco, Agilent and Benefitfocus as Zacks Bull and Bear of the Day\n",
      "0.0\n",
      "Agilent to Webcast Third-Quarter Fiscal Year 2020 Financial Results Conference Call\n",
      "0.0\n",
      "What Makes Agilent (A) a New Buy Stock\n",
      "0.0\n",
      "Are You Looking for a Top Momentum Pick? Why Agilent Technologies (A) is a Great Choice\n",
      "0.7096\n",
      "Agilent Technologies, Inc.'s (NYSE:A) Stock's On An Uptrend: Are Strong Financials Guiding The Market?\n",
      "0.5106\n",
      "Did Hedge Funds Make The Right Call On Agilent Technologies Inc. (A) ?\n",
      "0.0\n",
      "European stocks surge as U.S. economy adds 4.8 million jobs in June\n",
      "0.0\n",
      "The 100 Most Sustainable Companies, Reranked by Social Factors\n",
      "0.0\n",
      "Agilent (A) Up 9.9% Since Last Earnings Report: Can It Continue?\n",
      "0.0\n",
      "Billions or trillions: The great coronavirus trade-off\n",
      "0.6249\n",
      "Zacks.com featured highlights include: Lowes Companies, Charles River Laboratories International, Agilent Technologies and East West\n",
      "0.0\n",
      "4 GARP Stocks to Scoop Up for Maximum Returns\n",
      "0.1531\n",
      "Agilent Technologies Could Trade Still Higher in the Weeks Ahead\n",
      "0.0\n",
      "Agilent (A) Launches Two Products in Mass Spectrometry\n",
      "0.0\n",
      "Agilent Technologies Inc. (A): Are Hedge Funds Right About This Stock?\n",
      "0.0\n",
      "Agilent's Shares March Higher, Can It Continue?\n",
      "0.296\n",
      "Agilent (A) Announces Proposed Offering of Senior Notes\n",
      "0.0\n",
      "Agilent Technologies Announces Pricing of $500 Million of Senior Notes\n",
      "0.0\n",
      "Agilent Technologies, Inc. -- Moody's assigns Baa2 rating to Agilent's notes offering\n",
      "0.0\n",
      "Agilent files for an offering of senior notes\n",
      "Agilent files for an offering of senior notes\n",
      "Agilent Technologies Announces Proposed Offering of Senior Notes\n",
      "0.0\n",
      "Agilent Announces New Mass Spectrometry Products at ASMS 2020 Reboot\n",
      "0.0\n",
      "Recent Stock Rally May Trip Up Activist Investors\n",
      "0.0\n",
      "Why hedge-fund manager Bill Ackman says he dumped Berkshire Hathaway but held on to these winners\n",
      "0.5106\n",
      "Billionaire Ackman Exits Berkshire Hathaway, Blackstone To Fund Opportunities\n",
      "0.3818\n",
      "Agilent to Present at Jefferies Virtual Healthcare Conference\n",
      "0.0\n",
      "Agilent Up 5% On Solid Revenue Beat, But Top Analysts Stay Cautious\n",
      "0.25\n",
      "Coronavirus update: U.S. death toll approaches 100,000 as CDCs testing practices are criticized by health experts\n",
      "-0.7506\n",
      "Edited Transcript of A earnings conference call or presentation 21-May-20 8:30pm GMT\n",
      "0.0\n",
      "Agilent's (A) Q2 Earnings Beat Estimates, Revenues Down Y/Y\n",
      "0.0\n",
      "Agilent Technologies Inc (A) Q2 2020 Earnings Call Transcript\n",
      "0.0\n",
      "Agilent Technologies (A) Beats Q2 Earnings and Revenue Estimates\n",
      "0.0\n",
      "Agilent shares rise after company tops earnings expectations\n",
      "Agilent shares rise after company tops earnings expectations\n",
      "Agilent Reports Second-Quarter Fiscal Year 2020 Financial Results\n",
      "0.0\n",
      "Agilent Announces Cash Dividend of 18 Cents Per Share\n",
      "0.296\n",
      "Bill Ackman Adds 2 Stocks to Portfolio, Expands Agilent and Howard Hughes Stakes\n",
      "0.1027\n",
      "Bill Ackman Bulks Up on Top Positions After $2.6 Billion Payoff\n",
      "0.2023\n",
      "Agilent (A) Gears Up for Q2 Earnings: What's in the Cards?\n",
      "0.0\n",
      "Merck, Medtronic, and Other Health-Care Stocks Widely Owned by ESG Funds Outperform\n",
      "0.0\n",
      "Can Amazon Solve the Covid-19 Testing Challenge?\n",
      "0.4215\n",
      "Agilent Technologies, Inc. -- Moody's announces completion of a periodic review of ratings of Agilent Technologies, Inc.\n",
      "0.0\n",
      "Earnings Preview: Agilent Technologies (A) Q2 Earnings Expected to Decline\n",
      "0.0\n",
      "Agilent Awards Trilogy Sciences with a Golden Ticket at LabCentral\n",
      "0.4588\n",
      "3 Stocks Growing Their Earnings Fast\n",
      "0.1779\n",
      "Coronavirus update: U.S. death toll tops 71,000, as Trump backs off plan to wind down pandemic task force\n",
      "-0.2023\n",
      "Agilent Technologies, Inc. -- Moody's assigns P-2 rating to Agilent's new commercial paper program, affirms Baa2 rating, outlook stable\n",
      "0.296\n",
      "Did Agilent Technologies' (NYSE:A) Share Price Deserve to Gain 80%?\n",
      "0.6808\n",
      "The Market Timing Secrets No One Talks About - April 30, 2020\n",
      "-0.296\n",
      "Agilent Receives FDA Approval for PD-L1 Companion Diagnostic on Dako Omnis\n",
      "0.4767\n",
      "Agilent Signs Sponsorship Agreement with My Green Lab\n",
      "0.4939\n",
      "Agilent Technologies Could Regain Its Former Peak\n",
      "0.0\n",
      "Agilent (A) Withdraws Q2 & FY20 View Amid Coronavirus Crisis\n",
      "-0.6249\n",
      "Top 1st-Quarter Buys of Jerome Dodson's Parnassus Fund\n",
      "0.0\n",
      "Agilent Technologies Provides Update on COVID-19 Impact; Sets Second-Quarter Earnings Call for May 21\n",
      "0.0\n",
      "Timing the Market, Is it Possible? - April 07, 2020\n",
      "0.0\n",
      "Coronavirus Had Ackman Consider Liquidating Portfolio\n",
      "0.0\n",
      "A Look At The Fair Value Of Agilent Technologies, Inc. (NYSE:A)\n",
      "0.5719\n",
      "Agilent Introduces New Handheld Raw Material ID System for Pharmaceutical Manufacturers\n",
      "0.0\n",
      "Agilent Technologies to Change Location of Annual Meeting\n",
      "0.0\n",
      "Agilent Announces New Class 1 Triple Quadrupole LC/MS System\n",
      "0.0\n",
      "Belk CEO confirms furloughs at corporate office\n",
      "0.0\n",
      "Patriot's new CCO talks growth, acquisitions and coronavirus\n",
      "0.3818\n",
      "Agilent Technologies- Diagnostics and Life Sciences\n",
      "0.0\n",
      "Bill Ackman Puts Part of His Personal Fortune in Covid-19 Testing\n",
      "0.0\n",
      "How Bill Ackman Turned $27 Million Into $2.6 Billion During the Coronavirus Crisis\n",
      "-0.6249\n",
      "What Apple, Microsoft, GE and other U.S. companies are saying about the coronavirus outbreak\n",
      "0.0\n",
      "Agilent Technologies (A) Gains As Market Dips: What You Should Know\n",
      "0.34\n",
      "6 Med-Tech and Medical-Device Stocks to Buy\n",
      "0.0\n",
      "Why Is Agilent (A) Down 19.3% Since Last Earnings Report?\n",
      "0.0\n"
     ]
    }
   ],
   "source": [
    "for i in news_tables[stock].find_all('div', {'class' : 'news-link-left'}):\n",
    "    \n",
    "    try:\n",
    "        print(i.text)\n",
    "    \n",
    "#         print(re.search(' [A-Z].*$',i.text).group())\n",
    "\n",
    "        print(analyzer.polarity_scores(re.search(' [A-Z].*$',i.text).group()).get('compound'))\n",
    "        \n",
    "    except:\n",
    "        \n",
    "        print(i.text)\n"
   ]
  },
  {
   "cell_type": "code",
   "execution_count": null,
   "metadata": {},
   "outputs": [],
   "source": []
  },
  {
   "cell_type": "markdown",
   "metadata": {},
   "source": [
    "## Google Trends API Docs\n",
    "\n",
    "https://pypi.org/project/pytrends/"
   ]
  },
  {
   "cell_type": "code",
   "execution_count": 42,
   "metadata": {},
   "outputs": [],
   "source": [
    "from pytrends.request import TrendReq\n",
    "\n",
    "pytrends = TrendReq(hl='en-US', tz=360)"
   ]
  },
  {
   "cell_type": "code",
   "execution_count": 43,
   "metadata": {},
   "outputs": [],
   "source": [
    "yesterday = (date.today() - timedelta(days = 1)).strftime(\"%Y-%m-%d\")\n",
    "trail_30 = (date.today() - timedelta(days = 30)).strftime(\"%Y-%m-%d\")"
   ]
  },
  {
   "cell_type": "code",
   "execution_count": 44,
   "metadata": {},
   "outputs": [
    {
     "data": {
      "text/plain": [
       "'2020-09-09 2020-10-08'"
      ]
     },
     "execution_count": 44,
     "metadata": {},
     "output_type": "execute_result"
    }
   ],
   "source": [
    "f'{trail_30} {yesterday}'"
   ]
  },
  {
   "cell_type": "code",
   "execution_count": 54,
   "metadata": {},
   "outputs": [],
   "source": [
    "kw_list = [stock + \" stock\"]\n",
    "pytrends.build_payload(kw_list, cat=0, timeframe=f'{trail_30} {yesterday}', geo='US', gprop='')"
   ]
  },
  {
   "cell_type": "code",
   "execution_count": 55,
   "metadata": {},
   "outputs": [
    {
     "data": {
      "text/html": [
       "<div>\n",
       "<style scoped>\n",
       "    .dataframe tbody tr th:only-of-type {\n",
       "        vertical-align: middle;\n",
       "    }\n",
       "\n",
       "    .dataframe tbody tr th {\n",
       "        vertical-align: top;\n",
       "    }\n",
       "\n",
       "    .dataframe thead th {\n",
       "        text-align: right;\n",
       "    }\n",
       "</style>\n",
       "<table border=\"1\" class=\"dataframe\">\n",
       "  <thead>\n",
       "    <tr style=\"text-align: right;\">\n",
       "      <th></th>\n",
       "      <th>date</th>\n",
       "      <th>MSFT stock</th>\n",
       "      <th>isPartial</th>\n",
       "    </tr>\n",
       "  </thead>\n",
       "  <tbody>\n",
       "    <tr>\n",
       "      <th>0</th>\n",
       "      <td>2020-09-09</td>\n",
       "      <td>100</td>\n",
       "      <td>False</td>\n",
       "    </tr>\n",
       "    <tr>\n",
       "      <th>1</th>\n",
       "      <td>2020-09-10</td>\n",
       "      <td>76</td>\n",
       "      <td>False</td>\n",
       "    </tr>\n",
       "    <tr>\n",
       "      <th>2</th>\n",
       "      <td>2020-09-11</td>\n",
       "      <td>62</td>\n",
       "      <td>False</td>\n",
       "    </tr>\n",
       "    <tr>\n",
       "      <th>3</th>\n",
       "      <td>2020-09-12</td>\n",
       "      <td>20</td>\n",
       "      <td>False</td>\n",
       "    </tr>\n",
       "    <tr>\n",
       "      <th>4</th>\n",
       "      <td>2020-09-13</td>\n",
       "      <td>13</td>\n",
       "      <td>False</td>\n",
       "    </tr>\n",
       "    <tr>\n",
       "      <th>5</th>\n",
       "      <td>2020-09-14</td>\n",
       "      <td>90</td>\n",
       "      <td>False</td>\n",
       "    </tr>\n",
       "    <tr>\n",
       "      <th>6</th>\n",
       "      <td>2020-09-15</td>\n",
       "      <td>76</td>\n",
       "      <td>False</td>\n",
       "    </tr>\n",
       "    <tr>\n",
       "      <th>7</th>\n",
       "      <td>2020-09-16</td>\n",
       "      <td>58</td>\n",
       "      <td>False</td>\n",
       "    </tr>\n",
       "    <tr>\n",
       "      <th>8</th>\n",
       "      <td>2020-09-17</td>\n",
       "      <td>65</td>\n",
       "      <td>False</td>\n",
       "    </tr>\n",
       "    <tr>\n",
       "      <th>9</th>\n",
       "      <td>2020-09-18</td>\n",
       "      <td>57</td>\n",
       "      <td>False</td>\n",
       "    </tr>\n",
       "    <tr>\n",
       "      <th>10</th>\n",
       "      <td>2020-09-19</td>\n",
       "      <td>17</td>\n",
       "      <td>False</td>\n",
       "    </tr>\n",
       "    <tr>\n",
       "      <th>11</th>\n",
       "      <td>2020-09-20</td>\n",
       "      <td>12</td>\n",
       "      <td>False</td>\n",
       "    </tr>\n",
       "    <tr>\n",
       "      <th>12</th>\n",
       "      <td>2020-09-21</td>\n",
       "      <td>81</td>\n",
       "      <td>False</td>\n",
       "    </tr>\n",
       "    <tr>\n",
       "      <th>13</th>\n",
       "      <td>2020-09-22</td>\n",
       "      <td>73</td>\n",
       "      <td>False</td>\n",
       "    </tr>\n",
       "    <tr>\n",
       "      <th>14</th>\n",
       "      <td>2020-09-23</td>\n",
       "      <td>63</td>\n",
       "      <td>False</td>\n",
       "    </tr>\n",
       "    <tr>\n",
       "      <th>15</th>\n",
       "      <td>2020-09-24</td>\n",
       "      <td>65</td>\n",
       "      <td>False</td>\n",
       "    </tr>\n",
       "    <tr>\n",
       "      <th>16</th>\n",
       "      <td>2020-09-25</td>\n",
       "      <td>48</td>\n",
       "      <td>False</td>\n",
       "    </tr>\n",
       "    <tr>\n",
       "      <th>17</th>\n",
       "      <td>2020-09-26</td>\n",
       "      <td>14</td>\n",
       "      <td>False</td>\n",
       "    </tr>\n",
       "    <tr>\n",
       "      <th>18</th>\n",
       "      <td>2020-09-27</td>\n",
       "      <td>6</td>\n",
       "      <td>False</td>\n",
       "    </tr>\n",
       "    <tr>\n",
       "      <th>19</th>\n",
       "      <td>2020-09-28</td>\n",
       "      <td>52</td>\n",
       "      <td>False</td>\n",
       "    </tr>\n",
       "    <tr>\n",
       "      <th>20</th>\n",
       "      <td>2020-09-29</td>\n",
       "      <td>52</td>\n",
       "      <td>False</td>\n",
       "    </tr>\n",
       "    <tr>\n",
       "      <th>21</th>\n",
       "      <td>2020-09-30</td>\n",
       "      <td>52</td>\n",
       "      <td>False</td>\n",
       "    </tr>\n",
       "    <tr>\n",
       "      <th>22</th>\n",
       "      <td>2020-10-01</td>\n",
       "      <td>41</td>\n",
       "      <td>False</td>\n",
       "    </tr>\n",
       "    <tr>\n",
       "      <th>23</th>\n",
       "      <td>2020-10-02</td>\n",
       "      <td>46</td>\n",
       "      <td>False</td>\n",
       "    </tr>\n",
       "    <tr>\n",
       "      <th>24</th>\n",
       "      <td>2020-10-03</td>\n",
       "      <td>13</td>\n",
       "      <td>False</td>\n",
       "    </tr>\n",
       "    <tr>\n",
       "      <th>25</th>\n",
       "      <td>2020-10-04</td>\n",
       "      <td>10</td>\n",
       "      <td>False</td>\n",
       "    </tr>\n",
       "    <tr>\n",
       "      <th>26</th>\n",
       "      <td>2020-10-05</td>\n",
       "      <td>50</td>\n",
       "      <td>False</td>\n",
       "    </tr>\n",
       "    <tr>\n",
       "      <th>27</th>\n",
       "      <td>2020-10-06</td>\n",
       "      <td>51</td>\n",
       "      <td>False</td>\n",
       "    </tr>\n",
       "  </tbody>\n",
       "</table>\n",
       "</div>"
      ],
      "text/plain": [
       "         date  MSFT stock  isPartial\n",
       "0  2020-09-09         100      False\n",
       "1  2020-09-10          76      False\n",
       "2  2020-09-11          62      False\n",
       "3  2020-09-12          20      False\n",
       "4  2020-09-13          13      False\n",
       "5  2020-09-14          90      False\n",
       "6  2020-09-15          76      False\n",
       "7  2020-09-16          58      False\n",
       "8  2020-09-17          65      False\n",
       "9  2020-09-18          57      False\n",
       "10 2020-09-19          17      False\n",
       "11 2020-09-20          12      False\n",
       "12 2020-09-21          81      False\n",
       "13 2020-09-22          73      False\n",
       "14 2020-09-23          63      False\n",
       "15 2020-09-24          65      False\n",
       "16 2020-09-25          48      False\n",
       "17 2020-09-26          14      False\n",
       "18 2020-09-27           6      False\n",
       "19 2020-09-28          52      False\n",
       "20 2020-09-29          52      False\n",
       "21 2020-09-30          52      False\n",
       "22 2020-10-01          41      False\n",
       "23 2020-10-02          46      False\n",
       "24 2020-10-03          13      False\n",
       "25 2020-10-04          10      False\n",
       "26 2020-10-05          50      False\n",
       "27 2020-10-06          51      False"
      ]
     },
     "execution_count": 55,
     "metadata": {},
     "output_type": "execute_result"
    }
   ],
   "source": [
    "pytrends.interest_over_time().reset_index()"
   ]
  },
  {
   "cell_type": "code",
   "execution_count": 53,
   "metadata": {},
   "outputs": [
    {
     "data": {
      "text/plain": [
       "\"A Look At Teleflex's (NYSE:TFX) CEO Remuneration\""
      ]
     },
     "execution_count": 53,
     "metadata": {},
     "output_type": "execute_result"
    }
   ],
   "source": [
    "news_tables['TFX'].find_all('div', {'class' : 'news-link-left'})[0].text"
   ]
  },
  {
   "cell_type": "code",
   "execution_count": null,
   "metadata": {},
   "outputs": [],
   "source": []
  }
 ],
 "metadata": {
  "kernelspec": {
   "display_name": "Python 3",
   "language": "python",
   "name": "python3"
  },
  "language_info": {
   "codemirror_mode": {
    "name": "ipython",
    "version": 3
   },
   "file_extension": ".py",
   "mimetype": "text/x-python",
   "name": "python",
   "nbconvert_exporter": "python",
   "pygments_lexer": "ipython3",
   "version": "3.7.4"
  }
 },
 "nbformat": 4,
 "nbformat_minor": 4
}
